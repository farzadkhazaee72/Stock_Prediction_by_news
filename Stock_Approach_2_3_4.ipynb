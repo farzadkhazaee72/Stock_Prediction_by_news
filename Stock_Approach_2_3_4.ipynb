{
 "cells": [
  {
   "cell_type": "markdown",
   "metadata": {},
   "source": [
    "# Importing Libraries"
   ]
  },
  {
   "cell_type": "code",
   "execution_count": 60,
   "metadata": {
    "execution": {
     "iopub.execute_input": "2023-01-31T23:02:54.744274Z",
     "iopub.status.busy": "2023-01-31T23:02:54.743547Z",
     "iopub.status.idle": "2023-01-31T23:02:54.750959Z",
     "shell.execute_reply": "2023-01-31T23:02:54.749661Z",
     "shell.execute_reply.started": "2023-01-31T23:02:54.744236Z"
    }
   },
   "outputs": [],
   "source": [
    "import pandas as pd\n",
    "import numpy as np\n",
    "import tensorflow as tf\n",
    "import re\n",
    "import nltk\n",
    "from nltk.corpus import stopwords\n",
    "from sklearn.model_selection import train_test_split\n",
    "from sklearn.metrics import mean_absolute_error as mae\n",
    "from sklearn.metrics import mean_squared_error as mse\n",
    "import matplotlib.pyplot as plt"
   ]
  },
  {
   "cell_type": "code",
   "execution_count": 61,
   "metadata": {
    "execution": {
     "iopub.execute_input": "2023-01-31T23:02:54.757464Z",
     "iopub.status.busy": "2023-01-31T23:02:54.756785Z",
     "iopub.status.idle": "2023-01-31T23:02:54.764812Z",
     "shell.execute_reply": "2023-01-31T23:02:54.763710Z",
     "shell.execute_reply.started": "2023-01-31T23:02:54.757421Z"
    }
   },
   "outputs": [],
   "source": [
    "from nltk.stem import WordNetLemmatizer\n",
    "from textblob import TextBlob \n",
    "from textblob import Word\n",
    "from nltk.stem import PorterStemmer\n",
    "import string\n",
    "from nltk.tokenize import word_tokenize\n",
    "from nltk import pos_tag\n",
    "import re"
   ]
  },
  {
   "cell_type": "code",
   "execution_count": 62,
   "metadata": {
    "execution": {
     "iopub.execute_input": "2023-01-31T23:02:54.773881Z",
     "iopub.status.busy": "2023-01-31T23:02:54.773545Z",
     "iopub.status.idle": "2023-01-31T23:02:54.892052Z",
     "shell.execute_reply": "2023-01-31T23:02:54.890887Z",
     "shell.execute_reply.started": "2023-01-31T23:02:54.773854Z"
    }
   },
   "outputs": [
    {
     "name": "stderr",
     "output_type": "stream",
     "text": [
      "[nltk_data] Downloading package stopwords to /usr/share/nltk_data...\n",
      "[nltk_data]   Package stopwords is already up-to-date!\n"
     ]
    },
    {
     "data": {
      "text/plain": [
       "True"
      ]
     },
     "execution_count": 62,
     "metadata": {},
     "output_type": "execute_result"
    }
   ],
   "source": [
    "nltk.download('stopwords')"
   ]
  },
  {
   "cell_type": "code",
   "execution_count": 63,
   "metadata": {
    "execution": {
     "iopub.execute_input": "2023-01-31T23:02:54.895297Z",
     "iopub.status.busy": "2023-01-31T23:02:54.894481Z",
     "iopub.status.idle": "2023-01-31T23:02:54.903426Z",
     "shell.execute_reply": "2023-01-31T23:02:54.902368Z",
     "shell.execute_reply.started": "2023-01-31T23:02:54.895253Z"
    }
   },
   "outputs": [],
   "source": [
    "from tensorflow.keras import Sequential,Model\n",
    "from tensorflow.keras import initializers\n",
    "from tensorflow.keras.layers import Dense,MaxPool1D,Dropout,Embedding,Activation,Convolution1D,add,BatchNormalization,Flatten,Reshape,Concatenate,LSTM,GRU\n",
    "from tensorflow.keras.callbacks import ModelCheckpoint,ReduceLROnPlateau,EarlyStopping,Callback\n",
    "from tensorflow.keras.optimizers import Adam,SGD,Adamax,RMSprop\n",
    "from tensorflow.keras import regularizers\n",
    "from tensorflow.keras.utils import plot_model"
   ]
  },
  {
   "cell_type": "markdown",
   "metadata": {},
   "source": [
    "# Reading Datasets"
   ]
  },
  {
   "cell_type": "code",
   "execution_count": 64,
   "metadata": {
    "execution": {
     "iopub.execute_input": "2023-01-31T23:02:54.905788Z",
     "iopub.status.busy": "2023-01-31T23:02:54.905259Z",
     "iopub.status.idle": "2023-01-31T23:02:55.008014Z",
     "shell.execute_reply": "2023-01-31T23:02:55.006737Z",
     "shell.execute_reply.started": "2023-01-31T23:02:54.905748Z"
    }
   },
   "outputs": [],
   "source": [
    "data = pd.read_csv(\"../input/stocknews/Combined_News_DJIA.csv\")"
   ]
  },
  {
   "cell_type": "code",
   "execution_count": 65,
   "metadata": {
    "execution": {
     "iopub.execute_input": "2023-01-31T23:02:55.011839Z",
     "iopub.status.busy": "2023-01-31T23:02:55.011383Z",
     "iopub.status.idle": "2023-01-31T23:02:55.239888Z",
     "shell.execute_reply": "2023-01-31T23:02:55.238802Z",
     "shell.execute_reply.started": "2023-01-31T23:02:55.011797Z"
    }
   },
   "outputs": [],
   "source": [
    "dj = pd.read_csv(\"../input/stocknews/upload_DJIA_table.csv\")\n",
    "news= pd.read_csv(\"../input/stocknews/RedditNews.csv\")\n",
    "Top_news = pd.read_csv(\"../input/stocknews/Combined_News_DJIA.csv\")"
   ]
  },
  {
   "cell_type": "code",
   "execution_count": 66,
   "metadata": {
    "execution": {
     "iopub.execute_input": "2023-01-31T23:02:55.242775Z",
     "iopub.status.busy": "2023-01-31T23:02:55.241997Z",
     "iopub.status.idle": "2023-01-31T23:02:55.247980Z",
     "shell.execute_reply": "2023-01-31T23:02:55.246487Z",
     "shell.execute_reply.started": "2023-01-31T23:02:55.242735Z"
    }
   },
   "outputs": [],
   "source": [
    "# dj.isnull().sum()"
   ]
  },
  {
   "cell_type": "code",
   "execution_count": 67,
   "metadata": {
    "execution": {
     "iopub.execute_input": "2023-01-31T23:02:55.250598Z",
     "iopub.status.busy": "2023-01-31T23:02:55.250124Z",
     "iopub.status.idle": "2023-01-31T23:02:55.259774Z",
     "shell.execute_reply": "2023-01-31T23:02:55.258644Z",
     "shell.execute_reply.started": "2023-01-31T23:02:55.250558Z"
    }
   },
   "outputs": [],
   "source": [
    "# Top_news.isnull().sum()"
   ]
  },
  {
   "cell_type": "code",
   "execution_count": 68,
   "metadata": {
    "execution": {
     "iopub.execute_input": "2023-01-31T23:02:55.261406Z",
     "iopub.status.busy": "2023-01-31T23:02:55.261125Z",
     "iopub.status.idle": "2023-01-31T23:02:55.272598Z",
     "shell.execute_reply": "2023-01-31T23:02:55.271486Z",
     "shell.execute_reply.started": "2023-01-31T23:02:55.261378Z"
    }
   },
   "outputs": [
    {
     "name": "stdout",
     "output_type": "stream",
     "text": [
      "(1989, 7)\n",
      "(1989, 27)\n"
     ]
    }
   ],
   "source": [
    "print(dj.shape)\n",
    "print(Top_news.shape)"
   ]
  },
  {
   "cell_type": "markdown",
   "metadata": {},
   "source": [
    "#  Data Preprocessing"
   ]
  },
  {
   "cell_type": "code",
   "execution_count": 69,
   "metadata": {
    "execution": {
     "iopub.execute_input": "2023-01-31T23:02:55.275224Z",
     "iopub.status.busy": "2023-01-31T23:02:55.274832Z",
     "iopub.status.idle": "2023-01-31T23:02:55.297606Z",
     "shell.execute_reply": "2023-01-31T23:02:55.296359Z",
     "shell.execute_reply.started": "2023-01-31T23:02:55.275188Z"
    }
   },
   "outputs": [
    {
     "data": {
      "text/html": [
       "<div>\n",
       "<style scoped>\n",
       "    .dataframe tbody tr th:only-of-type {\n",
       "        vertical-align: middle;\n",
       "    }\n",
       "\n",
       "    .dataframe tbody tr th {\n",
       "        vertical-align: top;\n",
       "    }\n",
       "\n",
       "    .dataframe thead th {\n",
       "        text-align: right;\n",
       "    }\n",
       "</style>\n",
       "<table border=\"1\" class=\"dataframe\">\n",
       "  <thead>\n",
       "    <tr style=\"text-align: right;\">\n",
       "      <th></th>\n",
       "      <th>Open</th>\n",
       "      <th>High</th>\n",
       "      <th>Low</th>\n",
       "      <th>Close</th>\n",
       "      <th>Volume</th>\n",
       "      <th>Adj Close</th>\n",
       "    </tr>\n",
       "    <tr>\n",
       "      <th>Date</th>\n",
       "      <th></th>\n",
       "      <th></th>\n",
       "      <th></th>\n",
       "      <th></th>\n",
       "      <th></th>\n",
       "      <th></th>\n",
       "    </tr>\n",
       "  </thead>\n",
       "  <tbody>\n",
       "    <tr>\n",
       "      <th>2016-07-01</th>\n",
       "      <td>17924.240234</td>\n",
       "      <td>18002.380859</td>\n",
       "      <td>17916.910156</td>\n",
       "      <td>17949.369141</td>\n",
       "      <td>82160000</td>\n",
       "      <td>17949.369141</td>\n",
       "    </tr>\n",
       "    <tr>\n",
       "      <th>2016-06-30</th>\n",
       "      <td>17712.759766</td>\n",
       "      <td>17930.609375</td>\n",
       "      <td>17711.800781</td>\n",
       "      <td>17929.990234</td>\n",
       "      <td>133030000</td>\n",
       "      <td>17929.990234</td>\n",
       "    </tr>\n",
       "    <tr>\n",
       "      <th>2016-06-29</th>\n",
       "      <td>17456.019531</td>\n",
       "      <td>17704.509766</td>\n",
       "      <td>17456.019531</td>\n",
       "      <td>17694.679688</td>\n",
       "      <td>106380000</td>\n",
       "      <td>17694.679688</td>\n",
       "    </tr>\n",
       "    <tr>\n",
       "      <th>2016-06-28</th>\n",
       "      <td>17190.509766</td>\n",
       "      <td>17409.720703</td>\n",
       "      <td>17190.509766</td>\n",
       "      <td>17409.720703</td>\n",
       "      <td>112190000</td>\n",
       "      <td>17409.720703</td>\n",
       "    </tr>\n",
       "    <tr>\n",
       "      <th>2016-06-27</th>\n",
       "      <td>17355.210938</td>\n",
       "      <td>17355.210938</td>\n",
       "      <td>17063.080078</td>\n",
       "      <td>17140.240234</td>\n",
       "      <td>138740000</td>\n",
       "      <td>17140.240234</td>\n",
       "    </tr>\n",
       "  </tbody>\n",
       "</table>\n",
       "</div>"
      ],
      "text/plain": [
       "                    Open          High           Low         Close     Volume  \\\n",
       "Date                                                                            \n",
       "2016-07-01  17924.240234  18002.380859  17916.910156  17949.369141   82160000   \n",
       "2016-06-30  17712.759766  17930.609375  17711.800781  17929.990234  133030000   \n",
       "2016-06-29  17456.019531  17704.509766  17456.019531  17694.679688  106380000   \n",
       "2016-06-28  17190.509766  17409.720703  17190.509766  17409.720703  112190000   \n",
       "2016-06-27  17355.210938  17355.210938  17063.080078  17140.240234  138740000   \n",
       "\n",
       "               Adj Close  \n",
       "Date                      \n",
       "2016-07-01  17949.369141  \n",
       "2016-06-30  17929.990234  \n",
       "2016-06-29  17694.679688  \n",
       "2016-06-28  17409.720703  \n",
       "2016-06-27  17140.240234  "
      ]
     },
     "execution_count": 69,
     "metadata": {},
     "output_type": "execute_result"
    }
   ],
   "source": [
    "dj= dj.set_index('Date')\n",
    "dj.head()"
   ]
  },
  {
   "cell_type": "code",
   "execution_count": 70,
   "metadata": {
    "execution": {
     "iopub.execute_input": "2023-01-31T23:02:55.301803Z",
     "iopub.status.busy": "2023-01-31T23:02:55.299323Z",
     "iopub.status.idle": "2023-01-31T23:02:55.350749Z",
     "shell.execute_reply": "2023-01-31T23:02:55.349653Z",
     "shell.execute_reply.started": "2023-01-31T23:02:55.301769Z"
    }
   },
   "outputs": [
    {
     "data": {
      "text/html": [
       "<div>\n",
       "<style scoped>\n",
       "    .dataframe tbody tr th:only-of-type {\n",
       "        vertical-align: middle;\n",
       "    }\n",
       "\n",
       "    .dataframe tbody tr th {\n",
       "        vertical-align: top;\n",
       "    }\n",
       "\n",
       "    .dataframe thead th {\n",
       "        text-align: right;\n",
       "    }\n",
       "</style>\n",
       "<table border=\"1\" class=\"dataframe\">\n",
       "  <thead>\n",
       "    <tr style=\"text-align: right;\">\n",
       "      <th></th>\n",
       "      <th>Date</th>\n",
       "      <th>Label</th>\n",
       "      <th>Top1</th>\n",
       "      <th>Top2</th>\n",
       "      <th>Top3</th>\n",
       "      <th>Top4</th>\n",
       "      <th>Top5</th>\n",
       "      <th>Top6</th>\n",
       "      <th>Top7</th>\n",
       "      <th>Top8</th>\n",
       "      <th>...</th>\n",
       "      <th>Top22</th>\n",
       "      <th>Top23</th>\n",
       "      <th>Top24</th>\n",
       "      <th>Top25</th>\n",
       "      <th>Open</th>\n",
       "      <th>High</th>\n",
       "      <th>Low</th>\n",
       "      <th>Close</th>\n",
       "      <th>Volume</th>\n",
       "      <th>Adj Close</th>\n",
       "    </tr>\n",
       "  </thead>\n",
       "  <tbody>\n",
       "    <tr>\n",
       "      <th>0</th>\n",
       "      <td>2008-08-08</td>\n",
       "      <td>0</td>\n",
       "      <td>b\"Georgia 'downs two Russian warplanes' as cou...</td>\n",
       "      <td>b'BREAKING: Musharraf to be impeached.'</td>\n",
       "      <td>b'Russia Today: Columns of troops roll into So...</td>\n",
       "      <td>b'Russian tanks are moving towards the capital...</td>\n",
       "      <td>b\"Afghan children raped with 'impunity,' U.N. ...</td>\n",
       "      <td>b'150 Russian tanks have entered South Ossetia...</td>\n",
       "      <td>b\"Breaking: Georgia invades South Ossetia, Rus...</td>\n",
       "      <td>b\"The 'enemy combatent' trials are nothing but...</td>\n",
       "      <td>...</td>\n",
       "      <td>b'Caucasus in crisis: Georgia invades South Os...</td>\n",
       "      <td>b'Indian shoe manufactory  - And again in a se...</td>\n",
       "      <td>b'Visitors Suffering from Mental Illnesses Ban...</td>\n",
       "      <td>b\"No Help for Mexico's Kidnapping Surge\"</td>\n",
       "      <td>11432.089844</td>\n",
       "      <td>11759.959961</td>\n",
       "      <td>11388.040039</td>\n",
       "      <td>11734.320312</td>\n",
       "      <td>212830000</td>\n",
       "      <td>11734.320312</td>\n",
       "    </tr>\n",
       "    <tr>\n",
       "      <th>1</th>\n",
       "      <td>2008-08-11</td>\n",
       "      <td>1</td>\n",
       "      <td>b'Why wont America and Nato help us? If they w...</td>\n",
       "      <td>b'Bush puts foot down on Georgian conflict'</td>\n",
       "      <td>b\"Jewish Georgian minister: Thanks to Israeli ...</td>\n",
       "      <td>b'Georgian army flees in disarray as Russians ...</td>\n",
       "      <td>b\"Olympic opening ceremony fireworks 'faked'\"</td>\n",
       "      <td>b'What were the Mossad with fraudulent New Zea...</td>\n",
       "      <td>b'Russia angered by Israeli military sale to G...</td>\n",
       "      <td>b'An American citizen living in S.Ossetia blam...</td>\n",
       "      <td>...</td>\n",
       "      <td>b' Russia has just beaten the United States ov...</td>\n",
       "      <td>b'Perhaps *the* question about the Georgia - R...</td>\n",
       "      <td>b'Russia is so much better at war'</td>\n",
       "      <td>b\"So this is what it's come to: trading sex fo...</td>\n",
       "      <td>11729.669922</td>\n",
       "      <td>11867.110352</td>\n",
       "      <td>11675.530273</td>\n",
       "      <td>11782.349609</td>\n",
       "      <td>183190000</td>\n",
       "      <td>11782.349609</td>\n",
       "    </tr>\n",
       "    <tr>\n",
       "      <th>2</th>\n",
       "      <td>2008-08-12</td>\n",
       "      <td>0</td>\n",
       "      <td>b'Remember that adorable 9-year-old who sang a...</td>\n",
       "      <td>b\"Russia 'ends Georgia operation'\"</td>\n",
       "      <td>b'\"If we had no sexual harassment we would hav...</td>\n",
       "      <td>b\"Al-Qa'eda is losing support in Iraq because ...</td>\n",
       "      <td>b'Ceasefire in Georgia: Putin Outmaneuvers the...</td>\n",
       "      <td>b'Why Microsoft and Intel tried to kill the XO...</td>\n",
       "      <td>b'Stratfor: The Russo-Georgian War and the Bal...</td>\n",
       "      <td>b\"I'm Trying to Get a Sense of This Whole Geor...</td>\n",
       "      <td>...</td>\n",
       "      <td>b'All signs point to the US encouraging Georgi...</td>\n",
       "      <td>b'Christopher King argues that the US and NATO...</td>\n",
       "      <td>b'America: The New Mexico?'</td>\n",
       "      <td>b\"BBC NEWS | Asia-Pacific | Extinction 'by man...</td>\n",
       "      <td>11781.700195</td>\n",
       "      <td>11782.349609</td>\n",
       "      <td>11601.519531</td>\n",
       "      <td>11642.469727</td>\n",
       "      <td>173590000</td>\n",
       "      <td>11642.469727</td>\n",
       "    </tr>\n",
       "    <tr>\n",
       "      <th>3</th>\n",
       "      <td>2008-08-13</td>\n",
       "      <td>0</td>\n",
       "      <td>b' U.S. refuses Israel weapons to attack Iran:...</td>\n",
       "      <td>b\"When the president ordered to attack Tskhinv...</td>\n",
       "      <td>b' Israel clears troops who killed Reuters cam...</td>\n",
       "      <td>b'Britain\\'s policy of being tough on drugs is...</td>\n",
       "      <td>b'Body of 14 year old found in trunk; Latest (...</td>\n",
       "      <td>b'China has moved 10 *million* quake survivors...</td>\n",
       "      <td>b\"Bush announces Operation Get All Up In Russi...</td>\n",
       "      <td>b'Russian forces sink Georgian ships '</td>\n",
       "      <td>...</td>\n",
       "      <td>b'Witness: Russian forces head towards Tbilisi...</td>\n",
       "      <td>b' Quarter of Russians blame U.S. for conflict...</td>\n",
       "      <td>b'Georgian president  says US military will ta...</td>\n",
       "      <td>b'2006: Nobel laureate Aleksander Solzhenitsyn...</td>\n",
       "      <td>11632.809570</td>\n",
       "      <td>11633.780273</td>\n",
       "      <td>11453.339844</td>\n",
       "      <td>11532.959961</td>\n",
       "      <td>182550000</td>\n",
       "      <td>11532.959961</td>\n",
       "    </tr>\n",
       "    <tr>\n",
       "      <th>4</th>\n",
       "      <td>2008-08-14</td>\n",
       "      <td>1</td>\n",
       "      <td>b'All the experts admit that we should legalis...</td>\n",
       "      <td>b'War in South Osetia - 89 pictures made by a ...</td>\n",
       "      <td>b'Swedish wrestler Ara Abrahamian throws away ...</td>\n",
       "      <td>b'Russia exaggerated the death toll in South O...</td>\n",
       "      <td>b'Missile That Killed 9 Inside Pakistan May Ha...</td>\n",
       "      <td>b\"Rushdie Condemns Random House's Refusal to P...</td>\n",
       "      <td>b'Poland and US agree to missle defense deal. ...</td>\n",
       "      <td>b'Will the Russians conquer Tblisi? Bet on it,...</td>\n",
       "      <td>...</td>\n",
       "      <td>b'Taliban wages war on humanitarian aid workers'</td>\n",
       "      <td>b'Russia: World  \"can forget about\" Georgia\\'s...</td>\n",
       "      <td>b'Darfur rebels accuse Sudan of mounting major...</td>\n",
       "      <td>b'Philippines : Peace Advocate say Muslims nee...</td>\n",
       "      <td>11532.070312</td>\n",
       "      <td>11718.280273</td>\n",
       "      <td>11450.889648</td>\n",
       "      <td>11615.929688</td>\n",
       "      <td>159790000</td>\n",
       "      <td>11615.929688</td>\n",
       "    </tr>\n",
       "    <tr>\n",
       "      <th>...</th>\n",
       "      <td>...</td>\n",
       "      <td>...</td>\n",
       "      <td>...</td>\n",
       "      <td>...</td>\n",
       "      <td>...</td>\n",
       "      <td>...</td>\n",
       "      <td>...</td>\n",
       "      <td>...</td>\n",
       "      <td>...</td>\n",
       "      <td>...</td>\n",
       "      <td>...</td>\n",
       "      <td>...</td>\n",
       "      <td>...</td>\n",
       "      <td>...</td>\n",
       "      <td>...</td>\n",
       "      <td>...</td>\n",
       "      <td>...</td>\n",
       "      <td>...</td>\n",
       "      <td>...</td>\n",
       "      <td>...</td>\n",
       "      <td>...</td>\n",
       "    </tr>\n",
       "    <tr>\n",
       "      <th>1984</th>\n",
       "      <td>2016-06-27</td>\n",
       "      <td>0</td>\n",
       "      <td>Barclays and RBS shares suspended from trading...</td>\n",
       "      <td>Pope says Church should ask forgiveness from g...</td>\n",
       "      <td>Poland 'shocked' by xenophobic abuse of Poles ...</td>\n",
       "      <td>There will be no second referendum, cabinet ag...</td>\n",
       "      <td>Scotland welcome to join EU, Merkel ally says</td>\n",
       "      <td>Sterling dips below Friday's 31-year low amid ...</td>\n",
       "      <td>No negative news about South African President...</td>\n",
       "      <td>Surge in Hate Crimes in the U.K. Following U.K...</td>\n",
       "      <td>...</td>\n",
       "      <td>Conservative MP Leave Campaigner: \"The leave c...</td>\n",
       "      <td>Economists predict UK recession, further weake...</td>\n",
       "      <td>New EU 'superstate plan by France, Germany: Cr...</td>\n",
       "      <td>Pakistani clerics declare transgender marriage...</td>\n",
       "      <td>17355.210938</td>\n",
       "      <td>17355.210938</td>\n",
       "      <td>17063.080078</td>\n",
       "      <td>17140.240234</td>\n",
       "      <td>138740000</td>\n",
       "      <td>17140.240234</td>\n",
       "    </tr>\n",
       "    <tr>\n",
       "      <th>1985</th>\n",
       "      <td>2016-06-28</td>\n",
       "      <td>1</td>\n",
       "      <td>2,500 Scientists To Australia: If You Want To ...</td>\n",
       "      <td>The personal details of 112,000 French police ...</td>\n",
       "      <td>S&amp;amp;P cuts United Kingdom sovereign credit r...</td>\n",
       "      <td>Huge helium deposit found in Africa</td>\n",
       "      <td>CEO of the South African state broadcaster qui...</td>\n",
       "      <td>Brexit cost investors $2 trillion, the worst o...</td>\n",
       "      <td>Hong Kong democracy activists call for return ...</td>\n",
       "      <td>Brexit: Iceland president says UK can join 'tr...</td>\n",
       "      <td>...</td>\n",
       "      <td>\"Romanians for Remainians\" offering a new home...</td>\n",
       "      <td>Brexit: Gibraltar in talks with Scotland to st...</td>\n",
       "      <td>8 Suicide Bombers Strike Lebanon</td>\n",
       "      <td>Mexico's security forces routinely use 'sexual...</td>\n",
       "      <td>17190.509766</td>\n",
       "      <td>17409.720703</td>\n",
       "      <td>17190.509766</td>\n",
       "      <td>17409.720703</td>\n",
       "      <td>112190000</td>\n",
       "      <td>17409.720703</td>\n",
       "    </tr>\n",
       "    <tr>\n",
       "      <th>1986</th>\n",
       "      <td>2016-06-29</td>\n",
       "      <td>1</td>\n",
       "      <td>Explosion At Airport In Istanbul</td>\n",
       "      <td>Yemeni former president: Terrorism is the offs...</td>\n",
       "      <td>UK must accept freedom of movement to access E...</td>\n",
       "      <td>Devastated: scientists too late to captive bre...</td>\n",
       "      <td>British Labor Party leader Jeremy Corbyn loses...</td>\n",
       "      <td>A Muslim Shop in the UK Was Just Firebombed Wh...</td>\n",
       "      <td>Mexican Authorities Sexually Torture Women in ...</td>\n",
       "      <td>UK shares and pound continue to recover</td>\n",
       "      <td>...</td>\n",
       "      <td>Google Found Disastrous Symantec and Norton Vu...</td>\n",
       "      <td>Extremist violence on the rise in Germany: Dom...</td>\n",
       "      <td>BBC News: Labour MPs pass Corbyn no-confidence...</td>\n",
       "      <td>Tiny New Zealand town with 'too many jobs' lau...</td>\n",
       "      <td>17456.019531</td>\n",
       "      <td>17704.509766</td>\n",
       "      <td>17456.019531</td>\n",
       "      <td>17694.679688</td>\n",
       "      <td>106380000</td>\n",
       "      <td>17694.679688</td>\n",
       "    </tr>\n",
       "    <tr>\n",
       "      <th>1987</th>\n",
       "      <td>2016-06-30</td>\n",
       "      <td>1</td>\n",
       "      <td>Jamaica proposes marijuana dispensers for tour...</td>\n",
       "      <td>Stephen Hawking says pollution and 'stupidity'...</td>\n",
       "      <td>Boris Johnson says he will not run for Tory pa...</td>\n",
       "      <td>Six gay men in Ivory Coast were abused and for...</td>\n",
       "      <td>Switzerland denies citizenship to Muslim immig...</td>\n",
       "      <td>Palestinian terrorist stabs israeli teen girl ...</td>\n",
       "      <td>Puerto Rico will default on $1 billion of debt...</td>\n",
       "      <td>Republic of Ireland fans to be awarded medal f...</td>\n",
       "      <td>...</td>\n",
       "      <td>US permitted 1,200 offshore fracks in Gulf of ...</td>\n",
       "      <td>We will be swimming in ridicule - French beach...</td>\n",
       "      <td>UEFA says no minutes of silence for Istanbul v...</td>\n",
       "      <td>Law Enforcement Sources: Gun Used in Paris Ter...</td>\n",
       "      <td>17712.759766</td>\n",
       "      <td>17930.609375</td>\n",
       "      <td>17711.800781</td>\n",
       "      <td>17929.990234</td>\n",
       "      <td>133030000</td>\n",
       "      <td>17929.990234</td>\n",
       "    </tr>\n",
       "    <tr>\n",
       "      <th>1988</th>\n",
       "      <td>2016-07-01</td>\n",
       "      <td>1</td>\n",
       "      <td>A 117-year-old woman in Mexico City finally re...</td>\n",
       "      <td>IMF chief backs Athens as permanent Olympic host</td>\n",
       "      <td>The president of France says if Brexit won, so...</td>\n",
       "      <td>British Man Who Must Give Police 24 Hours' Not...</td>\n",
       "      <td>100+ Nobel laureates urge Greenpeace to stop o...</td>\n",
       "      <td>Brazil: Huge spike in number of police killing...</td>\n",
       "      <td>Austria's highest court annuls presidential el...</td>\n",
       "      <td>Facebook wins privacy case, can track any Belg...</td>\n",
       "      <td>...</td>\n",
       "      <td>Spain arrests three Pakistanis accused of prom...</td>\n",
       "      <td>Venezuela, where anger over food shortages is ...</td>\n",
       "      <td>A Hindu temple worker has been killed by three...</td>\n",
       "      <td>Ozone layer hole seems to be healing - US &amp;amp...</td>\n",
       "      <td>17924.240234</td>\n",
       "      <td>18002.380859</td>\n",
       "      <td>17916.910156</td>\n",
       "      <td>17949.369141</td>\n",
       "      <td>82160000</td>\n",
       "      <td>17949.369141</td>\n",
       "    </tr>\n",
       "  </tbody>\n",
       "</table>\n",
       "<p>1989 rows × 33 columns</p>\n",
       "</div>"
      ],
      "text/plain": [
       "            Date  Label                                               Top1  \\\n",
       "0     2008-08-08      0  b\"Georgia 'downs two Russian warplanes' as cou...   \n",
       "1     2008-08-11      1  b'Why wont America and Nato help us? If they w...   \n",
       "2     2008-08-12      0  b'Remember that adorable 9-year-old who sang a...   \n",
       "3     2008-08-13      0  b' U.S. refuses Israel weapons to attack Iran:...   \n",
       "4     2008-08-14      1  b'All the experts admit that we should legalis...   \n",
       "...          ...    ...                                                ...   \n",
       "1984  2016-06-27      0  Barclays and RBS shares suspended from trading...   \n",
       "1985  2016-06-28      1  2,500 Scientists To Australia: If You Want To ...   \n",
       "1986  2016-06-29      1                   Explosion At Airport In Istanbul   \n",
       "1987  2016-06-30      1  Jamaica proposes marijuana dispensers for tour...   \n",
       "1988  2016-07-01      1  A 117-year-old woman in Mexico City finally re...   \n",
       "\n",
       "                                                   Top2  \\\n",
       "0               b'BREAKING: Musharraf to be impeached.'   \n",
       "1           b'Bush puts foot down on Georgian conflict'   \n",
       "2                    b\"Russia 'ends Georgia operation'\"   \n",
       "3     b\"When the president ordered to attack Tskhinv...   \n",
       "4     b'War in South Osetia - 89 pictures made by a ...   \n",
       "...                                                 ...   \n",
       "1984  Pope says Church should ask forgiveness from g...   \n",
       "1985  The personal details of 112,000 French police ...   \n",
       "1986  Yemeni former president: Terrorism is the offs...   \n",
       "1987  Stephen Hawking says pollution and 'stupidity'...   \n",
       "1988   IMF chief backs Athens as permanent Olympic host   \n",
       "\n",
       "                                                   Top3  \\\n",
       "0     b'Russia Today: Columns of troops roll into So...   \n",
       "1     b\"Jewish Georgian minister: Thanks to Israeli ...   \n",
       "2     b'\"If we had no sexual harassment we would hav...   \n",
       "3     b' Israel clears troops who killed Reuters cam...   \n",
       "4     b'Swedish wrestler Ara Abrahamian throws away ...   \n",
       "...                                                 ...   \n",
       "1984  Poland 'shocked' by xenophobic abuse of Poles ...   \n",
       "1985  S&amp;P cuts United Kingdom sovereign credit r...   \n",
       "1986  UK must accept freedom of movement to access E...   \n",
       "1987  Boris Johnson says he will not run for Tory pa...   \n",
       "1988  The president of France says if Brexit won, so...   \n",
       "\n",
       "                                                   Top4  \\\n",
       "0     b'Russian tanks are moving towards the capital...   \n",
       "1     b'Georgian army flees in disarray as Russians ...   \n",
       "2     b\"Al-Qa'eda is losing support in Iraq because ...   \n",
       "3     b'Britain\\'s policy of being tough on drugs is...   \n",
       "4     b'Russia exaggerated the death toll in South O...   \n",
       "...                                                 ...   \n",
       "1984  There will be no second referendum, cabinet ag...   \n",
       "1985                Huge helium deposit found in Africa   \n",
       "1986  Devastated: scientists too late to captive bre...   \n",
       "1987  Six gay men in Ivory Coast were abused and for...   \n",
       "1988  British Man Who Must Give Police 24 Hours' Not...   \n",
       "\n",
       "                                                   Top5  \\\n",
       "0     b\"Afghan children raped with 'impunity,' U.N. ...   \n",
       "1         b\"Olympic opening ceremony fireworks 'faked'\"   \n",
       "2     b'Ceasefire in Georgia: Putin Outmaneuvers the...   \n",
       "3     b'Body of 14 year old found in trunk; Latest (...   \n",
       "4     b'Missile That Killed 9 Inside Pakistan May Ha...   \n",
       "...                                                 ...   \n",
       "1984      Scotland welcome to join EU, Merkel ally says   \n",
       "1985  CEO of the South African state broadcaster qui...   \n",
       "1986  British Labor Party leader Jeremy Corbyn loses...   \n",
       "1987  Switzerland denies citizenship to Muslim immig...   \n",
       "1988  100+ Nobel laureates urge Greenpeace to stop o...   \n",
       "\n",
       "                                                   Top6  \\\n",
       "0     b'150 Russian tanks have entered South Ossetia...   \n",
       "1     b'What were the Mossad with fraudulent New Zea...   \n",
       "2     b'Why Microsoft and Intel tried to kill the XO...   \n",
       "3     b'China has moved 10 *million* quake survivors...   \n",
       "4     b\"Rushdie Condemns Random House's Refusal to P...   \n",
       "...                                                 ...   \n",
       "1984  Sterling dips below Friday's 31-year low amid ...   \n",
       "1985  Brexit cost investors $2 trillion, the worst o...   \n",
       "1986  A Muslim Shop in the UK Was Just Firebombed Wh...   \n",
       "1987  Palestinian terrorist stabs israeli teen girl ...   \n",
       "1988  Brazil: Huge spike in number of police killing...   \n",
       "\n",
       "                                                   Top7  \\\n",
       "0     b\"Breaking: Georgia invades South Ossetia, Rus...   \n",
       "1     b'Russia angered by Israeli military sale to G...   \n",
       "2     b'Stratfor: The Russo-Georgian War and the Bal...   \n",
       "3     b\"Bush announces Operation Get All Up In Russi...   \n",
       "4     b'Poland and US agree to missle defense deal. ...   \n",
       "...                                                 ...   \n",
       "1984  No negative news about South African President...   \n",
       "1985  Hong Kong democracy activists call for return ...   \n",
       "1986  Mexican Authorities Sexually Torture Women in ...   \n",
       "1987  Puerto Rico will default on $1 billion of debt...   \n",
       "1988  Austria's highest court annuls presidential el...   \n",
       "\n",
       "                                                   Top8  ...  \\\n",
       "0     b\"The 'enemy combatent' trials are nothing but...  ...   \n",
       "1     b'An American citizen living in S.Ossetia blam...  ...   \n",
       "2     b\"I'm Trying to Get a Sense of This Whole Geor...  ...   \n",
       "3                b'Russian forces sink Georgian ships '  ...   \n",
       "4     b'Will the Russians conquer Tblisi? Bet on it,...  ...   \n",
       "...                                                 ...  ...   \n",
       "1984  Surge in Hate Crimes in the U.K. Following U.K...  ...   \n",
       "1985  Brexit: Iceland president says UK can join 'tr...  ...   \n",
       "1986            UK shares and pound continue to recover  ...   \n",
       "1987  Republic of Ireland fans to be awarded medal f...  ...   \n",
       "1988  Facebook wins privacy case, can track any Belg...  ...   \n",
       "\n",
       "                                                  Top22  \\\n",
       "0     b'Caucasus in crisis: Georgia invades South Os...   \n",
       "1     b' Russia has just beaten the United States ov...   \n",
       "2     b'All signs point to the US encouraging Georgi...   \n",
       "3     b'Witness: Russian forces head towards Tbilisi...   \n",
       "4      b'Taliban wages war on humanitarian aid workers'   \n",
       "...                                                 ...   \n",
       "1984  Conservative MP Leave Campaigner: \"The leave c...   \n",
       "1985  \"Romanians for Remainians\" offering a new home...   \n",
       "1986  Google Found Disastrous Symantec and Norton Vu...   \n",
       "1987  US permitted 1,200 offshore fracks in Gulf of ...   \n",
       "1988  Spain arrests three Pakistanis accused of prom...   \n",
       "\n",
       "                                                  Top23  \\\n",
       "0     b'Indian shoe manufactory  - And again in a se...   \n",
       "1     b'Perhaps *the* question about the Georgia - R...   \n",
       "2     b'Christopher King argues that the US and NATO...   \n",
       "3     b' Quarter of Russians blame U.S. for conflict...   \n",
       "4     b'Russia: World  \"can forget about\" Georgia\\'s...   \n",
       "...                                                 ...   \n",
       "1984  Economists predict UK recession, further weake...   \n",
       "1985  Brexit: Gibraltar in talks with Scotland to st...   \n",
       "1986  Extremist violence on the rise in Germany: Dom...   \n",
       "1987  We will be swimming in ridicule - French beach...   \n",
       "1988  Venezuela, where anger over food shortages is ...   \n",
       "\n",
       "                                                  Top24  \\\n",
       "0     b'Visitors Suffering from Mental Illnesses Ban...   \n",
       "1                    b'Russia is so much better at war'   \n",
       "2                           b'America: The New Mexico?'   \n",
       "3     b'Georgian president  says US military will ta...   \n",
       "4     b'Darfur rebels accuse Sudan of mounting major...   \n",
       "...                                                 ...   \n",
       "1984  New EU 'superstate plan by France, Germany: Cr...   \n",
       "1985                   8 Suicide Bombers Strike Lebanon   \n",
       "1986  BBC News: Labour MPs pass Corbyn no-confidence...   \n",
       "1987  UEFA says no minutes of silence for Istanbul v...   \n",
       "1988  A Hindu temple worker has been killed by three...   \n",
       "\n",
       "                                                  Top25          Open  \\\n",
       "0              b\"No Help for Mexico's Kidnapping Surge\"  11432.089844   \n",
       "1     b\"So this is what it's come to: trading sex fo...  11729.669922   \n",
       "2     b\"BBC NEWS | Asia-Pacific | Extinction 'by man...  11781.700195   \n",
       "3     b'2006: Nobel laureate Aleksander Solzhenitsyn...  11632.809570   \n",
       "4     b'Philippines : Peace Advocate say Muslims nee...  11532.070312   \n",
       "...                                                 ...           ...   \n",
       "1984  Pakistani clerics declare transgender marriage...  17355.210938   \n",
       "1985  Mexico's security forces routinely use 'sexual...  17190.509766   \n",
       "1986  Tiny New Zealand town with 'too many jobs' lau...  17456.019531   \n",
       "1987  Law Enforcement Sources: Gun Used in Paris Ter...  17712.759766   \n",
       "1988  Ozone layer hole seems to be healing - US &amp...  17924.240234   \n",
       "\n",
       "              High           Low         Close     Volume     Adj Close  \n",
       "0     11759.959961  11388.040039  11734.320312  212830000  11734.320312  \n",
       "1     11867.110352  11675.530273  11782.349609  183190000  11782.349609  \n",
       "2     11782.349609  11601.519531  11642.469727  173590000  11642.469727  \n",
       "3     11633.780273  11453.339844  11532.959961  182550000  11532.959961  \n",
       "4     11718.280273  11450.889648  11615.929688  159790000  11615.929688  \n",
       "...            ...           ...           ...        ...           ...  \n",
       "1984  17355.210938  17063.080078  17140.240234  138740000  17140.240234  \n",
       "1985  17409.720703  17190.509766  17409.720703  112190000  17409.720703  \n",
       "1986  17704.509766  17456.019531  17694.679688  106380000  17694.679688  \n",
       "1987  17930.609375  17711.800781  17929.990234  133030000  17929.990234  \n",
       "1988  18002.380859  17916.910156  17949.369141   82160000  17949.369141  \n",
       "\n",
       "[1989 rows x 33 columns]"
      ]
     },
     "execution_count": 70,
     "metadata": {},
     "output_type": "execute_result"
    }
   ],
   "source": [
    "Final_df = Top_news.merge(dj,how=\"inner\",on=\"Date\")\n",
    "Final_df"
   ]
  },
  {
   "cell_type": "code",
   "execution_count": 71,
   "metadata": {
    "execution": {
     "iopub.execute_input": "2023-01-31T23:02:55.358656Z",
     "iopub.status.busy": "2023-01-31T23:02:55.356010Z",
     "iopub.status.idle": "2023-01-31T23:02:55.910530Z",
     "shell.execute_reply": "2023-01-31T23:02:55.909354Z",
     "shell.execute_reply.started": "2023-01-31T23:02:55.358611Z"
    }
   },
   "outputs": [],
   "source": [
    "# Combing Headlines\n",
    "headline=[]\n",
    "for row in range(0,len(Final_df.index)):\n",
    "    headline.append(\" \".join(str(x) for x in Final_df.iloc[row,2:27]))"
   ]
  },
  {
   "cell_type": "code",
   "execution_count": 72,
   "metadata": {
    "execution": {
     "iopub.execute_input": "2023-01-31T23:02:55.915357Z",
     "iopub.status.busy": "2023-01-31T23:02:55.912195Z",
     "iopub.status.idle": "2023-01-31T23:02:55.958127Z",
     "shell.execute_reply": "2023-01-31T23:02:55.955655Z",
     "shell.execute_reply.started": "2023-01-31T23:02:55.915310Z"
    }
   },
   "outputs": [
    {
     "data": {
      "text/html": [
       "<div>\n",
       "<style scoped>\n",
       "    .dataframe tbody tr th:only-of-type {\n",
       "        vertical-align: middle;\n",
       "    }\n",
       "\n",
       "    .dataframe tbody tr th {\n",
       "        vertical-align: top;\n",
       "    }\n",
       "\n",
       "    .dataframe thead th {\n",
       "        text-align: right;\n",
       "    }\n",
       "</style>\n",
       "<table border=\"1\" class=\"dataframe\">\n",
       "  <thead>\n",
       "    <tr style=\"text-align: right;\">\n",
       "      <th></th>\n",
       "      <th>Date</th>\n",
       "      <th>Label</th>\n",
       "      <th>Top1</th>\n",
       "      <th>Top2</th>\n",
       "      <th>Top3</th>\n",
       "      <th>Top4</th>\n",
       "      <th>Top5</th>\n",
       "      <th>Top6</th>\n",
       "      <th>Top7</th>\n",
       "      <th>Top8</th>\n",
       "      <th>...</th>\n",
       "      <th>Top23</th>\n",
       "      <th>Top24</th>\n",
       "      <th>Top25</th>\n",
       "      <th>Open</th>\n",
       "      <th>High</th>\n",
       "      <th>Low</th>\n",
       "      <th>Close</th>\n",
       "      <th>Volume</th>\n",
       "      <th>Adj Close</th>\n",
       "      <th>Combined News</th>\n",
       "    </tr>\n",
       "  </thead>\n",
       "  <tbody>\n",
       "    <tr>\n",
       "      <th>0</th>\n",
       "      <td>2008-08-08</td>\n",
       "      <td>0</td>\n",
       "      <td>b\"Georgia 'downs two Russian warplanes' as cou...</td>\n",
       "      <td>b'BREAKING: Musharraf to be impeached.'</td>\n",
       "      <td>b'Russia Today: Columns of troops roll into So...</td>\n",
       "      <td>b'Russian tanks are moving towards the capital...</td>\n",
       "      <td>b\"Afghan children raped with 'impunity,' U.N. ...</td>\n",
       "      <td>b'150 Russian tanks have entered South Ossetia...</td>\n",
       "      <td>b\"Breaking: Georgia invades South Ossetia, Rus...</td>\n",
       "      <td>b\"The 'enemy combatent' trials are nothing but...</td>\n",
       "      <td>...</td>\n",
       "      <td>b'Indian shoe manufactory  - And again in a se...</td>\n",
       "      <td>b'Visitors Suffering from Mental Illnesses Ban...</td>\n",
       "      <td>b\"No Help for Mexico's Kidnapping Surge\"</td>\n",
       "      <td>11432.089844</td>\n",
       "      <td>11759.959961</td>\n",
       "      <td>11388.040039</td>\n",
       "      <td>11734.320312</td>\n",
       "      <td>212830000</td>\n",
       "      <td>11734.320312</td>\n",
       "      <td>b\"Georgia 'downs two Russian warplanes' as cou...</td>\n",
       "    </tr>\n",
       "    <tr>\n",
       "      <th>1</th>\n",
       "      <td>2008-08-11</td>\n",
       "      <td>1</td>\n",
       "      <td>b'Why wont America and Nato help us? If they w...</td>\n",
       "      <td>b'Bush puts foot down on Georgian conflict'</td>\n",
       "      <td>b\"Jewish Georgian minister: Thanks to Israeli ...</td>\n",
       "      <td>b'Georgian army flees in disarray as Russians ...</td>\n",
       "      <td>b\"Olympic opening ceremony fireworks 'faked'\"</td>\n",
       "      <td>b'What were the Mossad with fraudulent New Zea...</td>\n",
       "      <td>b'Russia angered by Israeli military sale to G...</td>\n",
       "      <td>b'An American citizen living in S.Ossetia blam...</td>\n",
       "      <td>...</td>\n",
       "      <td>b'Perhaps *the* question about the Georgia - R...</td>\n",
       "      <td>b'Russia is so much better at war'</td>\n",
       "      <td>b\"So this is what it's come to: trading sex fo...</td>\n",
       "      <td>11729.669922</td>\n",
       "      <td>11867.110352</td>\n",
       "      <td>11675.530273</td>\n",
       "      <td>11782.349609</td>\n",
       "      <td>183190000</td>\n",
       "      <td>11782.349609</td>\n",
       "      <td>b'Why wont America and Nato help us? If they w...</td>\n",
       "    </tr>\n",
       "    <tr>\n",
       "      <th>2</th>\n",
       "      <td>2008-08-12</td>\n",
       "      <td>0</td>\n",
       "      <td>b'Remember that adorable 9-year-old who sang a...</td>\n",
       "      <td>b\"Russia 'ends Georgia operation'\"</td>\n",
       "      <td>b'\"If we had no sexual harassment we would hav...</td>\n",
       "      <td>b\"Al-Qa'eda is losing support in Iraq because ...</td>\n",
       "      <td>b'Ceasefire in Georgia: Putin Outmaneuvers the...</td>\n",
       "      <td>b'Why Microsoft and Intel tried to kill the XO...</td>\n",
       "      <td>b'Stratfor: The Russo-Georgian War and the Bal...</td>\n",
       "      <td>b\"I'm Trying to Get a Sense of This Whole Geor...</td>\n",
       "      <td>...</td>\n",
       "      <td>b'Christopher King argues that the US and NATO...</td>\n",
       "      <td>b'America: The New Mexico?'</td>\n",
       "      <td>b\"BBC NEWS | Asia-Pacific | Extinction 'by man...</td>\n",
       "      <td>11781.700195</td>\n",
       "      <td>11782.349609</td>\n",
       "      <td>11601.519531</td>\n",
       "      <td>11642.469727</td>\n",
       "      <td>173590000</td>\n",
       "      <td>11642.469727</td>\n",
       "      <td>b'Remember that adorable 9-year-old who sang a...</td>\n",
       "    </tr>\n",
       "    <tr>\n",
       "      <th>3</th>\n",
       "      <td>2008-08-13</td>\n",
       "      <td>0</td>\n",
       "      <td>b' U.S. refuses Israel weapons to attack Iran:...</td>\n",
       "      <td>b\"When the president ordered to attack Tskhinv...</td>\n",
       "      <td>b' Israel clears troops who killed Reuters cam...</td>\n",
       "      <td>b'Britain\\'s policy of being tough on drugs is...</td>\n",
       "      <td>b'Body of 14 year old found in trunk; Latest (...</td>\n",
       "      <td>b'China has moved 10 *million* quake survivors...</td>\n",
       "      <td>b\"Bush announces Operation Get All Up In Russi...</td>\n",
       "      <td>b'Russian forces sink Georgian ships '</td>\n",
       "      <td>...</td>\n",
       "      <td>b' Quarter of Russians blame U.S. for conflict...</td>\n",
       "      <td>b'Georgian president  says US military will ta...</td>\n",
       "      <td>b'2006: Nobel laureate Aleksander Solzhenitsyn...</td>\n",
       "      <td>11632.809570</td>\n",
       "      <td>11633.780273</td>\n",
       "      <td>11453.339844</td>\n",
       "      <td>11532.959961</td>\n",
       "      <td>182550000</td>\n",
       "      <td>11532.959961</td>\n",
       "      <td>b' U.S. refuses Israel weapons to attack Iran:...</td>\n",
       "    </tr>\n",
       "    <tr>\n",
       "      <th>4</th>\n",
       "      <td>2008-08-14</td>\n",
       "      <td>1</td>\n",
       "      <td>b'All the experts admit that we should legalis...</td>\n",
       "      <td>b'War in South Osetia - 89 pictures made by a ...</td>\n",
       "      <td>b'Swedish wrestler Ara Abrahamian throws away ...</td>\n",
       "      <td>b'Russia exaggerated the death toll in South O...</td>\n",
       "      <td>b'Missile That Killed 9 Inside Pakistan May Ha...</td>\n",
       "      <td>b\"Rushdie Condemns Random House's Refusal to P...</td>\n",
       "      <td>b'Poland and US agree to missle defense deal. ...</td>\n",
       "      <td>b'Will the Russians conquer Tblisi? Bet on it,...</td>\n",
       "      <td>...</td>\n",
       "      <td>b'Russia: World  \"can forget about\" Georgia\\'s...</td>\n",
       "      <td>b'Darfur rebels accuse Sudan of mounting major...</td>\n",
       "      <td>b'Philippines : Peace Advocate say Muslims nee...</td>\n",
       "      <td>11532.070312</td>\n",
       "      <td>11718.280273</td>\n",
       "      <td>11450.889648</td>\n",
       "      <td>11615.929688</td>\n",
       "      <td>159790000</td>\n",
       "      <td>11615.929688</td>\n",
       "      <td>b'All the experts admit that we should legalis...</td>\n",
       "    </tr>\n",
       "    <tr>\n",
       "      <th>...</th>\n",
       "      <td>...</td>\n",
       "      <td>...</td>\n",
       "      <td>...</td>\n",
       "      <td>...</td>\n",
       "      <td>...</td>\n",
       "      <td>...</td>\n",
       "      <td>...</td>\n",
       "      <td>...</td>\n",
       "      <td>...</td>\n",
       "      <td>...</td>\n",
       "      <td>...</td>\n",
       "      <td>...</td>\n",
       "      <td>...</td>\n",
       "      <td>...</td>\n",
       "      <td>...</td>\n",
       "      <td>...</td>\n",
       "      <td>...</td>\n",
       "      <td>...</td>\n",
       "      <td>...</td>\n",
       "      <td>...</td>\n",
       "      <td>...</td>\n",
       "    </tr>\n",
       "    <tr>\n",
       "      <th>1984</th>\n",
       "      <td>2016-06-27</td>\n",
       "      <td>0</td>\n",
       "      <td>Barclays and RBS shares suspended from trading...</td>\n",
       "      <td>Pope says Church should ask forgiveness from g...</td>\n",
       "      <td>Poland 'shocked' by xenophobic abuse of Poles ...</td>\n",
       "      <td>There will be no second referendum, cabinet ag...</td>\n",
       "      <td>Scotland welcome to join EU, Merkel ally says</td>\n",
       "      <td>Sterling dips below Friday's 31-year low amid ...</td>\n",
       "      <td>No negative news about South African President...</td>\n",
       "      <td>Surge in Hate Crimes in the U.K. Following U.K...</td>\n",
       "      <td>...</td>\n",
       "      <td>Economists predict UK recession, further weake...</td>\n",
       "      <td>New EU 'superstate plan by France, Germany: Cr...</td>\n",
       "      <td>Pakistani clerics declare transgender marriage...</td>\n",
       "      <td>17355.210938</td>\n",
       "      <td>17355.210938</td>\n",
       "      <td>17063.080078</td>\n",
       "      <td>17140.240234</td>\n",
       "      <td>138740000</td>\n",
       "      <td>17140.240234</td>\n",
       "      <td>Barclays and RBS shares suspended from trading...</td>\n",
       "    </tr>\n",
       "    <tr>\n",
       "      <th>1985</th>\n",
       "      <td>2016-06-28</td>\n",
       "      <td>1</td>\n",
       "      <td>2,500 Scientists To Australia: If You Want To ...</td>\n",
       "      <td>The personal details of 112,000 French police ...</td>\n",
       "      <td>S&amp;amp;P cuts United Kingdom sovereign credit r...</td>\n",
       "      <td>Huge helium deposit found in Africa</td>\n",
       "      <td>CEO of the South African state broadcaster qui...</td>\n",
       "      <td>Brexit cost investors $2 trillion, the worst o...</td>\n",
       "      <td>Hong Kong democracy activists call for return ...</td>\n",
       "      <td>Brexit: Iceland president says UK can join 'tr...</td>\n",
       "      <td>...</td>\n",
       "      <td>Brexit: Gibraltar in talks with Scotland to st...</td>\n",
       "      <td>8 Suicide Bombers Strike Lebanon</td>\n",
       "      <td>Mexico's security forces routinely use 'sexual...</td>\n",
       "      <td>17190.509766</td>\n",
       "      <td>17409.720703</td>\n",
       "      <td>17190.509766</td>\n",
       "      <td>17409.720703</td>\n",
       "      <td>112190000</td>\n",
       "      <td>17409.720703</td>\n",
       "      <td>2,500 Scientists To Australia: If You Want To ...</td>\n",
       "    </tr>\n",
       "    <tr>\n",
       "      <th>1986</th>\n",
       "      <td>2016-06-29</td>\n",
       "      <td>1</td>\n",
       "      <td>Explosion At Airport In Istanbul</td>\n",
       "      <td>Yemeni former president: Terrorism is the offs...</td>\n",
       "      <td>UK must accept freedom of movement to access E...</td>\n",
       "      <td>Devastated: scientists too late to captive bre...</td>\n",
       "      <td>British Labor Party leader Jeremy Corbyn loses...</td>\n",
       "      <td>A Muslim Shop in the UK Was Just Firebombed Wh...</td>\n",
       "      <td>Mexican Authorities Sexually Torture Women in ...</td>\n",
       "      <td>UK shares and pound continue to recover</td>\n",
       "      <td>...</td>\n",
       "      <td>Extremist violence on the rise in Germany: Dom...</td>\n",
       "      <td>BBC News: Labour MPs pass Corbyn no-confidence...</td>\n",
       "      <td>Tiny New Zealand town with 'too many jobs' lau...</td>\n",
       "      <td>17456.019531</td>\n",
       "      <td>17704.509766</td>\n",
       "      <td>17456.019531</td>\n",
       "      <td>17694.679688</td>\n",
       "      <td>106380000</td>\n",
       "      <td>17694.679688</td>\n",
       "      <td>Explosion At Airport In Istanbul Yemeni former...</td>\n",
       "    </tr>\n",
       "    <tr>\n",
       "      <th>1987</th>\n",
       "      <td>2016-06-30</td>\n",
       "      <td>1</td>\n",
       "      <td>Jamaica proposes marijuana dispensers for tour...</td>\n",
       "      <td>Stephen Hawking says pollution and 'stupidity'...</td>\n",
       "      <td>Boris Johnson says he will not run for Tory pa...</td>\n",
       "      <td>Six gay men in Ivory Coast were abused and for...</td>\n",
       "      <td>Switzerland denies citizenship to Muslim immig...</td>\n",
       "      <td>Palestinian terrorist stabs israeli teen girl ...</td>\n",
       "      <td>Puerto Rico will default on $1 billion of debt...</td>\n",
       "      <td>Republic of Ireland fans to be awarded medal f...</td>\n",
       "      <td>...</td>\n",
       "      <td>We will be swimming in ridicule - French beach...</td>\n",
       "      <td>UEFA says no minutes of silence for Istanbul v...</td>\n",
       "      <td>Law Enforcement Sources: Gun Used in Paris Ter...</td>\n",
       "      <td>17712.759766</td>\n",
       "      <td>17930.609375</td>\n",
       "      <td>17711.800781</td>\n",
       "      <td>17929.990234</td>\n",
       "      <td>133030000</td>\n",
       "      <td>17929.990234</td>\n",
       "      <td>Jamaica proposes marijuana dispensers for tour...</td>\n",
       "    </tr>\n",
       "    <tr>\n",
       "      <th>1988</th>\n",
       "      <td>2016-07-01</td>\n",
       "      <td>1</td>\n",
       "      <td>A 117-year-old woman in Mexico City finally re...</td>\n",
       "      <td>IMF chief backs Athens as permanent Olympic host</td>\n",
       "      <td>The president of France says if Brexit won, so...</td>\n",
       "      <td>British Man Who Must Give Police 24 Hours' Not...</td>\n",
       "      <td>100+ Nobel laureates urge Greenpeace to stop o...</td>\n",
       "      <td>Brazil: Huge spike in number of police killing...</td>\n",
       "      <td>Austria's highest court annuls presidential el...</td>\n",
       "      <td>Facebook wins privacy case, can track any Belg...</td>\n",
       "      <td>...</td>\n",
       "      <td>Venezuela, where anger over food shortages is ...</td>\n",
       "      <td>A Hindu temple worker has been killed by three...</td>\n",
       "      <td>Ozone layer hole seems to be healing - US &amp;amp...</td>\n",
       "      <td>17924.240234</td>\n",
       "      <td>18002.380859</td>\n",
       "      <td>17916.910156</td>\n",
       "      <td>17949.369141</td>\n",
       "      <td>82160000</td>\n",
       "      <td>17949.369141</td>\n",
       "      <td>A 117-year-old woman in Mexico City finally re...</td>\n",
       "    </tr>\n",
       "  </tbody>\n",
       "</table>\n",
       "<p>1989 rows × 34 columns</p>\n",
       "</div>"
      ],
      "text/plain": [
       "            Date  Label                                               Top1  \\\n",
       "0     2008-08-08      0  b\"Georgia 'downs two Russian warplanes' as cou...   \n",
       "1     2008-08-11      1  b'Why wont America and Nato help us? If they w...   \n",
       "2     2008-08-12      0  b'Remember that adorable 9-year-old who sang a...   \n",
       "3     2008-08-13      0  b' U.S. refuses Israel weapons to attack Iran:...   \n",
       "4     2008-08-14      1  b'All the experts admit that we should legalis...   \n",
       "...          ...    ...                                                ...   \n",
       "1984  2016-06-27      0  Barclays and RBS shares suspended from trading...   \n",
       "1985  2016-06-28      1  2,500 Scientists To Australia: If You Want To ...   \n",
       "1986  2016-06-29      1                   Explosion At Airport In Istanbul   \n",
       "1987  2016-06-30      1  Jamaica proposes marijuana dispensers for tour...   \n",
       "1988  2016-07-01      1  A 117-year-old woman in Mexico City finally re...   \n",
       "\n",
       "                                                   Top2  \\\n",
       "0               b'BREAKING: Musharraf to be impeached.'   \n",
       "1           b'Bush puts foot down on Georgian conflict'   \n",
       "2                    b\"Russia 'ends Georgia operation'\"   \n",
       "3     b\"When the president ordered to attack Tskhinv...   \n",
       "4     b'War in South Osetia - 89 pictures made by a ...   \n",
       "...                                                 ...   \n",
       "1984  Pope says Church should ask forgiveness from g...   \n",
       "1985  The personal details of 112,000 French police ...   \n",
       "1986  Yemeni former president: Terrorism is the offs...   \n",
       "1987  Stephen Hawking says pollution and 'stupidity'...   \n",
       "1988   IMF chief backs Athens as permanent Olympic host   \n",
       "\n",
       "                                                   Top3  \\\n",
       "0     b'Russia Today: Columns of troops roll into So...   \n",
       "1     b\"Jewish Georgian minister: Thanks to Israeli ...   \n",
       "2     b'\"If we had no sexual harassment we would hav...   \n",
       "3     b' Israel clears troops who killed Reuters cam...   \n",
       "4     b'Swedish wrestler Ara Abrahamian throws away ...   \n",
       "...                                                 ...   \n",
       "1984  Poland 'shocked' by xenophobic abuse of Poles ...   \n",
       "1985  S&amp;P cuts United Kingdom sovereign credit r...   \n",
       "1986  UK must accept freedom of movement to access E...   \n",
       "1987  Boris Johnson says he will not run for Tory pa...   \n",
       "1988  The president of France says if Brexit won, so...   \n",
       "\n",
       "                                                   Top4  \\\n",
       "0     b'Russian tanks are moving towards the capital...   \n",
       "1     b'Georgian army flees in disarray as Russians ...   \n",
       "2     b\"Al-Qa'eda is losing support in Iraq because ...   \n",
       "3     b'Britain\\'s policy of being tough on drugs is...   \n",
       "4     b'Russia exaggerated the death toll in South O...   \n",
       "...                                                 ...   \n",
       "1984  There will be no second referendum, cabinet ag...   \n",
       "1985                Huge helium deposit found in Africa   \n",
       "1986  Devastated: scientists too late to captive bre...   \n",
       "1987  Six gay men in Ivory Coast were abused and for...   \n",
       "1988  British Man Who Must Give Police 24 Hours' Not...   \n",
       "\n",
       "                                                   Top5  \\\n",
       "0     b\"Afghan children raped with 'impunity,' U.N. ...   \n",
       "1         b\"Olympic opening ceremony fireworks 'faked'\"   \n",
       "2     b'Ceasefire in Georgia: Putin Outmaneuvers the...   \n",
       "3     b'Body of 14 year old found in trunk; Latest (...   \n",
       "4     b'Missile That Killed 9 Inside Pakistan May Ha...   \n",
       "...                                                 ...   \n",
       "1984      Scotland welcome to join EU, Merkel ally says   \n",
       "1985  CEO of the South African state broadcaster qui...   \n",
       "1986  British Labor Party leader Jeremy Corbyn loses...   \n",
       "1987  Switzerland denies citizenship to Muslim immig...   \n",
       "1988  100+ Nobel laureates urge Greenpeace to stop o...   \n",
       "\n",
       "                                                   Top6  \\\n",
       "0     b'150 Russian tanks have entered South Ossetia...   \n",
       "1     b'What were the Mossad with fraudulent New Zea...   \n",
       "2     b'Why Microsoft and Intel tried to kill the XO...   \n",
       "3     b'China has moved 10 *million* quake survivors...   \n",
       "4     b\"Rushdie Condemns Random House's Refusal to P...   \n",
       "...                                                 ...   \n",
       "1984  Sterling dips below Friday's 31-year low amid ...   \n",
       "1985  Brexit cost investors $2 trillion, the worst o...   \n",
       "1986  A Muslim Shop in the UK Was Just Firebombed Wh...   \n",
       "1987  Palestinian terrorist stabs israeli teen girl ...   \n",
       "1988  Brazil: Huge spike in number of police killing...   \n",
       "\n",
       "                                                   Top7  \\\n",
       "0     b\"Breaking: Georgia invades South Ossetia, Rus...   \n",
       "1     b'Russia angered by Israeli military sale to G...   \n",
       "2     b'Stratfor: The Russo-Georgian War and the Bal...   \n",
       "3     b\"Bush announces Operation Get All Up In Russi...   \n",
       "4     b'Poland and US agree to missle defense deal. ...   \n",
       "...                                                 ...   \n",
       "1984  No negative news about South African President...   \n",
       "1985  Hong Kong democracy activists call for return ...   \n",
       "1986  Mexican Authorities Sexually Torture Women in ...   \n",
       "1987  Puerto Rico will default on $1 billion of debt...   \n",
       "1988  Austria's highest court annuls presidential el...   \n",
       "\n",
       "                                                   Top8  ...  \\\n",
       "0     b\"The 'enemy combatent' trials are nothing but...  ...   \n",
       "1     b'An American citizen living in S.Ossetia blam...  ...   \n",
       "2     b\"I'm Trying to Get a Sense of This Whole Geor...  ...   \n",
       "3                b'Russian forces sink Georgian ships '  ...   \n",
       "4     b'Will the Russians conquer Tblisi? Bet on it,...  ...   \n",
       "...                                                 ...  ...   \n",
       "1984  Surge in Hate Crimes in the U.K. Following U.K...  ...   \n",
       "1985  Brexit: Iceland president says UK can join 'tr...  ...   \n",
       "1986            UK shares and pound continue to recover  ...   \n",
       "1987  Republic of Ireland fans to be awarded medal f...  ...   \n",
       "1988  Facebook wins privacy case, can track any Belg...  ...   \n",
       "\n",
       "                                                  Top23  \\\n",
       "0     b'Indian shoe manufactory  - And again in a se...   \n",
       "1     b'Perhaps *the* question about the Georgia - R...   \n",
       "2     b'Christopher King argues that the US and NATO...   \n",
       "3     b' Quarter of Russians blame U.S. for conflict...   \n",
       "4     b'Russia: World  \"can forget about\" Georgia\\'s...   \n",
       "...                                                 ...   \n",
       "1984  Economists predict UK recession, further weake...   \n",
       "1985  Brexit: Gibraltar in talks with Scotland to st...   \n",
       "1986  Extremist violence on the rise in Germany: Dom...   \n",
       "1987  We will be swimming in ridicule - French beach...   \n",
       "1988  Venezuela, where anger over food shortages is ...   \n",
       "\n",
       "                                                  Top24  \\\n",
       "0     b'Visitors Suffering from Mental Illnesses Ban...   \n",
       "1                    b'Russia is so much better at war'   \n",
       "2                           b'America: The New Mexico?'   \n",
       "3     b'Georgian president  says US military will ta...   \n",
       "4     b'Darfur rebels accuse Sudan of mounting major...   \n",
       "...                                                 ...   \n",
       "1984  New EU 'superstate plan by France, Germany: Cr...   \n",
       "1985                   8 Suicide Bombers Strike Lebanon   \n",
       "1986  BBC News: Labour MPs pass Corbyn no-confidence...   \n",
       "1987  UEFA says no minutes of silence for Istanbul v...   \n",
       "1988  A Hindu temple worker has been killed by three...   \n",
       "\n",
       "                                                  Top25          Open  \\\n",
       "0              b\"No Help for Mexico's Kidnapping Surge\"  11432.089844   \n",
       "1     b\"So this is what it's come to: trading sex fo...  11729.669922   \n",
       "2     b\"BBC NEWS | Asia-Pacific | Extinction 'by man...  11781.700195   \n",
       "3     b'2006: Nobel laureate Aleksander Solzhenitsyn...  11632.809570   \n",
       "4     b'Philippines : Peace Advocate say Muslims nee...  11532.070312   \n",
       "...                                                 ...           ...   \n",
       "1984  Pakistani clerics declare transgender marriage...  17355.210938   \n",
       "1985  Mexico's security forces routinely use 'sexual...  17190.509766   \n",
       "1986  Tiny New Zealand town with 'too many jobs' lau...  17456.019531   \n",
       "1987  Law Enforcement Sources: Gun Used in Paris Ter...  17712.759766   \n",
       "1988  Ozone layer hole seems to be healing - US &amp...  17924.240234   \n",
       "\n",
       "              High           Low         Close     Volume     Adj Close  \\\n",
       "0     11759.959961  11388.040039  11734.320312  212830000  11734.320312   \n",
       "1     11867.110352  11675.530273  11782.349609  183190000  11782.349609   \n",
       "2     11782.349609  11601.519531  11642.469727  173590000  11642.469727   \n",
       "3     11633.780273  11453.339844  11532.959961  182550000  11532.959961   \n",
       "4     11718.280273  11450.889648  11615.929688  159790000  11615.929688   \n",
       "...            ...           ...           ...        ...           ...   \n",
       "1984  17355.210938  17063.080078  17140.240234  138740000  17140.240234   \n",
       "1985  17409.720703  17190.509766  17409.720703  112190000  17409.720703   \n",
       "1986  17704.509766  17456.019531  17694.679688  106380000  17694.679688   \n",
       "1987  17930.609375  17711.800781  17929.990234  133030000  17929.990234   \n",
       "1988  18002.380859  17916.910156  17949.369141   82160000  17949.369141   \n",
       "\n",
       "                                          Combined News  \n",
       "0     b\"Georgia 'downs two Russian warplanes' as cou...  \n",
       "1     b'Why wont America and Nato help us? If they w...  \n",
       "2     b'Remember that adorable 9-year-old who sang a...  \n",
       "3     b' U.S. refuses Israel weapons to attack Iran:...  \n",
       "4     b'All the experts admit that we should legalis...  \n",
       "...                                                 ...  \n",
       "1984  Barclays and RBS shares suspended from trading...  \n",
       "1985  2,500 Scientists To Australia: If You Want To ...  \n",
       "1986  Explosion At Airport In Istanbul Yemeni former...  \n",
       "1987  Jamaica proposes marijuana dispensers for tour...  \n",
       "1988  A 117-year-old woman in Mexico City finally re...  \n",
       "\n",
       "[1989 rows x 34 columns]"
      ]
     },
     "execution_count": 72,
     "metadata": {},
     "output_type": "execute_result"
    }
   ],
   "source": [
    "Final_df['Combined News'] = headline\n",
    "Final_df"
   ]
  },
  {
   "cell_type": "code",
   "execution_count": 73,
   "metadata": {
    "execution": {
     "iopub.execute_input": "2023-01-31T23:02:55.960479Z",
     "iopub.status.busy": "2023-01-31T23:02:55.959736Z",
     "iopub.status.idle": "2023-01-31T23:02:55.991580Z",
     "shell.execute_reply": "2023-01-31T23:02:55.990368Z",
     "shell.execute_reply.started": "2023-01-31T23:02:55.960435Z"
    }
   },
   "outputs": [
    {
     "data": {
      "text/html": [
       "<div>\n",
       "<style scoped>\n",
       "    .dataframe tbody tr th:only-of-type {\n",
       "        vertical-align: middle;\n",
       "    }\n",
       "\n",
       "    .dataframe tbody tr th {\n",
       "        vertical-align: top;\n",
       "    }\n",
       "\n",
       "    .dataframe thead th {\n",
       "        text-align: right;\n",
       "    }\n",
       "</style>\n",
       "<table border=\"1\" class=\"dataframe\">\n",
       "  <thead>\n",
       "    <tr style=\"text-align: right;\">\n",
       "      <th></th>\n",
       "      <th>Date</th>\n",
       "      <th>Open</th>\n",
       "      <th>High</th>\n",
       "      <th>Low</th>\n",
       "      <th>Close</th>\n",
       "      <th>Volume</th>\n",
       "      <th>Adj Close</th>\n",
       "      <th>Combined News</th>\n",
       "    </tr>\n",
       "  </thead>\n",
       "  <tbody>\n",
       "    <tr>\n",
       "      <th>0</th>\n",
       "      <td>2008-08-08</td>\n",
       "      <td>11432.089844</td>\n",
       "      <td>11759.959961</td>\n",
       "      <td>11388.040039</td>\n",
       "      <td>11734.320312</td>\n",
       "      <td>212830000</td>\n",
       "      <td>11734.320312</td>\n",
       "      <td>b\"Georgia 'downs two Russian warplanes' as cou...</td>\n",
       "    </tr>\n",
       "    <tr>\n",
       "      <th>1</th>\n",
       "      <td>2008-08-11</td>\n",
       "      <td>11729.669922</td>\n",
       "      <td>11867.110352</td>\n",
       "      <td>11675.530273</td>\n",
       "      <td>11782.349609</td>\n",
       "      <td>183190000</td>\n",
       "      <td>11782.349609</td>\n",
       "      <td>b'Why wont America and Nato help us? If they w...</td>\n",
       "    </tr>\n",
       "    <tr>\n",
       "      <th>2</th>\n",
       "      <td>2008-08-12</td>\n",
       "      <td>11781.700195</td>\n",
       "      <td>11782.349609</td>\n",
       "      <td>11601.519531</td>\n",
       "      <td>11642.469727</td>\n",
       "      <td>173590000</td>\n",
       "      <td>11642.469727</td>\n",
       "      <td>b'Remember that adorable 9-year-old who sang a...</td>\n",
       "    </tr>\n",
       "    <tr>\n",
       "      <th>3</th>\n",
       "      <td>2008-08-13</td>\n",
       "      <td>11632.809570</td>\n",
       "      <td>11633.780273</td>\n",
       "      <td>11453.339844</td>\n",
       "      <td>11532.959961</td>\n",
       "      <td>182550000</td>\n",
       "      <td>11532.959961</td>\n",
       "      <td>b' U.S. refuses Israel weapons to attack Iran:...</td>\n",
       "    </tr>\n",
       "    <tr>\n",
       "      <th>4</th>\n",
       "      <td>2008-08-14</td>\n",
       "      <td>11532.070312</td>\n",
       "      <td>11718.280273</td>\n",
       "      <td>11450.889648</td>\n",
       "      <td>11615.929688</td>\n",
       "      <td>159790000</td>\n",
       "      <td>11615.929688</td>\n",
       "      <td>b'All the experts admit that we should legalis...</td>\n",
       "    </tr>\n",
       "    <tr>\n",
       "      <th>...</th>\n",
       "      <td>...</td>\n",
       "      <td>...</td>\n",
       "      <td>...</td>\n",
       "      <td>...</td>\n",
       "      <td>...</td>\n",
       "      <td>...</td>\n",
       "      <td>...</td>\n",
       "      <td>...</td>\n",
       "    </tr>\n",
       "    <tr>\n",
       "      <th>1984</th>\n",
       "      <td>2016-06-27</td>\n",
       "      <td>17355.210938</td>\n",
       "      <td>17355.210938</td>\n",
       "      <td>17063.080078</td>\n",
       "      <td>17140.240234</td>\n",
       "      <td>138740000</td>\n",
       "      <td>17140.240234</td>\n",
       "      <td>Barclays and RBS shares suspended from trading...</td>\n",
       "    </tr>\n",
       "    <tr>\n",
       "      <th>1985</th>\n",
       "      <td>2016-06-28</td>\n",
       "      <td>17190.509766</td>\n",
       "      <td>17409.720703</td>\n",
       "      <td>17190.509766</td>\n",
       "      <td>17409.720703</td>\n",
       "      <td>112190000</td>\n",
       "      <td>17409.720703</td>\n",
       "      <td>2,500 Scientists To Australia: If You Want To ...</td>\n",
       "    </tr>\n",
       "    <tr>\n",
       "      <th>1986</th>\n",
       "      <td>2016-06-29</td>\n",
       "      <td>17456.019531</td>\n",
       "      <td>17704.509766</td>\n",
       "      <td>17456.019531</td>\n",
       "      <td>17694.679688</td>\n",
       "      <td>106380000</td>\n",
       "      <td>17694.679688</td>\n",
       "      <td>Explosion At Airport In Istanbul Yemeni former...</td>\n",
       "    </tr>\n",
       "    <tr>\n",
       "      <th>1987</th>\n",
       "      <td>2016-06-30</td>\n",
       "      <td>17712.759766</td>\n",
       "      <td>17930.609375</td>\n",
       "      <td>17711.800781</td>\n",
       "      <td>17929.990234</td>\n",
       "      <td>133030000</td>\n",
       "      <td>17929.990234</td>\n",
       "      <td>Jamaica proposes marijuana dispensers for tour...</td>\n",
       "    </tr>\n",
       "    <tr>\n",
       "      <th>1988</th>\n",
       "      <td>2016-07-01</td>\n",
       "      <td>17924.240234</td>\n",
       "      <td>18002.380859</td>\n",
       "      <td>17916.910156</td>\n",
       "      <td>17949.369141</td>\n",
       "      <td>82160000</td>\n",
       "      <td>17949.369141</td>\n",
       "      <td>A 117-year-old woman in Mexico City finally re...</td>\n",
       "    </tr>\n",
       "  </tbody>\n",
       "</table>\n",
       "<p>1989 rows × 8 columns</p>\n",
       "</div>"
      ],
      "text/plain": [
       "            Date          Open          High           Low         Close  \\\n",
       "0     2008-08-08  11432.089844  11759.959961  11388.040039  11734.320312   \n",
       "1     2008-08-11  11729.669922  11867.110352  11675.530273  11782.349609   \n",
       "2     2008-08-12  11781.700195  11782.349609  11601.519531  11642.469727   \n",
       "3     2008-08-13  11632.809570  11633.780273  11453.339844  11532.959961   \n",
       "4     2008-08-14  11532.070312  11718.280273  11450.889648  11615.929688   \n",
       "...          ...           ...           ...           ...           ...   \n",
       "1984  2016-06-27  17355.210938  17355.210938  17063.080078  17140.240234   \n",
       "1985  2016-06-28  17190.509766  17409.720703  17190.509766  17409.720703   \n",
       "1986  2016-06-29  17456.019531  17704.509766  17456.019531  17694.679688   \n",
       "1987  2016-06-30  17712.759766  17930.609375  17711.800781  17929.990234   \n",
       "1988  2016-07-01  17924.240234  18002.380859  17916.910156  17949.369141   \n",
       "\n",
       "         Volume     Adj Close  \\\n",
       "0     212830000  11734.320312   \n",
       "1     183190000  11782.349609   \n",
       "2     173590000  11642.469727   \n",
       "3     182550000  11532.959961   \n",
       "4     159790000  11615.929688   \n",
       "...         ...           ...   \n",
       "1984  138740000  17140.240234   \n",
       "1985  112190000  17409.720703   \n",
       "1986  106380000  17694.679688   \n",
       "1987  133030000  17929.990234   \n",
       "1988   82160000  17949.369141   \n",
       "\n",
       "                                          Combined News  \n",
       "0     b\"Georgia 'downs two Russian warplanes' as cou...  \n",
       "1     b'Why wont America and Nato help us? If they w...  \n",
       "2     b'Remember that adorable 9-year-old who sang a...  \n",
       "3     b' U.S. refuses Israel weapons to attack Iran:...  \n",
       "4     b'All the experts admit that we should legalis...  \n",
       "...                                                 ...  \n",
       "1984  Barclays and RBS shares suspended from trading...  \n",
       "1985  2,500 Scientists To Australia: If You Want To ...  \n",
       "1986  Explosion At Airport In Istanbul Yemeni former...  \n",
       "1987  Jamaica proposes marijuana dispensers for tour...  \n",
       "1988  A 117-year-old woman in Mexico City finally re...  \n",
       "\n",
       "[1989 rows x 8 columns]"
      ]
     },
     "execution_count": 73,
     "metadata": {},
     "output_type": "execute_result"
    }
   ],
   "source": [
    "Final_df = Final_df.drop(['Label','Top1','Top2','Top3','Top4','Top5','Top6','Top7','Top8','Top9','Top10','Top11','Top12','Top13','Top14','Top15','Top16','Top17','Top18','Top19','Top20','Top21','Top22','Top23','Top24','Top25'],axis=1)\n",
    "Final_df\n"
   ]
  },
  {
   "cell_type": "code",
   "execution_count": 74,
   "metadata": {
    "execution": {
     "iopub.execute_input": "2023-01-31T23:02:55.994967Z",
     "iopub.status.busy": "2023-01-31T23:02:55.993408Z",
     "iopub.status.idle": "2023-01-31T23:02:56.021629Z",
     "shell.execute_reply": "2023-01-31T23:02:56.020430Z",
     "shell.execute_reply.started": "2023-01-31T23:02:55.994925Z"
    }
   },
   "outputs": [
    {
     "data": {
      "text/html": [
       "<div>\n",
       "<style scoped>\n",
       "    .dataframe tbody tr th:only-of-type {\n",
       "        vertical-align: middle;\n",
       "    }\n",
       "\n",
       "    .dataframe tbody tr th {\n",
       "        vertical-align: top;\n",
       "    }\n",
       "\n",
       "    .dataframe thead th {\n",
       "        text-align: right;\n",
       "    }\n",
       "</style>\n",
       "<table border=\"1\" class=\"dataframe\">\n",
       "  <thead>\n",
       "    <tr style=\"text-align: right;\">\n",
       "      <th></th>\n",
       "      <th>Date</th>\n",
       "      <th>Open</th>\n",
       "      <th>High</th>\n",
       "      <th>Low</th>\n",
       "      <th>Close</th>\n",
       "      <th>Volume</th>\n",
       "      <th>Adj Close</th>\n",
       "      <th>Combined News</th>\n",
       "    </tr>\n",
       "  </thead>\n",
       "  <tbody>\n",
       "    <tr>\n",
       "      <th>0</th>\n",
       "      <td>2008-08-08</td>\n",
       "      <td>NaN</td>\n",
       "      <td>11759.959961</td>\n",
       "      <td>11388.040039</td>\n",
       "      <td>11734.320312</td>\n",
       "      <td>212830000</td>\n",
       "      <td>11734.320312</td>\n",
       "      <td>b\"Georgia 'downs two Russian warplanes' as cou...</td>\n",
       "    </tr>\n",
       "    <tr>\n",
       "      <th>1</th>\n",
       "      <td>2008-08-11</td>\n",
       "      <td>297.580078</td>\n",
       "      <td>11867.110352</td>\n",
       "      <td>11675.530273</td>\n",
       "      <td>11782.349609</td>\n",
       "      <td>183190000</td>\n",
       "      <td>11782.349609</td>\n",
       "      <td>b'Why wont America and Nato help us? If they w...</td>\n",
       "    </tr>\n",
       "    <tr>\n",
       "      <th>2</th>\n",
       "      <td>2008-08-12</td>\n",
       "      <td>52.030273</td>\n",
       "      <td>11782.349609</td>\n",
       "      <td>11601.519531</td>\n",
       "      <td>11642.469727</td>\n",
       "      <td>173590000</td>\n",
       "      <td>11642.469727</td>\n",
       "      <td>b'Remember that adorable 9-year-old who sang a...</td>\n",
       "    </tr>\n",
       "    <tr>\n",
       "      <th>3</th>\n",
       "      <td>2008-08-13</td>\n",
       "      <td>-148.890625</td>\n",
       "      <td>11633.780273</td>\n",
       "      <td>11453.339844</td>\n",
       "      <td>11532.959961</td>\n",
       "      <td>182550000</td>\n",
       "      <td>11532.959961</td>\n",
       "      <td>b' U.S. refuses Israel weapons to attack Iran:...</td>\n",
       "    </tr>\n",
       "    <tr>\n",
       "      <th>4</th>\n",
       "      <td>2008-08-14</td>\n",
       "      <td>-100.739258</td>\n",
       "      <td>11718.280273</td>\n",
       "      <td>11450.889648</td>\n",
       "      <td>11615.929688</td>\n",
       "      <td>159790000</td>\n",
       "      <td>11615.929688</td>\n",
       "      <td>b'All the experts admit that we should legalis...</td>\n",
       "    </tr>\n",
       "    <tr>\n",
       "      <th>...</th>\n",
       "      <td>...</td>\n",
       "      <td>...</td>\n",
       "      <td>...</td>\n",
       "      <td>...</td>\n",
       "      <td>...</td>\n",
       "      <td>...</td>\n",
       "      <td>...</td>\n",
       "      <td>...</td>\n",
       "    </tr>\n",
       "    <tr>\n",
       "      <th>1984</th>\n",
       "      <td>2016-06-27</td>\n",
       "      <td>-591.419921</td>\n",
       "      <td>17355.210938</td>\n",
       "      <td>17063.080078</td>\n",
       "      <td>17140.240234</td>\n",
       "      <td>138740000</td>\n",
       "      <td>17140.240234</td>\n",
       "      <td>Barclays and RBS shares suspended from trading...</td>\n",
       "    </tr>\n",
       "    <tr>\n",
       "      <th>1985</th>\n",
       "      <td>2016-06-28</td>\n",
       "      <td>-164.701172</td>\n",
       "      <td>17409.720703</td>\n",
       "      <td>17190.509766</td>\n",
       "      <td>17409.720703</td>\n",
       "      <td>112190000</td>\n",
       "      <td>17409.720703</td>\n",
       "      <td>2,500 Scientists To Australia: If You Want To ...</td>\n",
       "    </tr>\n",
       "    <tr>\n",
       "      <th>1986</th>\n",
       "      <td>2016-06-29</td>\n",
       "      <td>265.509765</td>\n",
       "      <td>17704.509766</td>\n",
       "      <td>17456.019531</td>\n",
       "      <td>17694.679688</td>\n",
       "      <td>106380000</td>\n",
       "      <td>17694.679688</td>\n",
       "      <td>Explosion At Airport In Istanbul Yemeni former...</td>\n",
       "    </tr>\n",
       "    <tr>\n",
       "      <th>1987</th>\n",
       "      <td>2016-06-30</td>\n",
       "      <td>256.740235</td>\n",
       "      <td>17930.609375</td>\n",
       "      <td>17711.800781</td>\n",
       "      <td>17929.990234</td>\n",
       "      <td>133030000</td>\n",
       "      <td>17929.990234</td>\n",
       "      <td>Jamaica proposes marijuana dispensers for tour...</td>\n",
       "    </tr>\n",
       "    <tr>\n",
       "      <th>1988</th>\n",
       "      <td>2016-07-01</td>\n",
       "      <td>211.480468</td>\n",
       "      <td>18002.380859</td>\n",
       "      <td>17916.910156</td>\n",
       "      <td>17949.369141</td>\n",
       "      <td>82160000</td>\n",
       "      <td>17949.369141</td>\n",
       "      <td>A 117-year-old woman in Mexico City finally re...</td>\n",
       "    </tr>\n",
       "  </tbody>\n",
       "</table>\n",
       "<p>1989 rows × 8 columns</p>\n",
       "</div>"
      ],
      "text/plain": [
       "            Date        Open          High           Low         Close  \\\n",
       "0     2008-08-08         NaN  11759.959961  11388.040039  11734.320312   \n",
       "1     2008-08-11  297.580078  11867.110352  11675.530273  11782.349609   \n",
       "2     2008-08-12   52.030273  11782.349609  11601.519531  11642.469727   \n",
       "3     2008-08-13 -148.890625  11633.780273  11453.339844  11532.959961   \n",
       "4     2008-08-14 -100.739258  11718.280273  11450.889648  11615.929688   \n",
       "...          ...         ...           ...           ...           ...   \n",
       "1984  2016-06-27 -591.419921  17355.210938  17063.080078  17140.240234   \n",
       "1985  2016-06-28 -164.701172  17409.720703  17190.509766  17409.720703   \n",
       "1986  2016-06-29  265.509765  17704.509766  17456.019531  17694.679688   \n",
       "1987  2016-06-30  256.740235  17930.609375  17711.800781  17929.990234   \n",
       "1988  2016-07-01  211.480468  18002.380859  17916.910156  17949.369141   \n",
       "\n",
       "         Volume     Adj Close  \\\n",
       "0     212830000  11734.320312   \n",
       "1     183190000  11782.349609   \n",
       "2     173590000  11642.469727   \n",
       "3     182550000  11532.959961   \n",
       "4     159790000  11615.929688   \n",
       "...         ...           ...   \n",
       "1984  138740000  17140.240234   \n",
       "1985  112190000  17409.720703   \n",
       "1986  106380000  17694.679688   \n",
       "1987  133030000  17929.990234   \n",
       "1988   82160000  17949.369141   \n",
       "\n",
       "                                          Combined News  \n",
       "0     b\"Georgia 'downs two Russian warplanes' as cou...  \n",
       "1     b'Why wont America and Nato help us? If they w...  \n",
       "2     b'Remember that adorable 9-year-old who sang a...  \n",
       "3     b' U.S. refuses Israel weapons to attack Iran:...  \n",
       "4     b'All the experts admit that we should legalis...  \n",
       "...                                                 ...  \n",
       "1984  Barclays and RBS shares suspended from trading...  \n",
       "1985  2,500 Scientists To Australia: If You Want To ...  \n",
       "1986  Explosion At Airport In Istanbul Yemeni former...  \n",
       "1987  Jamaica proposes marijuana dispensers for tour...  \n",
       "1988  A 117-year-old woman in Mexico City finally re...  \n",
       "\n",
       "[1989 rows x 8 columns]"
      ]
     },
     "execution_count": 74,
     "metadata": {},
     "output_type": "execute_result"
    }
   ],
   "source": [
    "Final_df['Open']= Final_df['Open'].diff(periods=1)\n",
    "Final_df"
   ]
  },
  {
   "cell_type": "code",
   "execution_count": 75,
   "metadata": {
    "execution": {
     "iopub.execute_input": "2023-01-31T23:02:56.026191Z",
     "iopub.status.busy": "2023-01-31T23:02:56.025859Z",
     "iopub.status.idle": "2023-01-31T23:02:56.055509Z",
     "shell.execute_reply": "2023-01-31T23:02:56.054374Z",
     "shell.execute_reply.started": "2023-01-31T23:02:56.026161Z"
    }
   },
   "outputs": [
    {
     "data": {
      "text/html": [
       "<div>\n",
       "<style scoped>\n",
       "    .dataframe tbody tr th:only-of-type {\n",
       "        vertical-align: middle;\n",
       "    }\n",
       "\n",
       "    .dataframe tbody tr th {\n",
       "        vertical-align: top;\n",
       "    }\n",
       "\n",
       "    .dataframe thead th {\n",
       "        text-align: right;\n",
       "    }\n",
       "</style>\n",
       "<table border=\"1\" class=\"dataframe\">\n",
       "  <thead>\n",
       "    <tr style=\"text-align: right;\">\n",
       "      <th></th>\n",
       "      <th>Date</th>\n",
       "      <th>Open</th>\n",
       "      <th>High</th>\n",
       "      <th>Low</th>\n",
       "      <th>Close</th>\n",
       "      <th>Volume</th>\n",
       "      <th>Adj Close</th>\n",
       "      <th>Combined News</th>\n",
       "    </tr>\n",
       "  </thead>\n",
       "  <tbody>\n",
       "    <tr>\n",
       "      <th>0</th>\n",
       "      <td>2008-08-08</td>\n",
       "      <td>NaN</td>\n",
       "      <td>NaN</td>\n",
       "      <td>NaN</td>\n",
       "      <td>NaN</td>\n",
       "      <td>NaN</td>\n",
       "      <td>11734.320312</td>\n",
       "      <td>b\"Georgia 'downs two Russian warplanes' as cou...</td>\n",
       "    </tr>\n",
       "    <tr>\n",
       "      <th>1</th>\n",
       "      <td>2008-08-11</td>\n",
       "      <td>297.580078</td>\n",
       "      <td>107.150391</td>\n",
       "      <td>287.490234</td>\n",
       "      <td>48.029297</td>\n",
       "      <td>-29640000.0</td>\n",
       "      <td>11782.349609</td>\n",
       "      <td>b'Why wont America and Nato help us? If they w...</td>\n",
       "    </tr>\n",
       "    <tr>\n",
       "      <th>2</th>\n",
       "      <td>2008-08-12</td>\n",
       "      <td>52.030273</td>\n",
       "      <td>-84.760743</td>\n",
       "      <td>-74.010742</td>\n",
       "      <td>-139.879882</td>\n",
       "      <td>-9600000.0</td>\n",
       "      <td>11642.469727</td>\n",
       "      <td>b'Remember that adorable 9-year-old who sang a...</td>\n",
       "    </tr>\n",
       "    <tr>\n",
       "      <th>3</th>\n",
       "      <td>2008-08-13</td>\n",
       "      <td>-148.890625</td>\n",
       "      <td>-148.569336</td>\n",
       "      <td>-148.179687</td>\n",
       "      <td>-109.509766</td>\n",
       "      <td>8960000.0</td>\n",
       "      <td>11532.959961</td>\n",
       "      <td>b' U.S. refuses Israel weapons to attack Iran:...</td>\n",
       "    </tr>\n",
       "    <tr>\n",
       "      <th>4</th>\n",
       "      <td>2008-08-14</td>\n",
       "      <td>-100.739258</td>\n",
       "      <td>84.500000</td>\n",
       "      <td>-2.450196</td>\n",
       "      <td>82.969727</td>\n",
       "      <td>-22760000.0</td>\n",
       "      <td>11615.929688</td>\n",
       "      <td>b'All the experts admit that we should legalis...</td>\n",
       "    </tr>\n",
       "    <tr>\n",
       "      <th>...</th>\n",
       "      <td>...</td>\n",
       "      <td>...</td>\n",
       "      <td>...</td>\n",
       "      <td>...</td>\n",
       "      <td>...</td>\n",
       "      <td>...</td>\n",
       "      <td>...</td>\n",
       "      <td>...</td>\n",
       "    </tr>\n",
       "    <tr>\n",
       "      <th>1984</th>\n",
       "      <td>2016-06-27</td>\n",
       "      <td>-591.419921</td>\n",
       "      <td>-591.419921</td>\n",
       "      <td>-293.259766</td>\n",
       "      <td>-260.509766</td>\n",
       "      <td>-100260000.0</td>\n",
       "      <td>17140.240234</td>\n",
       "      <td>Barclays and RBS shares suspended from trading...</td>\n",
       "    </tr>\n",
       "    <tr>\n",
       "      <th>1985</th>\n",
       "      <td>2016-06-28</td>\n",
       "      <td>-164.701172</td>\n",
       "      <td>54.509765</td>\n",
       "      <td>127.429688</td>\n",
       "      <td>269.480469</td>\n",
       "      <td>-26550000.0</td>\n",
       "      <td>17409.720703</td>\n",
       "      <td>2,500 Scientists To Australia: If You Want To ...</td>\n",
       "    </tr>\n",
       "    <tr>\n",
       "      <th>1986</th>\n",
       "      <td>2016-06-29</td>\n",
       "      <td>265.509765</td>\n",
       "      <td>294.789063</td>\n",
       "      <td>265.509765</td>\n",
       "      <td>284.958985</td>\n",
       "      <td>-5810000.0</td>\n",
       "      <td>17694.679688</td>\n",
       "      <td>Explosion At Airport In Istanbul Yemeni former...</td>\n",
       "    </tr>\n",
       "    <tr>\n",
       "      <th>1987</th>\n",
       "      <td>2016-06-30</td>\n",
       "      <td>256.740235</td>\n",
       "      <td>226.099609</td>\n",
       "      <td>255.781250</td>\n",
       "      <td>235.310546</td>\n",
       "      <td>26650000.0</td>\n",
       "      <td>17929.990234</td>\n",
       "      <td>Jamaica proposes marijuana dispensers for tour...</td>\n",
       "    </tr>\n",
       "    <tr>\n",
       "      <th>1988</th>\n",
       "      <td>2016-07-01</td>\n",
       "      <td>211.480468</td>\n",
       "      <td>71.771484</td>\n",
       "      <td>205.109375</td>\n",
       "      <td>19.378907</td>\n",
       "      <td>-50870000.0</td>\n",
       "      <td>17949.369141</td>\n",
       "      <td>A 117-year-old woman in Mexico City finally re...</td>\n",
       "    </tr>\n",
       "  </tbody>\n",
       "</table>\n",
       "<p>1989 rows × 8 columns</p>\n",
       "</div>"
      ],
      "text/plain": [
       "            Date        Open        High         Low       Close       Volume  \\\n",
       "0     2008-08-08         NaN         NaN         NaN         NaN          NaN   \n",
       "1     2008-08-11  297.580078  107.150391  287.490234   48.029297  -29640000.0   \n",
       "2     2008-08-12   52.030273  -84.760743  -74.010742 -139.879882   -9600000.0   \n",
       "3     2008-08-13 -148.890625 -148.569336 -148.179687 -109.509766    8960000.0   \n",
       "4     2008-08-14 -100.739258   84.500000   -2.450196   82.969727  -22760000.0   \n",
       "...          ...         ...         ...         ...         ...          ...   \n",
       "1984  2016-06-27 -591.419921 -591.419921 -293.259766 -260.509766 -100260000.0   \n",
       "1985  2016-06-28 -164.701172   54.509765  127.429688  269.480469  -26550000.0   \n",
       "1986  2016-06-29  265.509765  294.789063  265.509765  284.958985   -5810000.0   \n",
       "1987  2016-06-30  256.740235  226.099609  255.781250  235.310546   26650000.0   \n",
       "1988  2016-07-01  211.480468   71.771484  205.109375   19.378907  -50870000.0   \n",
       "\n",
       "         Adj Close                                      Combined News  \n",
       "0     11734.320312  b\"Georgia 'downs two Russian warplanes' as cou...  \n",
       "1     11782.349609  b'Why wont America and Nato help us? If they w...  \n",
       "2     11642.469727  b'Remember that adorable 9-year-old who sang a...  \n",
       "3     11532.959961  b' U.S. refuses Israel weapons to attack Iran:...  \n",
       "4     11615.929688  b'All the experts admit that we should legalis...  \n",
       "...            ...                                                ...  \n",
       "1984  17140.240234  Barclays and RBS shares suspended from trading...  \n",
       "1985  17409.720703  2,500 Scientists To Australia: If You Want To ...  \n",
       "1986  17694.679688  Explosion At Airport In Istanbul Yemeni former...  \n",
       "1987  17929.990234  Jamaica proposes marijuana dispensers for tour...  \n",
       "1988  17949.369141  A 117-year-old woman in Mexico City finally re...  \n",
       "\n",
       "[1989 rows x 8 columns]"
      ]
     },
     "execution_count": 75,
     "metadata": {},
     "output_type": "execute_result"
    }
   ],
   "source": [
    "Final_df['Volume']= Final_df['Volume'].diff(periods=1)\n",
    "Final_df['High']= Final_df['High'].diff(periods=1)\n",
    "Final_df['Low']= Final_df['Low'].diff(periods=1)\n",
    "Final_df['Close']= Final_df['Close'].diff(periods=1)\n",
    "Final_df"
   ]
  },
  {
   "cell_type": "code",
   "execution_count": 76,
   "metadata": {
    "execution": {
     "iopub.execute_input": "2023-01-31T23:02:56.058285Z",
     "iopub.status.busy": "2023-01-31T23:02:56.057167Z",
     "iopub.status.idle": "2023-01-31T23:02:56.084583Z",
     "shell.execute_reply": "2023-01-31T23:02:56.083448Z",
     "shell.execute_reply.started": "2023-01-31T23:02:56.058251Z"
    }
   },
   "outputs": [
    {
     "data": {
      "text/html": [
       "<div>\n",
       "<style scoped>\n",
       "    .dataframe tbody tr th:only-of-type {\n",
       "        vertical-align: middle;\n",
       "    }\n",
       "\n",
       "    .dataframe tbody tr th {\n",
       "        vertical-align: top;\n",
       "    }\n",
       "\n",
       "    .dataframe thead th {\n",
       "        text-align: right;\n",
       "    }\n",
       "</style>\n",
       "<table border=\"1\" class=\"dataframe\">\n",
       "  <thead>\n",
       "    <tr style=\"text-align: right;\">\n",
       "      <th></th>\n",
       "      <th>Date</th>\n",
       "      <th>Open</th>\n",
       "      <th>High</th>\n",
       "      <th>Low</th>\n",
       "      <th>Close</th>\n",
       "      <th>Volume</th>\n",
       "      <th>Adj Close</th>\n",
       "      <th>Combined News</th>\n",
       "    </tr>\n",
       "  </thead>\n",
       "  <tbody>\n",
       "    <tr>\n",
       "      <th>0</th>\n",
       "      <td>2008-08-11</td>\n",
       "      <td>297.580078</td>\n",
       "      <td>107.150391</td>\n",
       "      <td>287.490234</td>\n",
       "      <td>48.029297</td>\n",
       "      <td>-29640000.0</td>\n",
       "      <td>11782.349609</td>\n",
       "      <td>b'Why wont America and Nato help us? If they w...</td>\n",
       "    </tr>\n",
       "    <tr>\n",
       "      <th>1</th>\n",
       "      <td>2008-08-12</td>\n",
       "      <td>52.030273</td>\n",
       "      <td>-84.760743</td>\n",
       "      <td>-74.010742</td>\n",
       "      <td>-139.879882</td>\n",
       "      <td>-9600000.0</td>\n",
       "      <td>11642.469727</td>\n",
       "      <td>b'Remember that adorable 9-year-old who sang a...</td>\n",
       "    </tr>\n",
       "    <tr>\n",
       "      <th>2</th>\n",
       "      <td>2008-08-13</td>\n",
       "      <td>-148.890625</td>\n",
       "      <td>-148.569336</td>\n",
       "      <td>-148.179687</td>\n",
       "      <td>-109.509766</td>\n",
       "      <td>8960000.0</td>\n",
       "      <td>11532.959961</td>\n",
       "      <td>b' U.S. refuses Israel weapons to attack Iran:...</td>\n",
       "    </tr>\n",
       "    <tr>\n",
       "      <th>3</th>\n",
       "      <td>2008-08-14</td>\n",
       "      <td>-100.739258</td>\n",
       "      <td>84.500000</td>\n",
       "      <td>-2.450196</td>\n",
       "      <td>82.969727</td>\n",
       "      <td>-22760000.0</td>\n",
       "      <td>11615.929688</td>\n",
       "      <td>b'All the experts admit that we should legalis...</td>\n",
       "    </tr>\n",
       "    <tr>\n",
       "      <th>4</th>\n",
       "      <td>2008-08-15</td>\n",
       "      <td>79.139649</td>\n",
       "      <td>-8.390625</td>\n",
       "      <td>148.840821</td>\n",
       "      <td>43.970703</td>\n",
       "      <td>55250000.0</td>\n",
       "      <td>11659.900391</td>\n",
       "      <td>b\"Mom of missing gay man: Too bad he's not a 2...</td>\n",
       "    </tr>\n",
       "    <tr>\n",
       "      <th>...</th>\n",
       "      <td>...</td>\n",
       "      <td>...</td>\n",
       "      <td>...</td>\n",
       "      <td>...</td>\n",
       "      <td>...</td>\n",
       "      <td>...</td>\n",
       "      <td>...</td>\n",
       "      <td>...</td>\n",
       "    </tr>\n",
       "    <tr>\n",
       "      <th>1983</th>\n",
       "      <td>2016-06-27</td>\n",
       "      <td>-591.419921</td>\n",
       "      <td>-591.419921</td>\n",
       "      <td>-293.259766</td>\n",
       "      <td>-260.509766</td>\n",
       "      <td>-100260000.0</td>\n",
       "      <td>17140.240234</td>\n",
       "      <td>Barclays and RBS shares suspended from trading...</td>\n",
       "    </tr>\n",
       "    <tr>\n",
       "      <th>1984</th>\n",
       "      <td>2016-06-28</td>\n",
       "      <td>-164.701172</td>\n",
       "      <td>54.509765</td>\n",
       "      <td>127.429688</td>\n",
       "      <td>269.480469</td>\n",
       "      <td>-26550000.0</td>\n",
       "      <td>17409.720703</td>\n",
       "      <td>2,500 Scientists To Australia: If You Want To ...</td>\n",
       "    </tr>\n",
       "    <tr>\n",
       "      <th>1985</th>\n",
       "      <td>2016-06-29</td>\n",
       "      <td>265.509765</td>\n",
       "      <td>294.789063</td>\n",
       "      <td>265.509765</td>\n",
       "      <td>284.958985</td>\n",
       "      <td>-5810000.0</td>\n",
       "      <td>17694.679688</td>\n",
       "      <td>Explosion At Airport In Istanbul Yemeni former...</td>\n",
       "    </tr>\n",
       "    <tr>\n",
       "      <th>1986</th>\n",
       "      <td>2016-06-30</td>\n",
       "      <td>256.740235</td>\n",
       "      <td>226.099609</td>\n",
       "      <td>255.781250</td>\n",
       "      <td>235.310546</td>\n",
       "      <td>26650000.0</td>\n",
       "      <td>17929.990234</td>\n",
       "      <td>Jamaica proposes marijuana dispensers for tour...</td>\n",
       "    </tr>\n",
       "    <tr>\n",
       "      <th>1987</th>\n",
       "      <td>2016-07-01</td>\n",
       "      <td>211.480468</td>\n",
       "      <td>71.771484</td>\n",
       "      <td>205.109375</td>\n",
       "      <td>19.378907</td>\n",
       "      <td>-50870000.0</td>\n",
       "      <td>17949.369141</td>\n",
       "      <td>A 117-year-old woman in Mexico City finally re...</td>\n",
       "    </tr>\n",
       "  </tbody>\n",
       "</table>\n",
       "<p>1988 rows × 8 columns</p>\n",
       "</div>"
      ],
      "text/plain": [
       "            Date        Open        High         Low       Close       Volume  \\\n",
       "0     2008-08-11  297.580078  107.150391  287.490234   48.029297  -29640000.0   \n",
       "1     2008-08-12   52.030273  -84.760743  -74.010742 -139.879882   -9600000.0   \n",
       "2     2008-08-13 -148.890625 -148.569336 -148.179687 -109.509766    8960000.0   \n",
       "3     2008-08-14 -100.739258   84.500000   -2.450196   82.969727  -22760000.0   \n",
       "4     2008-08-15   79.139649   -8.390625  148.840821   43.970703   55250000.0   \n",
       "...          ...         ...         ...         ...         ...          ...   \n",
       "1983  2016-06-27 -591.419921 -591.419921 -293.259766 -260.509766 -100260000.0   \n",
       "1984  2016-06-28 -164.701172   54.509765  127.429688  269.480469  -26550000.0   \n",
       "1985  2016-06-29  265.509765  294.789063  265.509765  284.958985   -5810000.0   \n",
       "1986  2016-06-30  256.740235  226.099609  255.781250  235.310546   26650000.0   \n",
       "1987  2016-07-01  211.480468   71.771484  205.109375   19.378907  -50870000.0   \n",
       "\n",
       "         Adj Close                                      Combined News  \n",
       "0     11782.349609  b'Why wont America and Nato help us? If they w...  \n",
       "1     11642.469727  b'Remember that adorable 9-year-old who sang a...  \n",
       "2     11532.959961  b' U.S. refuses Israel weapons to attack Iran:...  \n",
       "3     11615.929688  b'All the experts admit that we should legalis...  \n",
       "4     11659.900391  b\"Mom of missing gay man: Too bad he's not a 2...  \n",
       "...            ...                                                ...  \n",
       "1983  17140.240234  Barclays and RBS shares suspended from trading...  \n",
       "1984  17409.720703  2,500 Scientists To Australia: If You Want To ...  \n",
       "1985  17694.679688  Explosion At Airport In Istanbul Yemeni former...  \n",
       "1986  17929.990234  Jamaica proposes marijuana dispensers for tour...  \n",
       "1987  17949.369141  A 117-year-old woman in Mexico City finally re...  \n",
       "\n",
       "[1988 rows x 8 columns]"
      ]
     },
     "execution_count": 76,
     "metadata": {},
     "output_type": "execute_result"
    }
   ],
   "source": [
    "Final_df = Final_df[Final_df.Open.notnull()]\n",
    "Final_df = Final_df.reset_index(drop=True)\n",
    "Final_df"
   ]
  },
  {
   "cell_type": "code",
   "execution_count": 77,
   "metadata": {
    "execution": {
     "iopub.execute_input": "2023-01-31T23:02:56.087104Z",
     "iopub.status.busy": "2023-01-31T23:02:56.086382Z",
     "iopub.status.idle": "2023-01-31T23:02:56.094408Z",
     "shell.execute_reply": "2023-01-31T23:02:56.093015Z",
     "shell.execute_reply.started": "2023-01-31T23:02:56.087061Z"
    }
   },
   "outputs": [
    {
     "name": "stdout",
     "output_type": "stream",
     "text": [
      "297.58007799999905\n",
      "b'Why wont America and Nato help us? If they wont help us now, why did we help them in Iraq?' b'Bush puts foot down on Georgian conflict' b\"Jewish Georgian minister: Thanks to Israeli training, we're fending off Russia \" b'Georgian army flees in disarray as Russians advance - Gori abandoned to Russia without a shot fired' b\"Olympic opening ceremony fireworks 'faked'\" b'What were the Mossad with fraudulent New Zealand Passports doing in Iraq?' b'Russia angered by Israeli military sale to Georgia' b'An American citizen living in S.Ossetia blames U.S. and Georgian leaders for the genocide of innocent people' b'Welcome To World War IV! Now In High Definition!' b\"Georgia's move, a mistake of monumental proportions \" b'Russia presses deeper into Georgia; U.S. says regime change is goal' b'Abhinav Bindra wins first ever Individual Olympic Gold Medal for India' b' U.S. ship heads for Arctic to define territory' b'Drivers in a Jerusalem taxi station threaten to quit rather than work for their new boss - an Arab' b'The French Team is Stunned by Phelps and the 4x100m Relay Team' b'Israel and the US behind the Georgian aggression?' b'\"Do not believe TV, neither Russian nor Georgian. There are much more victims\"' b'Riots are still going on in Montreal (Canada) because police murdered a boy on Saturday.' b'China to overtake US as largest manufacturer' b'War in South Ossetia [PICS]' b'Israeli Physicians Group Condemns State Torture' b' Russia has just beaten the United States over the head with Peak Oil' b'Perhaps *the* question about the Georgia - Russia conflict ' b'Russia is so much better at war' b\"So this is what it's come to: trading sex for food.\"\n"
     ]
    }
   ],
   "source": [
    "print(Final_df['Open'][0])\n",
    "print(Final_df['Combined News'][0])"
   ]
  },
  {
   "cell_type": "code",
   "execution_count": 79,
   "metadata": {
    "execution": {
     "iopub.execute_input": "2023-01-31T23:02:56.112472Z",
     "iopub.status.busy": "2023-01-31T23:02:56.111862Z",
     "iopub.status.idle": "2023-01-31T23:02:56.126222Z",
     "shell.execute_reply": "2023-01-31T23:02:56.125060Z",
     "shell.execute_reply.started": "2023-01-31T23:02:56.112428Z"
    }
   },
   "outputs": [],
   "source": [
    "stop_words = stopwords.words('english')\n",
    "lemmetizer = WordNetLemmatizer()\n",
    "def textclean(s):\n",
    "    words = []\n",
    "    s = s.strip().lower()\n",
    "    s = re.sub('\\[.*?\\]', '', s) \n",
    "    s = re.sub('https?://\\S+|www\\.\\S+', '', s)\n",
    "    s = re.sub('<.*?>+', '', s)\n",
    "    s = re.sub('[%s]' % re.escape(string.punctuation), '', s)\n",
    "    s = re.sub('\\n', '', s)\n",
    "    s = re.sub('\\w*\\d\\w*', '', s)\n",
    "    s = re.sub(\"b[(')]\",'',s)\n",
    "    s = re.sub('b[(\")]','',s)\n",
    "    words = s.split()\n",
    "    words = [lemmetizer.lemmatize(word) for word in words if word not in stop_words] # removing stop words and applying lemmetization\n",
    "    s = ' '.join(words)\n",
    "    return s"
   ]
  },
  {
   "cell_type": "code",
   "execution_count": 80,
   "metadata": {
    "execution": {
     "iopub.execute_input": "2023-01-31T23:02:56.129546Z",
     "iopub.status.busy": "2023-01-31T23:02:56.128712Z",
     "iopub.status.idle": "2023-01-31T23:03:02.188146Z",
     "shell.execute_reply": "2023-01-31T23:03:02.186947Z",
     "shell.execute_reply.started": "2023-01-31T23:02:56.129503Z"
    }
   },
   "outputs": [
    {
     "data": {
      "text/html": [
       "<div>\n",
       "<style scoped>\n",
       "    .dataframe tbody tr th:only-of-type {\n",
       "        vertical-align: middle;\n",
       "    }\n",
       "\n",
       "    .dataframe tbody tr th {\n",
       "        vertical-align: top;\n",
       "    }\n",
       "\n",
       "    .dataframe thead th {\n",
       "        text-align: right;\n",
       "    }\n",
       "</style>\n",
       "<table border=\"1\" class=\"dataframe\">\n",
       "  <thead>\n",
       "    <tr style=\"text-align: right;\">\n",
       "      <th></th>\n",
       "      <th>Date</th>\n",
       "      <th>Open</th>\n",
       "      <th>High</th>\n",
       "      <th>Low</th>\n",
       "      <th>Close</th>\n",
       "      <th>Volume</th>\n",
       "      <th>Adj Close</th>\n",
       "      <th>Combined News</th>\n",
       "      <th>cleaned_text</th>\n",
       "    </tr>\n",
       "  </thead>\n",
       "  <tbody>\n",
       "    <tr>\n",
       "      <th>0</th>\n",
       "      <td>2008-08-11</td>\n",
       "      <td>297.580078</td>\n",
       "      <td>107.150391</td>\n",
       "      <td>287.490234</td>\n",
       "      <td>48.029297</td>\n",
       "      <td>-29640000.0</td>\n",
       "      <td>11782.349609</td>\n",
       "      <td>b'Why wont America and Nato help us? If they w...</td>\n",
       "      <td>bwhy wont america nato help u wont help u help...</td>\n",
       "    </tr>\n",
       "    <tr>\n",
       "      <th>1</th>\n",
       "      <td>2008-08-12</td>\n",
       "      <td>52.030273</td>\n",
       "      <td>-84.760743</td>\n",
       "      <td>-74.010742</td>\n",
       "      <td>-139.879882</td>\n",
       "      <td>-9600000.0</td>\n",
       "      <td>11642.469727</td>\n",
       "      <td>b'Remember that adorable 9-year-old who sang a...</td>\n",
       "      <td>bremember adorable sang opening ceremony fake ...</td>\n",
       "    </tr>\n",
       "    <tr>\n",
       "      <th>2</th>\n",
       "      <td>2008-08-13</td>\n",
       "      <td>-148.890625</td>\n",
       "      <td>-148.569336</td>\n",
       "      <td>-148.179687</td>\n",
       "      <td>-109.509766</td>\n",
       "      <td>8960000.0</td>\n",
       "      <td>11532.959961</td>\n",
       "      <td>b' U.S. refuses Israel weapons to attack Iran:...</td>\n",
       "      <td>b u refuse israel weapon attack iran report bw...</td>\n",
       "    </tr>\n",
       "    <tr>\n",
       "      <th>3</th>\n",
       "      <td>2008-08-14</td>\n",
       "      <td>-100.739258</td>\n",
       "      <td>84.500000</td>\n",
       "      <td>-2.450196</td>\n",
       "      <td>82.969727</td>\n",
       "      <td>-22760000.0</td>\n",
       "      <td>11615.929688</td>\n",
       "      <td>b'All the experts admit that we should legalis...</td>\n",
       "      <td>ball expert admit legalise drug bwar south ose...</td>\n",
       "    </tr>\n",
       "    <tr>\n",
       "      <th>4</th>\n",
       "      <td>2008-08-15</td>\n",
       "      <td>79.139649</td>\n",
       "      <td>-8.390625</td>\n",
       "      <td>148.840821</td>\n",
       "      <td>43.970703</td>\n",
       "      <td>55250000.0</td>\n",
       "      <td>11659.900391</td>\n",
       "      <td>b\"Mom of missing gay man: Too bad he's not a 2...</td>\n",
       "      <td>bmom missing gay man bad he cheerleader theyd ...</td>\n",
       "    </tr>\n",
       "  </tbody>\n",
       "</table>\n",
       "</div>"
      ],
      "text/plain": [
       "         Date        Open        High         Low       Close      Volume  \\\n",
       "0  2008-08-11  297.580078  107.150391  287.490234   48.029297 -29640000.0   \n",
       "1  2008-08-12   52.030273  -84.760743  -74.010742 -139.879882  -9600000.0   \n",
       "2  2008-08-13 -148.890625 -148.569336 -148.179687 -109.509766   8960000.0   \n",
       "3  2008-08-14 -100.739258   84.500000   -2.450196   82.969727 -22760000.0   \n",
       "4  2008-08-15   79.139649   -8.390625  148.840821   43.970703  55250000.0   \n",
       "\n",
       "      Adj Close                                      Combined News  \\\n",
       "0  11782.349609  b'Why wont America and Nato help us? If they w...   \n",
       "1  11642.469727  b'Remember that adorable 9-year-old who sang a...   \n",
       "2  11532.959961  b' U.S. refuses Israel weapons to attack Iran:...   \n",
       "3  11615.929688  b'All the experts admit that we should legalis...   \n",
       "4  11659.900391  b\"Mom of missing gay man: Too bad he's not a 2...   \n",
       "\n",
       "                                        cleaned_text  \n",
       "0  bwhy wont america nato help u wont help u help...  \n",
       "1  bremember adorable sang opening ceremony fake ...  \n",
       "2  b u refuse israel weapon attack iran report bw...  \n",
       "3  ball expert admit legalise drug bwar south ose...  \n",
       "4  bmom missing gay man bad he cheerleader theyd ...  "
      ]
     },
     "execution_count": 80,
     "metadata": {},
     "output_type": "execute_result"
    }
   ],
   "source": [
    "Final_df['cleaned_text'] = Final_df['Combined News'].apply(textclean)\n",
    "Final_df.head()"
   ]
  },
  {
   "cell_type": "code",
   "execution_count": 81,
   "metadata": {
    "execution": {
     "iopub.execute_input": "2023-01-31T23:03:02.190796Z",
     "iopub.status.busy": "2023-01-31T23:03:02.190424Z",
     "iopub.status.idle": "2023-01-31T23:03:02.197480Z",
     "shell.execute_reply": "2023-01-31T23:03:02.196181Z",
     "shell.execute_reply.started": "2023-01-31T23:03:02.190764Z"
    }
   },
   "outputs": [
    {
     "name": "stdout",
     "output_type": "stream",
     "text": [
      "bwhy wont america nato help u wont help u help iraq bbush put foot georgian conflict bjewish georgian minister thanks israeli training fending russia bgeorgian army flees disarray russian advance gori abandoned russia without shot fired bolympic opening ceremony firework faked bwhat mossad fraudulent new zealand passport iraq brussia angered israeli military sale georgia ban american citizen living sossetia blame u georgian leader genocide innocent people bwelcome world war iv high definition bgeorgias move mistake monumental proportion brussia press deeper georgia u say regime change goal babhinav bindra win first ever individual olympic gold medal india b u ship head arctic define territory bdrivers jerusalem taxi station threaten quit rather work new bos arab bthe french team stunned phelps relay team bisrael u behind georgian aggression bdo believe tv neither russian georgian much victim briots still going montreal canada police murdered boy saturday bchina overtake u largest manufacturer bwar south ossetia bisraeli physician group condemns state torture b russia beaten united state head peak oil bperhaps question georgia russia conflict brussia much better war bso come trading sex food\n"
     ]
    }
   ],
   "source": [
    "print(Final_df['cleaned_text'][0])"
   ]
  },
  {
   "cell_type": "markdown",
   "metadata": {},
   "source": [
    "# Utilizing pretrained sentiment analyzer"
   ]
  },
  {
   "cell_type": "code",
   "execution_count": 82,
   "metadata": {
    "execution": {
     "iopub.execute_input": "2023-01-31T23:03:02.200841Z",
     "iopub.status.busy": "2023-01-31T23:03:02.199518Z",
     "iopub.status.idle": "2023-01-31T23:03:13.198985Z",
     "shell.execute_reply": "2023-01-31T23:03:13.197622Z",
     "shell.execute_reply.started": "2023-01-31T23:03:02.200770Z"
    }
   },
   "outputs": [
    {
     "name": "stdout",
     "output_type": "stream",
     "text": [
      "Requirement already satisfied: vaderSentiment in /opt/conda/lib/python3.7/site-packages (3.3.2)\n",
      "Requirement already satisfied: requests in /opt/conda/lib/python3.7/site-packages (from vaderSentiment) (2.28.1)\n",
      "Requirement already satisfied: urllib3<1.27,>=1.21.1 in /opt/conda/lib/python3.7/site-packages (from requests->vaderSentiment) (1.26.13)\n",
      "Requirement already satisfied: idna<4,>=2.5 in /opt/conda/lib/python3.7/site-packages (from requests->vaderSentiment) (3.3)\n",
      "Requirement already satisfied: certifi>=2017.4.17 in /opt/conda/lib/python3.7/site-packages (from requests->vaderSentiment) (2022.12.7)\n",
      "Requirement already satisfied: charset-normalizer<3,>=2 in /opt/conda/lib/python3.7/site-packages (from requests->vaderSentiment) (2.1.0)\n",
      "\u001b[33mWARNING: Running pip as the 'root' user can result in broken permissions and conflicting behaviour with the system package manager. It is recommended to use a virtual environment instead: https://pip.pypa.io/warnings/venv\u001b[0m\u001b[33m\n",
      "\u001b[0m"
     ]
    }
   ],
   "source": [
    "!pip install vaderSentiment"
   ]
  },
  {
   "cell_type": "code",
   "execution_count": 83,
   "metadata": {
    "execution": {
     "iopub.execute_input": "2023-01-31T23:03:13.202621Z",
     "iopub.status.busy": "2023-01-31T23:03:13.202086Z",
     "iopub.status.idle": "2023-01-31T23:03:13.210155Z",
     "shell.execute_reply": "2023-01-31T23:03:13.208703Z",
     "shell.execute_reply.started": "2023-01-31T23:03:13.202562Z"
    }
   },
   "outputs": [],
   "source": [
    "from textblob import TextBlob\n",
    "from vaderSentiment.vaderSentiment import SentimentIntensityAnalyzer"
   ]
  },
  {
   "cell_type": "code",
   "execution_count": 84,
   "metadata": {
    "execution": {
     "iopub.execute_input": "2023-01-31T23:03:13.214115Z",
     "iopub.status.busy": "2023-01-31T23:03:13.213466Z",
     "iopub.status.idle": "2023-01-31T23:03:13.222125Z",
     "shell.execute_reply": "2023-01-31T23:03:13.220908Z",
     "shell.execute_reply.started": "2023-01-31T23:03:13.214058Z"
    }
   },
   "outputs": [],
   "source": [
    "def get_subjectivity(text):\n",
    "    return TextBlob(text).sentiment.subjectivity"
   ]
  },
  {
   "cell_type": "code",
   "execution_count": 85,
   "metadata": {
    "execution": {
     "iopub.execute_input": "2023-01-31T23:03:13.224440Z",
     "iopub.status.busy": "2023-01-31T23:03:13.224137Z",
     "iopub.status.idle": "2023-01-31T23:03:13.234208Z",
     "shell.execute_reply": "2023-01-31T23:03:13.233074Z",
     "shell.execute_reply.started": "2023-01-31T23:03:13.224413Z"
    }
   },
   "outputs": [],
   "source": [
    "def get_polarity(text):\n",
    "    return TextBlob(text).sentiment.polarity"
   ]
  },
  {
   "cell_type": "code",
   "execution_count": 86,
   "metadata": {
    "execution": {
     "iopub.execute_input": "2023-01-31T23:03:13.236536Z",
     "iopub.status.busy": "2023-01-31T23:03:13.236031Z",
     "iopub.status.idle": "2023-01-31T23:03:13.246635Z",
     "shell.execute_reply": "2023-01-31T23:03:13.245346Z",
     "shell.execute_reply.started": "2023-01-31T23:03:13.236496Z"
    }
   },
   "outputs": [],
   "source": [
    "def getSIA(text):\n",
    "    sia = SentimentIntensityAnalyzer()\n",
    "    sentiment= sia.polarity_scores(text)\n",
    "    return sentiment"
   ]
  },
  {
   "cell_type": "code",
   "execution_count": 87,
   "metadata": {
    "execution": {
     "iopub.execute_input": "2023-01-31T23:03:13.248833Z",
     "iopub.status.busy": "2023-01-31T23:03:13.248297Z",
     "iopub.status.idle": "2023-01-31T23:03:16.483031Z",
     "shell.execute_reply": "2023-01-31T23:03:16.481984Z",
     "shell.execute_reply.started": "2023-01-31T23:03:13.248794Z"
    }
   },
   "outputs": [],
   "source": [
    "Final_df['subjectivity'] = Final_df['cleaned_text'].apply(get_subjectivity)"
   ]
  },
  {
   "cell_type": "code",
   "execution_count": 88,
   "metadata": {
    "execution": {
     "iopub.execute_input": "2023-01-31T23:03:16.485189Z",
     "iopub.status.busy": "2023-01-31T23:03:16.484806Z",
     "iopub.status.idle": "2023-01-31T23:03:20.321038Z",
     "shell.execute_reply": "2023-01-31T23:03:20.319942Z",
     "shell.execute_reply.started": "2023-01-31T23:03:16.485147Z"
    }
   },
   "outputs": [],
   "source": [
    "Final_df['polarity'] = Final_df['cleaned_text'].apply(get_polarity)"
   ]
  },
  {
   "cell_type": "code",
   "execution_count": 89,
   "metadata": {
    "execution": {
     "iopub.execute_input": "2023-01-31T23:03:20.331647Z",
     "iopub.status.busy": "2023-01-31T23:03:20.330688Z",
     "iopub.status.idle": "2023-01-31T23:04:07.658969Z",
     "shell.execute_reply": "2023-01-31T23:04:07.657868Z",
     "shell.execute_reply.started": "2023-01-31T23:03:20.331604Z"
    }
   },
   "outputs": [],
   "source": [
    "compound=[]\n",
    "neg=[]\n",
    "pos=[]\n",
    "neu=[]\n",
    "SIA=0\n",
    "\n",
    "for i in range (0, len(Final_df['cleaned_text'])):\n",
    "    SIA= getSIA(Final_df['cleaned_text'][i])\n",
    "    compound.append(SIA['compound'])\n",
    "    neg.append(SIA['neg'])\n",
    "    pos.append(SIA['pos'])\n",
    "    neu.append(SIA['neu'])"
   ]
  },
  {
   "cell_type": "code",
   "execution_count": 90,
   "metadata": {
    "execution": {
     "iopub.execute_input": "2023-01-31T23:04:07.660947Z",
     "iopub.status.busy": "2023-01-31T23:04:07.660519Z",
     "iopub.status.idle": "2023-01-31T23:04:07.671550Z",
     "shell.execute_reply": "2023-01-31T23:04:07.670319Z",
     "shell.execute_reply.started": "2023-01-31T23:04:07.660900Z"
    }
   },
   "outputs": [],
   "source": [
    "Final_df['compound']= compound\n",
    "Final_df['neg']= neg\n",
    "Final_df['pos']= pos\n",
    "Final_df['neu']= neu"
   ]
  },
  {
   "cell_type": "code",
   "execution_count": 91,
   "metadata": {
    "execution": {
     "iopub.execute_input": "2023-01-31T23:04:07.673980Z",
     "iopub.status.busy": "2023-01-31T23:04:07.673510Z",
     "iopub.status.idle": "2023-01-31T23:04:07.711785Z",
     "shell.execute_reply": "2023-01-31T23:04:07.710371Z",
     "shell.execute_reply.started": "2023-01-31T23:04:07.673931Z"
    }
   },
   "outputs": [
    {
     "data": {
      "text/html": [
       "<div>\n",
       "<style scoped>\n",
       "    .dataframe tbody tr th:only-of-type {\n",
       "        vertical-align: middle;\n",
       "    }\n",
       "\n",
       "    .dataframe tbody tr th {\n",
       "        vertical-align: top;\n",
       "    }\n",
       "\n",
       "    .dataframe thead th {\n",
       "        text-align: right;\n",
       "    }\n",
       "</style>\n",
       "<table border=\"1\" class=\"dataframe\">\n",
       "  <thead>\n",
       "    <tr style=\"text-align: right;\">\n",
       "      <th></th>\n",
       "      <th>Date</th>\n",
       "      <th>Open</th>\n",
       "      <th>High</th>\n",
       "      <th>Low</th>\n",
       "      <th>Close</th>\n",
       "      <th>Volume</th>\n",
       "      <th>Adj Close</th>\n",
       "      <th>Combined News</th>\n",
       "      <th>cleaned_text</th>\n",
       "      <th>subjectivity</th>\n",
       "      <th>polarity</th>\n",
       "      <th>compound</th>\n",
       "      <th>neg</th>\n",
       "      <th>pos</th>\n",
       "      <th>neu</th>\n",
       "    </tr>\n",
       "  </thead>\n",
       "  <tbody>\n",
       "    <tr>\n",
       "      <th>0</th>\n",
       "      <td>2008-08-11</td>\n",
       "      <td>297.580078</td>\n",
       "      <td>107.150391</td>\n",
       "      <td>287.490234</td>\n",
       "      <td>48.029297</td>\n",
       "      <td>-29640000.0</td>\n",
       "      <td>11782.349609</td>\n",
       "      <td>b'Why wont America and Nato help us? If they w...</td>\n",
       "      <td>bwhy wont america nato help u wont help u help...</td>\n",
       "      <td>0.334260</td>\n",
       "      <td>0.079866</td>\n",
       "      <td>-0.9888</td>\n",
       "      <td>0.265</td>\n",
       "      <td>0.090</td>\n",
       "      <td>0.646</td>\n",
       "    </tr>\n",
       "    <tr>\n",
       "      <th>1</th>\n",
       "      <td>2008-08-12</td>\n",
       "      <td>52.030273</td>\n",
       "      <td>-84.760743</td>\n",
       "      <td>-74.010742</td>\n",
       "      <td>-139.879882</td>\n",
       "      <td>-9600000.0</td>\n",
       "      <td>11642.469727</td>\n",
       "      <td>b'Remember that adorable 9-year-old who sang a...</td>\n",
       "      <td>bremember adorable sang opening ceremony fake ...</td>\n",
       "      <td>0.531229</td>\n",
       "      <td>-0.036307</td>\n",
       "      <td>-0.9931</td>\n",
       "      <td>0.252</td>\n",
       "      <td>0.094</td>\n",
       "      <td>0.654</td>\n",
       "    </tr>\n",
       "    <tr>\n",
       "      <th>2</th>\n",
       "      <td>2008-08-13</td>\n",
       "      <td>-148.890625</td>\n",
       "      <td>-148.569336</td>\n",
       "      <td>-148.179687</td>\n",
       "      <td>-109.509766</td>\n",
       "      <td>8960000.0</td>\n",
       "      <td>11532.959961</td>\n",
       "      <td>b' U.S. refuses Israel weapons to attack Iran:...</td>\n",
       "      <td>b u refuse israel weapon attack iran report bw...</td>\n",
       "      <td>0.370301</td>\n",
       "      <td>0.016061</td>\n",
       "      <td>-0.9661</td>\n",
       "      <td>0.187</td>\n",
       "      <td>0.102</td>\n",
       "      <td>0.710</td>\n",
       "    </tr>\n",
       "    <tr>\n",
       "      <th>3</th>\n",
       "      <td>2008-08-14</td>\n",
       "      <td>-100.739258</td>\n",
       "      <td>84.500000</td>\n",
       "      <td>-2.450196</td>\n",
       "      <td>82.969727</td>\n",
       "      <td>-22760000.0</td>\n",
       "      <td>11615.929688</td>\n",
       "      <td>b'All the experts admit that we should legalis...</td>\n",
       "      <td>ball expert admit legalise drug bwar south ose...</td>\n",
       "      <td>0.328388</td>\n",
       "      <td>0.024498</td>\n",
       "      <td>-0.9805</td>\n",
       "      <td>0.227</td>\n",
       "      <td>0.121</td>\n",
       "      <td>0.652</td>\n",
       "    </tr>\n",
       "    <tr>\n",
       "      <th>4</th>\n",
       "      <td>2008-08-15</td>\n",
       "      <td>79.139649</td>\n",
       "      <td>-8.390625</td>\n",
       "      <td>148.840821</td>\n",
       "      <td>43.970703</td>\n",
       "      <td>55250000.0</td>\n",
       "      <td>11659.900391</td>\n",
       "      <td>b\"Mom of missing gay man: Too bad he's not a 2...</td>\n",
       "      <td>bmom missing gay man bad he cheerleader theyd ...</td>\n",
       "      <td>0.448654</td>\n",
       "      <td>-0.041201</td>\n",
       "      <td>-0.9757</td>\n",
       "      <td>0.243</td>\n",
       "      <td>0.134</td>\n",
       "      <td>0.623</td>\n",
       "    </tr>\n",
       "    <tr>\n",
       "      <th>...</th>\n",
       "      <td>...</td>\n",
       "      <td>...</td>\n",
       "      <td>...</td>\n",
       "      <td>...</td>\n",
       "      <td>...</td>\n",
       "      <td>...</td>\n",
       "      <td>...</td>\n",
       "      <td>...</td>\n",
       "      <td>...</td>\n",
       "      <td>...</td>\n",
       "      <td>...</td>\n",
       "      <td>...</td>\n",
       "      <td>...</td>\n",
       "      <td>...</td>\n",
       "      <td>...</td>\n",
       "    </tr>\n",
       "    <tr>\n",
       "      <th>1983</th>\n",
       "      <td>2016-06-27</td>\n",
       "      <td>-591.419921</td>\n",
       "      <td>-591.419921</td>\n",
       "      <td>-293.259766</td>\n",
       "      <td>-260.509766</td>\n",
       "      <td>-100260000.0</td>\n",
       "      <td>17140.240234</td>\n",
       "      <td>Barclays and RBS shares suspended from trading...</td>\n",
       "      <td>barclays rb share suspended trading tanking po...</td>\n",
       "      <td>0.349394</td>\n",
       "      <td>-0.006098</td>\n",
       "      <td>-0.9839</td>\n",
       "      <td>0.222</td>\n",
       "      <td>0.119</td>\n",
       "      <td>0.659</td>\n",
       "    </tr>\n",
       "    <tr>\n",
       "      <th>1984</th>\n",
       "      <td>2016-06-28</td>\n",
       "      <td>-164.701172</td>\n",
       "      <td>54.509765</td>\n",
       "      <td>127.429688</td>\n",
       "      <td>269.480469</td>\n",
       "      <td>-26550000.0</td>\n",
       "      <td>17409.720703</td>\n",
       "      <td>2,500 Scientists To Australia: If You Want To ...</td>\n",
       "      <td>scientist australia want save great barrier re...</td>\n",
       "      <td>0.329909</td>\n",
       "      <td>0.039465</td>\n",
       "      <td>-0.9583</td>\n",
       "      <td>0.179</td>\n",
       "      <td>0.141</td>\n",
       "      <td>0.681</td>\n",
       "    </tr>\n",
       "    <tr>\n",
       "      <th>1985</th>\n",
       "      <td>2016-06-29</td>\n",
       "      <td>265.509765</td>\n",
       "      <td>294.789063</td>\n",
       "      <td>265.509765</td>\n",
       "      <td>284.958985</td>\n",
       "      <td>-5810000.0</td>\n",
       "      <td>17694.679688</td>\n",
       "      <td>Explosion At Airport In Istanbul Yemeni former...</td>\n",
       "      <td>explosion airport istanbul yemeni former presi...</td>\n",
       "      <td>0.387107</td>\n",
       "      <td>0.050125</td>\n",
       "      <td>-0.9943</td>\n",
       "      <td>0.263</td>\n",
       "      <td>0.125</td>\n",
       "      <td>0.613</td>\n",
       "    </tr>\n",
       "    <tr>\n",
       "      <th>1986</th>\n",
       "      <td>2016-06-30</td>\n",
       "      <td>256.740235</td>\n",
       "      <td>226.099609</td>\n",
       "      <td>255.781250</td>\n",
       "      <td>235.310546</td>\n",
       "      <td>26650000.0</td>\n",
       "      <td>17929.990234</td>\n",
       "      <td>Jamaica proposes marijuana dispensers for tour...</td>\n",
       "      <td>jamaica proposes marijuana dispenser tourist a...</td>\n",
       "      <td>0.377540</td>\n",
       "      <td>0.018968</td>\n",
       "      <td>-0.9982</td>\n",
       "      <td>0.302</td>\n",
       "      <td>0.088</td>\n",
       "      <td>0.609</td>\n",
       "    </tr>\n",
       "    <tr>\n",
       "      <th>1987</th>\n",
       "      <td>2016-07-01</td>\n",
       "      <td>211.480468</td>\n",
       "      <td>71.771484</td>\n",
       "      <td>205.109375</td>\n",
       "      <td>19.378907</td>\n",
       "      <td>-50870000.0</td>\n",
       "      <td>17949.369141</td>\n",
       "      <td>A 117-year-old woman in Mexico City finally re...</td>\n",
       "      <td>woman mexico city finally received birth certi...</td>\n",
       "      <td>0.316409</td>\n",
       "      <td>-0.006564</td>\n",
       "      <td>-0.9986</td>\n",
       "      <td>0.303</td>\n",
       "      <td>0.074</td>\n",
       "      <td>0.623</td>\n",
       "    </tr>\n",
       "  </tbody>\n",
       "</table>\n",
       "<p>1988 rows × 15 columns</p>\n",
       "</div>"
      ],
      "text/plain": [
       "            Date        Open        High         Low       Close       Volume  \\\n",
       "0     2008-08-11  297.580078  107.150391  287.490234   48.029297  -29640000.0   \n",
       "1     2008-08-12   52.030273  -84.760743  -74.010742 -139.879882   -9600000.0   \n",
       "2     2008-08-13 -148.890625 -148.569336 -148.179687 -109.509766    8960000.0   \n",
       "3     2008-08-14 -100.739258   84.500000   -2.450196   82.969727  -22760000.0   \n",
       "4     2008-08-15   79.139649   -8.390625  148.840821   43.970703   55250000.0   \n",
       "...          ...         ...         ...         ...         ...          ...   \n",
       "1983  2016-06-27 -591.419921 -591.419921 -293.259766 -260.509766 -100260000.0   \n",
       "1984  2016-06-28 -164.701172   54.509765  127.429688  269.480469  -26550000.0   \n",
       "1985  2016-06-29  265.509765  294.789063  265.509765  284.958985   -5810000.0   \n",
       "1986  2016-06-30  256.740235  226.099609  255.781250  235.310546   26650000.0   \n",
       "1987  2016-07-01  211.480468   71.771484  205.109375   19.378907  -50870000.0   \n",
       "\n",
       "         Adj Close                                      Combined News  \\\n",
       "0     11782.349609  b'Why wont America and Nato help us? If they w...   \n",
       "1     11642.469727  b'Remember that adorable 9-year-old who sang a...   \n",
       "2     11532.959961  b' U.S. refuses Israel weapons to attack Iran:...   \n",
       "3     11615.929688  b'All the experts admit that we should legalis...   \n",
       "4     11659.900391  b\"Mom of missing gay man: Too bad he's not a 2...   \n",
       "...            ...                                                ...   \n",
       "1983  17140.240234  Barclays and RBS shares suspended from trading...   \n",
       "1984  17409.720703  2,500 Scientists To Australia: If You Want To ...   \n",
       "1985  17694.679688  Explosion At Airport In Istanbul Yemeni former...   \n",
       "1986  17929.990234  Jamaica proposes marijuana dispensers for tour...   \n",
       "1987  17949.369141  A 117-year-old woman in Mexico City finally re...   \n",
       "\n",
       "                                           cleaned_text  subjectivity  \\\n",
       "0     bwhy wont america nato help u wont help u help...      0.334260   \n",
       "1     bremember adorable sang opening ceremony fake ...      0.531229   \n",
       "2     b u refuse israel weapon attack iran report bw...      0.370301   \n",
       "3     ball expert admit legalise drug bwar south ose...      0.328388   \n",
       "4     bmom missing gay man bad he cheerleader theyd ...      0.448654   \n",
       "...                                                 ...           ...   \n",
       "1983  barclays rb share suspended trading tanking po...      0.349394   \n",
       "1984  scientist australia want save great barrier re...      0.329909   \n",
       "1985  explosion airport istanbul yemeni former presi...      0.387107   \n",
       "1986  jamaica proposes marijuana dispenser tourist a...      0.377540   \n",
       "1987  woman mexico city finally received birth certi...      0.316409   \n",
       "\n",
       "      polarity  compound    neg    pos    neu  \n",
       "0     0.079866   -0.9888  0.265  0.090  0.646  \n",
       "1    -0.036307   -0.9931  0.252  0.094  0.654  \n",
       "2     0.016061   -0.9661  0.187  0.102  0.710  \n",
       "3     0.024498   -0.9805  0.227  0.121  0.652  \n",
       "4    -0.041201   -0.9757  0.243  0.134  0.623  \n",
       "...        ...       ...    ...    ...    ...  \n",
       "1983 -0.006098   -0.9839  0.222  0.119  0.659  \n",
       "1984  0.039465   -0.9583  0.179  0.141  0.681  \n",
       "1985  0.050125   -0.9943  0.263  0.125  0.613  \n",
       "1986  0.018968   -0.9982  0.302  0.088  0.609  \n",
       "1987 -0.006564   -0.9986  0.303  0.074  0.623  \n",
       "\n",
       "[1988 rows x 15 columns]"
      ]
     },
     "execution_count": 91,
     "metadata": {},
     "output_type": "execute_result"
    }
   ],
   "source": [
    "Final_df"
   ]
  },
  {
   "cell_type": "markdown",
   "metadata": {},
   "source": [
    "Normalise numerical feature"
   ]
  },
  {
   "cell_type": "code",
   "execution_count": 92,
   "metadata": {
    "execution": {
     "iopub.execute_input": "2023-01-31T23:04:07.714332Z",
     "iopub.status.busy": "2023-01-31T23:04:07.713534Z",
     "iopub.status.idle": "2023-01-31T23:04:07.721541Z",
     "shell.execute_reply": "2023-01-31T23:04:07.720220Z",
     "shell.execute_reply.started": "2023-01-31T23:04:07.714283Z"
    }
   },
   "outputs": [],
   "source": [
    "from sklearn.preprocessing import MinMaxScaler\n",
    "def normalize_data(df):\n",
    "    sc = MinMaxScaler()\n",
    "    sc.fit(df)\n",
    "    df = sc.transform(df)\n",
    "    return df"
   ]
  },
  {
   "cell_type": "code",
   "execution_count": 93,
   "metadata": {
    "execution": {
     "iopub.execute_input": "2023-01-31T23:04:07.724263Z",
     "iopub.status.busy": "2023-01-31T23:04:07.723817Z",
     "iopub.status.idle": "2023-01-31T23:04:07.734446Z",
     "shell.execute_reply": "2023-01-31T23:04:07.733101Z",
     "shell.execute_reply.started": "2023-01-31T23:04:07.724217Z"
    }
   },
   "outputs": [],
   "source": [
    "def unnormalize(price):\n",
    "    max_price= max(dj['Open'])\n",
    "    min_price= min(dj['Open'])\n",
    "    price= price * (max_price-min_price) + min_price\n",
    "    return price"
   ]
  },
  {
   "cell_type": "code",
   "execution_count": 94,
   "metadata": {
    "execution": {
     "iopub.execute_input": "2023-01-31T23:04:07.736943Z",
     "iopub.status.busy": "2023-01-31T23:04:07.736477Z",
     "iopub.status.idle": "2023-01-31T23:04:07.771849Z",
     "shell.execute_reply": "2023-01-31T23:04:07.770659Z",
     "shell.execute_reply.started": "2023-01-31T23:04:07.736902Z"
    }
   },
   "outputs": [
    {
     "data": {
      "text/html": [
       "<div>\n",
       "<style scoped>\n",
       "    .dataframe tbody tr th:only-of-type {\n",
       "        vertical-align: middle;\n",
       "    }\n",
       "\n",
       "    .dataframe tbody tr th {\n",
       "        vertical-align: top;\n",
       "    }\n",
       "\n",
       "    .dataframe thead th {\n",
       "        text-align: right;\n",
       "    }\n",
       "</style>\n",
       "<table border=\"1\" class=\"dataframe\">\n",
       "  <thead>\n",
       "    <tr style=\"text-align: right;\">\n",
       "      <th></th>\n",
       "      <th>Date</th>\n",
       "      <th>Open</th>\n",
       "      <th>High</th>\n",
       "      <th>Low</th>\n",
       "      <th>Close</th>\n",
       "      <th>Volume</th>\n",
       "      <th>Adj Close</th>\n",
       "      <th>Combined News</th>\n",
       "      <th>cleaned_text</th>\n",
       "      <th>subjectivity</th>\n",
       "      <th>polarity</th>\n",
       "      <th>compound</th>\n",
       "      <th>neg</th>\n",
       "      <th>pos</th>\n",
       "      <th>neu</th>\n",
       "    </tr>\n",
       "  </thead>\n",
       "  <tbody>\n",
       "    <tr>\n",
       "      <th>0</th>\n",
       "      <td>2008-08-11</td>\n",
       "      <td>0.628837</td>\n",
       "      <td>0.624454</td>\n",
       "      <td>0.762813</td>\n",
       "      <td>0.481716</td>\n",
       "      <td>0.477806</td>\n",
       "      <td>11782.349609</td>\n",
       "      <td>b'Why wont America and Nato help us? If they w...</td>\n",
       "      <td>bwhy wont america nato help u wont help u help...</td>\n",
       "      <td>0.334260</td>\n",
       "      <td>0.079866</td>\n",
       "      <td>-0.9888</td>\n",
       "      <td>0.265</td>\n",
       "      <td>0.090</td>\n",
       "      <td>0.646</td>\n",
       "    </tr>\n",
       "    <tr>\n",
       "      <th>1</th>\n",
       "      <td>2008-08-12</td>\n",
       "      <td>0.483934</td>\n",
       "      <td>0.452904</td>\n",
       "      <td>0.562512</td>\n",
       "      <td>0.372090</td>\n",
       "      <td>0.495330</td>\n",
       "      <td>11642.469727</td>\n",
       "      <td>b'Remember that adorable 9-year-old who sang a...</td>\n",
       "      <td>bremember adorable sang opening ceremony fake ...</td>\n",
       "      <td>0.531229</td>\n",
       "      <td>-0.036307</td>\n",
       "      <td>-0.9931</td>\n",
       "      <td>0.252</td>\n",
       "      <td>0.094</td>\n",
       "      <td>0.654</td>\n",
       "    </tr>\n",
       "    <tr>\n",
       "      <th>2</th>\n",
       "      <td>2008-08-13</td>\n",
       "      <td>0.365368</td>\n",
       "      <td>0.395866</td>\n",
       "      <td>0.521416</td>\n",
       "      <td>0.389808</td>\n",
       "      <td>0.511561</td>\n",
       "      <td>11532.959961</td>\n",
       "      <td>b' U.S. refuses Israel weapons to attack Iran:...</td>\n",
       "      <td>b u refuse israel weapon attack iran report bw...</td>\n",
       "      <td>0.370301</td>\n",
       "      <td>0.016061</td>\n",
       "      <td>-0.9661</td>\n",
       "      <td>0.187</td>\n",
       "      <td>0.102</td>\n",
       "      <td>0.710</td>\n",
       "    </tr>\n",
       "    <tr>\n",
       "      <th>3</th>\n",
       "      <td>2008-08-14</td>\n",
       "      <td>0.393783</td>\n",
       "      <td>0.604207</td>\n",
       "      <td>0.602162</td>\n",
       "      <td>0.502100</td>\n",
       "      <td>0.483822</td>\n",
       "      <td>11615.929688</td>\n",
       "      <td>b'All the experts admit that we should legalis...</td>\n",
       "      <td>ball expert admit legalise drug bwar south ose...</td>\n",
       "      <td>0.328388</td>\n",
       "      <td>0.024498</td>\n",
       "      <td>-0.9805</td>\n",
       "      <td>0.227</td>\n",
       "      <td>0.121</td>\n",
       "      <td>0.652</td>\n",
       "    </tr>\n",
       "    <tr>\n",
       "      <th>4</th>\n",
       "      <td>2008-08-15</td>\n",
       "      <td>0.499932</td>\n",
       "      <td>0.521172</td>\n",
       "      <td>0.685990</td>\n",
       "      <td>0.479348</td>\n",
       "      <td>0.552040</td>\n",
       "      <td>11659.900391</td>\n",
       "      <td>b\"Mom of missing gay man: Too bad he's not a 2...</td>\n",
       "      <td>bmom missing gay man bad he cheerleader theyd ...</td>\n",
       "      <td>0.448654</td>\n",
       "      <td>-0.041201</td>\n",
       "      <td>-0.9757</td>\n",
       "      <td>0.243</td>\n",
       "      <td>0.134</td>\n",
       "      <td>0.623</td>\n",
       "    </tr>\n",
       "  </tbody>\n",
       "</table>\n",
       "</div>"
      ],
      "text/plain": [
       "         Date      Open      High       Low     Close    Volume     Adj Close  \\\n",
       "0  2008-08-11  0.628837  0.624454  0.762813  0.481716  0.477806  11782.349609   \n",
       "1  2008-08-12  0.483934  0.452904  0.562512  0.372090  0.495330  11642.469727   \n",
       "2  2008-08-13  0.365368  0.395866  0.521416  0.389808  0.511561  11532.959961   \n",
       "3  2008-08-14  0.393783  0.604207  0.602162  0.502100  0.483822  11615.929688   \n",
       "4  2008-08-15  0.499932  0.521172  0.685990  0.479348  0.552040  11659.900391   \n",
       "\n",
       "                                       Combined News  \\\n",
       "0  b'Why wont America and Nato help us? If they w...   \n",
       "1  b'Remember that adorable 9-year-old who sang a...   \n",
       "2  b' U.S. refuses Israel weapons to attack Iran:...   \n",
       "3  b'All the experts admit that we should legalis...   \n",
       "4  b\"Mom of missing gay man: Too bad he's not a 2...   \n",
       "\n",
       "                                        cleaned_text  subjectivity  polarity  \\\n",
       "0  bwhy wont america nato help u wont help u help...      0.334260  0.079866   \n",
       "1  bremember adorable sang opening ceremony fake ...      0.531229 -0.036307   \n",
       "2  b u refuse israel weapon attack iran report bw...      0.370301  0.016061   \n",
       "3  ball expert admit legalise drug bwar south ose...      0.328388  0.024498   \n",
       "4  bmom missing gay man bad he cheerleader theyd ...      0.448654 -0.041201   \n",
       "\n",
       "   compound    neg    pos    neu  \n",
       "0   -0.9888  0.265  0.090  0.646  \n",
       "1   -0.9931  0.252  0.094  0.654  \n",
       "2   -0.9661  0.187  0.102  0.710  \n",
       "3   -0.9805  0.227  0.121  0.652  \n",
       "4   -0.9757  0.243  0.134  0.623  "
      ]
     },
     "execution_count": 94,
     "metadata": {},
     "output_type": "execute_result"
    }
   ],
   "source": [
    "Final_df['Open'] = normalize_data(Final_df['Open'].values.reshape(-1,1))\n",
    "Final_df['Close'] = normalize_data(Final_df['Close'].values.reshape(-1,1))\n",
    "Final_df['High'] = normalize_data(Final_df['High'].values.reshape(-1,1))\n",
    "Final_df['Low'] = normalize_data(Final_df['Low'].values.reshape(-1,1))\n",
    "Final_df['Volume'] = normalize_data(Final_df['Volume'].values.reshape(-1,1))\n",
    "Final_df.head(5)"
   ]
  },
  {
   "cell_type": "code",
   "execution_count": 95,
   "metadata": {
    "execution": {
     "iopub.execute_input": "2023-01-31T23:04:07.774459Z",
     "iopub.status.busy": "2023-01-31T23:04:07.773449Z",
     "iopub.status.idle": "2023-01-31T23:04:07.780239Z",
     "shell.execute_reply": "2023-01-31T23:04:07.778855Z",
     "shell.execute_reply.started": "2023-01-31T23:04:07.774416Z"
    }
   },
   "outputs": [],
   "source": [
    "y = Final_df['Open']\n",
    "\n"
   ]
  },
  {
   "cell_type": "markdown",
   "metadata": {},
   "source": [
    "# APPROACH 2: USING ONLY NUMERICAL FEATURE"
   ]
  },
  {
   "cell_type": "code",
   "execution_count": 96,
   "metadata": {
    "execution": {
     "iopub.execute_input": "2023-01-31T23:04:07.782766Z",
     "iopub.status.busy": "2023-01-31T23:04:07.781810Z",
     "iopub.status.idle": "2023-01-31T23:04:07.810306Z",
     "shell.execute_reply": "2023-01-31T23:04:07.807941Z",
     "shell.execute_reply.started": "2023-01-31T23:04:07.782717Z"
    }
   },
   "outputs": [
    {
     "data": {
      "text/html": [
       "<div>\n",
       "<style scoped>\n",
       "    .dataframe tbody tr th:only-of-type {\n",
       "        vertical-align: middle;\n",
       "    }\n",
       "\n",
       "    .dataframe tbody tr th {\n",
       "        vertical-align: top;\n",
       "    }\n",
       "\n",
       "    .dataframe thead th {\n",
       "        text-align: right;\n",
       "    }\n",
       "</style>\n",
       "<table border=\"1\" class=\"dataframe\">\n",
       "  <thead>\n",
       "    <tr style=\"text-align: right;\">\n",
       "      <th></th>\n",
       "      <th>Open</th>\n",
       "      <th>High</th>\n",
       "      <th>Low</th>\n",
       "      <th>Close</th>\n",
       "      <th>Volume</th>\n",
       "    </tr>\n",
       "  </thead>\n",
       "  <tbody>\n",
       "    <tr>\n",
       "      <th>0</th>\n",
       "      <td>0.628837</td>\n",
       "      <td>0.624454</td>\n",
       "      <td>0.762813</td>\n",
       "      <td>0.481716</td>\n",
       "      <td>0.477806</td>\n",
       "    </tr>\n",
       "    <tr>\n",
       "      <th>1</th>\n",
       "      <td>0.483934</td>\n",
       "      <td>0.452904</td>\n",
       "      <td>0.562512</td>\n",
       "      <td>0.372090</td>\n",
       "      <td>0.495330</td>\n",
       "    </tr>\n",
       "    <tr>\n",
       "      <th>2</th>\n",
       "      <td>0.365368</td>\n",
       "      <td>0.395866</td>\n",
       "      <td>0.521416</td>\n",
       "      <td>0.389808</td>\n",
       "      <td>0.511561</td>\n",
       "    </tr>\n",
       "    <tr>\n",
       "      <th>3</th>\n",
       "      <td>0.393783</td>\n",
       "      <td>0.604207</td>\n",
       "      <td>0.602162</td>\n",
       "      <td>0.502100</td>\n",
       "      <td>0.483822</td>\n",
       "    </tr>\n",
       "    <tr>\n",
       "      <th>4</th>\n",
       "      <td>0.499932</td>\n",
       "      <td>0.521172</td>\n",
       "      <td>0.685990</td>\n",
       "      <td>0.479348</td>\n",
       "      <td>0.552040</td>\n",
       "    </tr>\n",
       "    <tr>\n",
       "      <th>...</th>\n",
       "      <td>...</td>\n",
       "      <td>...</td>\n",
       "      <td>...</td>\n",
       "      <td>...</td>\n",
       "      <td>...</td>\n",
       "    </tr>\n",
       "    <tr>\n",
       "      <th>1983</th>\n",
       "      <td>0.104226</td>\n",
       "      <td>0.000000</td>\n",
       "      <td>0.441029</td>\n",
       "      <td>0.301715</td>\n",
       "      <td>0.416050</td>\n",
       "    </tr>\n",
       "    <tr>\n",
       "      <th>1984</th>\n",
       "      <td>0.356038</td>\n",
       "      <td>0.577399</td>\n",
       "      <td>0.674126</td>\n",
       "      <td>0.610910</td>\n",
       "      <td>0.480508</td>\n",
       "    </tr>\n",
       "    <tr>\n",
       "      <th>1985</th>\n",
       "      <td>0.609911</td>\n",
       "      <td>0.792185</td>\n",
       "      <td>0.750634</td>\n",
       "      <td>0.619940</td>\n",
       "      <td>0.498645</td>\n",
       "    </tr>\n",
       "    <tr>\n",
       "      <th>1986</th>\n",
       "      <td>0.604736</td>\n",
       "      <td>0.730783</td>\n",
       "      <td>0.745244</td>\n",
       "      <td>0.590975</td>\n",
       "      <td>0.527030</td>\n",
       "    </tr>\n",
       "    <tr>\n",
       "      <th>1987</th>\n",
       "      <td>0.578028</td>\n",
       "      <td>0.592829</td>\n",
       "      <td>0.717167</td>\n",
       "      <td>0.465001</td>\n",
       "      <td>0.459241</td>\n",
       "    </tr>\n",
       "  </tbody>\n",
       "</table>\n",
       "<p>1988 rows × 5 columns</p>\n",
       "</div>"
      ],
      "text/plain": [
       "          Open      High       Low     Close    Volume\n",
       "0     0.628837  0.624454  0.762813  0.481716  0.477806\n",
       "1     0.483934  0.452904  0.562512  0.372090  0.495330\n",
       "2     0.365368  0.395866  0.521416  0.389808  0.511561\n",
       "3     0.393783  0.604207  0.602162  0.502100  0.483822\n",
       "4     0.499932  0.521172  0.685990  0.479348  0.552040\n",
       "...        ...       ...       ...       ...       ...\n",
       "1983  0.104226  0.000000  0.441029  0.301715  0.416050\n",
       "1984  0.356038  0.577399  0.674126  0.610910  0.480508\n",
       "1985  0.609911  0.792185  0.750634  0.619940  0.498645\n",
       "1986  0.604736  0.730783  0.745244  0.590975  0.527030\n",
       "1987  0.578028  0.592829  0.717167  0.465001  0.459241\n",
       "\n",
       "[1988 rows x 5 columns]"
      ]
     },
     "execution_count": 96,
     "metadata": {},
     "output_type": "execute_result"
    }
   ],
   "source": [
    "numerical_feature = ['Open','High','Low','Close','Volume']\n",
    "df_num = Final_df[numerical_feature] \n",
    "df_num"
   ]
  },
  {
   "cell_type": "markdown",
   "metadata": {},
   "source": [
    "Dividing the dataset to features and target"
   ]
  },
  {
   "cell_type": "code",
   "execution_count": 97,
   "metadata": {
    "execution": {
     "iopub.execute_input": "2023-01-31T23:04:07.812026Z",
     "iopub.status.busy": "2023-01-31T23:04:07.811658Z",
     "iopub.status.idle": "2023-01-31T23:04:07.824635Z",
     "shell.execute_reply": "2023-01-31T23:04:07.823352Z",
     "shell.execute_reply.started": "2023-01-31T23:04:07.811984Z"
    }
   },
   "outputs": [],
   "source": [
    "#Load data for numerical\n",
    "def load_data(stock, seq_len):\n",
    "    data_raw = stock.values # convert to numpy array\n",
    "    data = []\n",
    "    \n",
    "    # create all possible sequences of length seq_len\n",
    "    for index in range(0,len(data_raw) - seq_len): \n",
    "        data.append(data_raw[index: index + seq_len + 1])\n",
    "    \n",
    "    data = np.array(data);\n",
    "    test_set_size = int(np.round(test_set_size_percentage/100*data.shape[0]));\n",
    "    train_set_size = data.shape[0] -  test_set_size;\n",
    "    \n",
    "    x_train = data[:train_set_size,:-1,:]\n",
    "    y_train = data[:train_set_size,-1,0]#take only the open price as target variable\n",
    "    \n",
    "    x_test = data[train_set_size:,:-1,:]\n",
    "    y_test = data[train_set_size:,-1,0]#take only the open price as target variable\n",
    "    \n",
    "    return [x_train, y_train, x_test, y_test]"
   ]
  },
  {
   "cell_type": "code",
   "execution_count": 98,
   "metadata": {
    "execution": {
     "iopub.execute_input": "2023-01-31T23:04:07.827344Z",
     "iopub.status.busy": "2023-01-31T23:04:07.826480Z",
     "iopub.status.idle": "2023-01-31T23:04:07.844189Z",
     "shell.execute_reply": "2023-01-31T23:04:07.842528Z",
     "shell.execute_reply.started": "2023-01-31T23:04:07.827301Z"
    }
   },
   "outputs": [
    {
     "name": "stdout",
     "output_type": "stream",
     "text": [
      "x_train.shape =  (1566, 30, 5)\n",
      "y_train.shape =  (1566,)\n",
      "x_test.shape =  (392, 30, 5)\n",
      "y_test.shape =  (392,)\n"
     ]
    }
   ],
   "source": [
    "seq_len = 30 # choose sequence length\n",
    "test_set_size_percentage = 20\n",
    "x_train_num_1, y_train_num_1, x_test_num_1, y_test_num_1 = load_data(df_num, seq_len)\n",
    "print('x_train.shape = ',x_train_num_1.shape)\n",
    "print('y_train.shape = ', y_train_num_1.shape)\n",
    "print('x_test.shape = ', x_test_num_1.shape)\n",
    "print('y_test.shape = ',y_test_num_1.shape)"
   ]
  },
  {
   "cell_type": "markdown",
   "metadata": {},
   "source": [
    "Trying different models"
   ]
  },
  {
   "cell_type": "code",
   "execution_count": 99,
   "metadata": {
    "execution": {
     "iopub.execute_input": "2023-01-31T23:04:07.847383Z",
     "iopub.status.busy": "2023-01-31T23:04:07.846624Z",
     "iopub.status.idle": "2023-01-31T23:04:08.022050Z",
     "shell.execute_reply": "2023-01-31T23:04:08.020994Z",
     "shell.execute_reply.started": "2023-01-31T23:04:07.847341Z"
    }
   },
   "outputs": [],
   "source": [
    "# Initialising the RNN\n",
    "model_ap2 = Sequential()\n",
    "\n",
    "# Adding the first LSTM layer and some Dropout regularisation\n",
    "model_ap2.add(LSTM(units = 32,activation ='relu',return_sequences = True, \n",
    "                      input_shape = (x_train_num_1.shape[1], x_train_num_1.shape[2])))\n",
    "\n",
    "# Adding the second LSTM layer and some Dropout regularisation\n",
    "model_ap2.add(LSTM(units = 16, activation ='relu'))\n",
    "\n",
    "# Adding the output layer\n",
    "model_ap2.add(Dense(units = 1))\n",
    "\n",
    "# Compiling the RNN\n",
    "model_ap2.compile(optimizer = 'adam', loss = 'mean_squared_error', \n",
    "                     metrics = [tf.keras.metrics.RootMeanSquaredError()])"
   ]
  },
  {
   "cell_type": "code",
   "execution_count": 100,
   "metadata": {
    "execution": {
     "iopub.execute_input": "2023-01-31T23:04:08.025613Z",
     "iopub.status.busy": "2023-01-31T23:04:08.024832Z",
     "iopub.status.idle": "2023-01-31T23:04:08.032995Z",
     "shell.execute_reply": "2023-01-31T23:04:08.031848Z",
     "shell.execute_reply.started": "2023-01-31T23:04:08.025571Z"
    }
   },
   "outputs": [
    {
     "name": "stdout",
     "output_type": "stream",
     "text": [
      "Model: \"sequential_1\"\n",
      "_________________________________________________________________\n",
      "Layer (type)                 Output Shape              Param #   \n",
      "=================================================================\n",
      "lstm_2 (LSTM)                (None, 30, 32)            4864      \n",
      "_________________________________________________________________\n",
      "lstm_3 (LSTM)                (None, 16)                3136      \n",
      "_________________________________________________________________\n",
      "dense_9 (Dense)              (None, 1)                 17        \n",
      "=================================================================\n",
      "Total params: 8,017\n",
      "Trainable params: 8,017\n",
      "Non-trainable params: 0\n",
      "_________________________________________________________________\n",
      "None\n"
     ]
    }
   ],
   "source": [
    "print(model_ap2.summary())"
   ]
  },
  {
   "cell_type": "code",
   "execution_count": 101,
   "metadata": {
    "execution": {
     "iopub.execute_input": "2023-01-31T23:04:08.035266Z",
     "iopub.status.busy": "2023-01-31T23:04:08.034890Z",
     "iopub.status.idle": "2023-01-31T23:07:31.899587Z",
     "shell.execute_reply": "2023-01-31T23:07:31.898383Z",
     "shell.execute_reply.started": "2023-01-31T23:04:08.035230Z"
    }
   },
   "outputs": [
    {
     "name": "stdout",
     "output_type": "stream",
     "text": [
      "Epoch 1/30\n",
      "40/40 [==============================] - 7s 134ms/step - loss: 0.1100 - root_mean_squared_error: 0.3317 - val_loss: 0.0038 - val_root_mean_squared_error: 0.0618\n",
      "Epoch 2/30\n",
      "40/40 [==============================] - 6s 141ms/step - loss: 0.0078 - root_mean_squared_error: 0.0880 - val_loss: 0.0038 - val_root_mean_squared_error: 0.0618\n",
      "Epoch 3/30\n",
      "40/40 [==============================] - 5s 133ms/step - loss: 0.0069 - root_mean_squared_error: 0.0828 - val_loss: 0.0038 - val_root_mean_squared_error: 0.0615\n",
      "Epoch 4/30\n",
      "40/40 [==============================] - 5s 135ms/step - loss: 0.0070 - root_mean_squared_error: 0.0835 - val_loss: 0.0038 - val_root_mean_squared_error: 0.0613\n",
      "Epoch 5/30\n",
      "40/40 [==============================] - 5s 123ms/step - loss: 0.0068 - root_mean_squared_error: 0.0825 - val_loss: 0.0037 - val_root_mean_squared_error: 0.0611\n",
      "Epoch 6/30\n",
      "40/40 [==============================] - 5s 136ms/step - loss: 0.0069 - root_mean_squared_error: 0.0829 - val_loss: 0.0037 - val_root_mean_squared_error: 0.0609\n",
      "Epoch 7/30\n",
      "40/40 [==============================] - 5s 121ms/step - loss: 0.0072 - root_mean_squared_error: 0.0851 - val_loss: 0.0038 - val_root_mean_squared_error: 0.0616\n",
      "Epoch 8/30\n",
      "40/40 [==============================] - 5s 135ms/step - loss: 0.0069 - root_mean_squared_error: 0.0829 - val_loss: 0.0037 - val_root_mean_squared_error: 0.0604\n",
      "Epoch 9/30\n",
      "40/40 [==============================] - 5s 134ms/step - loss: 0.0066 - root_mean_squared_error: 0.0815 - val_loss: 0.0036 - val_root_mean_squared_error: 0.0596\n",
      "Epoch 10/30\n",
      "40/40 [==============================] - 5s 133ms/step - loss: 0.0067 - root_mean_squared_error: 0.0817 - val_loss: 0.0034 - val_root_mean_squared_error: 0.0587\n",
      "Epoch 11/30\n",
      "40/40 [==============================] - 5s 121ms/step - loss: 0.0062 - root_mean_squared_error: 0.0786 - val_loss: 0.0032 - val_root_mean_squared_error: 0.0565\n",
      "Epoch 12/30\n",
      "40/40 [==============================] - 5s 134ms/step - loss: 0.0051 - root_mean_squared_error: 0.0711 - val_loss: 0.0023 - val_root_mean_squared_error: 0.0481\n",
      "Epoch 13/30\n",
      "40/40 [==============================] - 5s 122ms/step - loss: 0.0046 - root_mean_squared_error: 0.0675 - val_loss: 0.0030 - val_root_mean_squared_error: 0.0549\n",
      "Epoch 14/30\n",
      "40/40 [==============================] - 5s 123ms/step - loss: 0.0056 - root_mean_squared_error: 0.0747 - val_loss: 0.0029 - val_root_mean_squared_error: 0.0541\n",
      "Epoch 15/30\n",
      "40/40 [==============================] - 6s 150ms/step - loss: 0.0051 - root_mean_squared_error: 0.0713 - val_loss: 0.0024 - val_root_mean_squared_error: 0.0491\n",
      "Epoch 16/30\n",
      "40/40 [==============================] - 5s 125ms/step - loss: 0.0036 - root_mean_squared_error: 0.0602 - val_loss: 0.0012 - val_root_mean_squared_error: 0.0345\n",
      "Epoch 17/30\n",
      "40/40 [==============================] - 5s 131ms/step - loss: 0.0014 - root_mean_squared_error: 0.0369 - val_loss: 4.6133e-04 - val_root_mean_squared_error: 0.0215\n",
      "Epoch 18/30\n",
      "40/40 [==============================] - 5s 124ms/step - loss: 6.8895e-04 - root_mean_squared_error: 0.0262 - val_loss: 4.1045e-04 - val_root_mean_squared_error: 0.0203\n",
      "Epoch 19/30\n",
      "40/40 [==============================] - 5s 131ms/step - loss: 7.1115e-04 - root_mean_squared_error: 0.0267 - val_loss: 4.3199e-04 - val_root_mean_squared_error: 0.0208\n",
      "Epoch 20/30\n",
      "40/40 [==============================] - 5s 124ms/step - loss: 7.7507e-04 - root_mean_squared_error: 0.0278 - val_loss: 0.0016 - val_root_mean_squared_error: 0.0401\n",
      "Epoch 21/30\n",
      "40/40 [==============================] - 6s 149ms/step - loss: 5.4056e-04 - root_mean_squared_error: 0.0232 - val_loss: 2.1303e-04 - val_root_mean_squared_error: 0.0146\n",
      "Epoch 22/30\n",
      "40/40 [==============================] - 5s 122ms/step - loss: 4.4305e-04 - root_mean_squared_error: 0.0210 - val_loss: 3.2253e-04 - val_root_mean_squared_error: 0.0180\n",
      "Epoch 23/30\n",
      "40/40 [==============================] - 5s 131ms/step - loss: 4.3789e-04 - root_mean_squared_error: 0.0209 - val_loss: 1.7354e-04 - val_root_mean_squared_error: 0.0132\n",
      "Epoch 24/30\n",
      "40/40 [==============================] - 5s 123ms/step - loss: 2.3252e-04 - root_mean_squared_error: 0.0152 - val_loss: 9.2544e-05 - val_root_mean_squared_error: 0.0096\n",
      "Epoch 25/30\n",
      "40/40 [==============================] - 5s 132ms/step - loss: 2.2069e-04 - root_mean_squared_error: 0.0149 - val_loss: 2.6040e-04 - val_root_mean_squared_error: 0.0161\n",
      "Epoch 26/30\n",
      "40/40 [==============================] - 5s 120ms/step - loss: 2.5398e-04 - root_mean_squared_error: 0.0159 - val_loss: 7.6258e-05 - val_root_mean_squared_error: 0.0087\n",
      "Epoch 27/30\n",
      "40/40 [==============================] - 6s 151ms/step - loss: 1.5191e-04 - root_mean_squared_error: 0.0123 - val_loss: 6.7420e-04 - val_root_mean_squared_error: 0.0260\n",
      "Epoch 28/30\n",
      "40/40 [==============================] - 5s 121ms/step - loss: 2.1186e-04 - root_mean_squared_error: 0.0146 - val_loss: 6.9157e-05 - val_root_mean_squared_error: 0.0083\n",
      "Epoch 29/30\n",
      "40/40 [==============================] - 5s 135ms/step - loss: 1.0484e-04 - root_mean_squared_error: 0.0102 - val_loss: 8.6593e-05 - val_root_mean_squared_error: 0.0093\n",
      "Epoch 30/30\n",
      "40/40 [==============================] - 5s 123ms/step - loss: 1.5088e-04 - root_mean_squared_error: 0.0123 - val_loss: 8.4813e-05 - val_root_mean_squared_error: 0.0092\n"
     ]
    }
   ],
   "source": [
    "#Fitting the RNN to the Training set\n",
    "history_ap2 = model_ap2.fit(x_train_num_1, y_train_num_1,validation_split=0.2, epochs = 30,\n",
    "                           batch_size = 32)"
   ]
  },
  {
   "cell_type": "code",
   "execution_count": 102,
   "metadata": {
    "execution": {
     "iopub.execute_input": "2023-01-31T23:07:31.902273Z",
     "iopub.status.busy": "2023-01-31T23:07:31.901870Z",
     "iopub.status.idle": "2023-01-31T23:07:32.141785Z",
     "shell.execute_reply": "2023-01-31T23:07:32.140655Z",
     "shell.execute_reply.started": "2023-01-31T23:07:31.902233Z"
    }
   },
   "outputs": [
    {
     "data": {
      "image/png": "[encoded data removed]",
      "text/plain": [
       "<Figure size 432x288 with 1 Axes>"
      ]
     },
     "metadata": {
      "needs_background": "light"
     },
     "output_type": "display_data"
    }
   ],
   "source": [
    "plt.subplots() # open a new plot\n",
    "plt.plot(history_ap2.history['loss'])\n",
    "plt.plot(history_ap2.history['val_loss'])\n",
    "plt.title('model loss')\n",
    "plt.ylabel('loss')\n",
    "plt.xlabel('epoch')\n",
    "plt.legend(['train', 'validation'])\n",
    "plt.show()"
   ]
  },
  {
   "cell_type": "code",
   "execution_count": 103,
   "metadata": {
    "execution": {
     "iopub.execute_input": "2023-01-31T23:07:32.144332Z",
     "iopub.status.busy": "2023-01-31T23:07:32.143632Z",
     "iopub.status.idle": "2023-01-31T23:07:32.342695Z",
     "shell.execute_reply": "2023-01-31T23:07:32.341730Z",
     "shell.execute_reply.started": "2023-01-31T23:07:32.144291Z"
    }
   },
   "outputs": [
    {
     "name": "stdout",
     "output_type": "stream",
     "text": [
      "13/13 [==============================] - 0s 11ms/step - loss: 2.6927e-04 - root_mean_squared_error: 0.0164\n"
     ]
    },
    {
     "data": {
      "text/plain": [
       "[0.0002692669804673642, 0.016409356147050858]"
      ]
     },
     "execution_count": 103,
     "metadata": {},
     "output_type": "execute_result"
    }
   ],
   "source": [
    "score_ap2 = model_ap2.evaluate(x_test_num_1, y_test_num_1, verbose=1)\n",
    "score_ap2"
   ]
  },
  {
   "cell_type": "code",
   "execution_count": 160,
   "metadata": {
    "execution": {
     "iopub.execute_input": "2023-02-01T00:50:07.630140Z",
     "iopub.status.busy": "2023-02-01T00:50:07.629452Z",
     "iopub.status.idle": "2023-02-01T00:50:08.003816Z",
     "shell.execute_reply": "2023-02-01T00:50:08.002889Z",
     "shell.execute_reply.started": "2023-02-01T00:50:07.630103Z"
    }
   },
   "outputs": [],
   "source": [
    "pred_ap2 = model_ap2.predict(x_test_num_1)"
   ]
  },
  {
   "cell_type": "code",
   "execution_count": 161,
   "metadata": {
    "execution": {
     "iopub.execute_input": "2023-02-01T00:50:09.383538Z",
     "iopub.status.busy": "2023-02-01T00:50:09.382543Z",
     "iopub.status.idle": "2023-02-01T00:50:09.684129Z",
     "shell.execute_reply": "2023-02-01T00:50:09.682995Z",
     "shell.execute_reply.started": "2023-02-01T00:50:09.383492Z"
    }
   },
   "outputs": [],
   "source": [
    "unnorm_predictions = []\n",
    "for pred in pred_ap2:\n",
    "    unnorm_predictions.append(unnormalize(pred))\n",
    "\n",
    "unnorm_y_test = []\n",
    "for y in y_test_num_1:\n",
    "    unnorm_y_test.append(unnormalize(y))\n"
   ]
  },
  {
   "cell_type": "code",
   "execution_count": 163,
   "metadata": {
    "execution": {
     "iopub.execute_input": "2023-02-01T00:50:32.115045Z",
     "iopub.status.busy": "2023-02-01T00:50:32.114648Z",
     "iopub.status.idle": "2023-02-01T00:50:32.395645Z",
     "shell.execute_reply": "2023-02-01T00:50:32.394607Z",
     "shell.execute_reply.started": "2023-02-01T00:50:32.115013Z"
    }
   },
   "outputs": [
    {
     "data": {
      "image/png": "[encoded data removed]",
      "text/plain": [
       "<Figure size 1440x360 with 1 Axes>"
      ]
     },
     "metadata": {
      "needs_background": "light"
     },
     "output_type": "display_data"
    }
   ],
   "source": [
    "plt.plot(unnorm_y_test, color = 'red', label = 'Real Price')\n",
    "plt.plot(unnorm_predictions, color = 'blue', label = 'Predicted Price')\n",
    "plt.title('Stock Prediction')\n",
    "plt.xlabel('Time')\n",
    "plt.ylabel('Normalized Price')\n",
    "plt.rcParams[\"figure.figsize\"] = (20,10)\n",
    "plt.legend()\n",
    "plt.show()"
   ]
  },
  {
   "cell_type": "markdown",
   "metadata": {},
   "source": [
    "Hypertuning the model"
   ]
  },
  {
   "cell_type": "code",
   "execution_count": 104,
   "metadata": {
    "execution": {
     "iopub.execute_input": "2023-01-31T23:07:32.344442Z",
     "iopub.status.busy": "2023-01-31T23:07:32.344061Z",
     "iopub.status.idle": "2023-01-31T23:07:32.357964Z",
     "shell.execute_reply": "2023-01-31T23:07:32.356845Z",
     "shell.execute_reply.started": "2023-01-31T23:07:32.344404Z"
    }
   },
   "outputs": [],
   "source": [
    "def build_model(hp):\n",
    "    n_hidden = hp.Int(\"n_hidden\", min_value=1, max_value=12, default=2)\n",
    "    n_neurons = hp.Int(\"n_neurons\", min_value=16, max_value=256)\n",
    "    learning_rate = hp.Float(\"learning_rate\", min_value=1e-4, max_value=1e-4, sampling=\"log\")\n",
    "    optimizer = hp.Choice(\"optimizer\", values=[\"sgd\", \"adam\"])\n",
    "    if optimizer == \"sgd\":\n",
    "        optimizer = tf.keras.optimizers.SGD(learning_rate=learning_rate)\n",
    "    else:\n",
    "        optimizer = tf.keras.optimizers.Adam(learning_rate=learning_rate)\n",
    "    model = tf.keras.Sequential()\n",
    "#     model.add(embedding_layer)\n",
    "    model.add(LSTM(16, activation='relu', return_sequences=True))\n",
    "    model.add(LSTM(16, activation='relu'))\n",
    "    for _ in range(n_hidden):\n",
    "        model.add(tf.keras.layers.Dense(n_neurons, activation=\"relu\"))\n",
    "    model.add(tf.keras.layers.Dense(1, activation=\"relu\"))\n",
    "    model.compile(loss=\"mean_squared_error\", optimizer=optimizer, metrics=[tf.keras.metrics.RootMeanSquaredError()])\n",
    "    return model"
   ]
  },
  {
   "cell_type": "code",
   "execution_count": 105,
   "metadata": {
    "execution": {
     "iopub.execute_input": "2023-01-31T23:07:32.360445Z",
     "iopub.status.busy": "2023-01-31T23:07:32.360036Z",
     "iopub.status.idle": "2023-01-31T23:18:48.925726Z",
     "shell.execute_reply": "2023-01-31T23:18:48.924379Z",
     "shell.execute_reply.started": "2023-01-31T23:07:32.360408Z"
    }
   },
   "outputs": [
    {
     "name": "stdout",
     "output_type": "stream",
     "text": [
      "Trial 10 Complete [00h 00m 56s]\n",
      "val_loss: 0.2134101837873459\n",
      "\n",
      "Best val_loss So Far: 0.0037217133212834597\n",
      "Total elapsed time: 00h 11m 16s\n"
     ]
    }
   ],
   "source": [
    "import keras_tuner as kt\n",
    "random_search_tuner = kt.RandomSearch(build_model, objective=\"val_loss\", max_trials=10, overwrite=True,\n",
    "directory=\"model_ap2\", project_name=\"model_ap2\", seed=42)\n",
    "random_search_tuner.search(x_train_num_1, y_train_num_1, epochs=10, validation_split = 0.2)"
   ]
  },
  {
   "cell_type": "code",
   "execution_count": 106,
   "metadata": {
    "execution": {
     "iopub.execute_input": "2023-01-31T23:18:48.927524Z",
     "iopub.status.busy": "2023-01-31T23:18:48.927198Z",
     "iopub.status.idle": "2023-01-31T23:18:48.935742Z",
     "shell.execute_reply": "2023-01-31T23:18:48.934229Z",
     "shell.execute_reply.started": "2023-01-31T23:18:48.927492Z"
    }
   },
   "outputs": [
    {
     "name": "stdout",
     "output_type": "stream",
     "text": [
      "Trial summary\n",
      "Hyperparameters:\n",
      "n_hidden: 11\n",
      "n_neurons: 123\n",
      "learning_rate: 0.0001\n",
      "optimizer: adam\n",
      "Score: 0.0037217133212834597\n"
     ]
    }
   ],
   "source": [
    "best_trial = random_search_tuner.oracle.get_best_trials(num_trials=1)[0]\n",
    "best_trial.summary()"
   ]
  },
  {
   "cell_type": "code",
   "execution_count": 107,
   "metadata": {
    "execution": {
     "iopub.execute_input": "2023-01-31T23:18:48.938357Z",
     "iopub.status.busy": "2023-01-31T23:18:48.937652Z",
     "iopub.status.idle": "2023-01-31T23:18:50.214977Z",
     "shell.execute_reply": "2023-01-31T23:18:50.213975Z",
     "shell.execute_reply.started": "2023-01-31T23:18:48.938314Z"
    }
   },
   "outputs": [],
   "source": [
    "top3_models = random_search_tuner.get_best_models(num_models=3)\n",
    "best_model_ap2 = top3_models[0]"
   ]
  },
  {
   "cell_type": "code",
   "execution_count": 108,
   "metadata": {
    "execution": {
     "iopub.execute_input": "2023-01-31T23:18:50.217243Z",
     "iopub.status.busy": "2023-01-31T23:18:50.216621Z",
     "iopub.status.idle": "2023-01-31T23:22:14.607743Z",
     "shell.execute_reply": "2023-01-31T23:22:14.606613Z",
     "shell.execute_reply.started": "2023-01-31T23:18:50.217201Z"
    }
   },
   "outputs": [
    {
     "name": "stdout",
     "output_type": "stream",
     "text": [
      "Epoch 1/30\n",
      "40/40 [==============================] - 8s 146ms/step - loss: 0.0068 - root_mean_squared_error: 0.0825 - val_loss: 0.0038 - val_root_mean_squared_error: 0.0619\n",
      "Epoch 2/30\n",
      "40/40 [==============================] - 5s 127ms/step - loss: 0.0069 - root_mean_squared_error: 0.0832 - val_loss: 0.0037 - val_root_mean_squared_error: 0.0610\n",
      "Epoch 3/30\n",
      "40/40 [==============================] - 6s 150ms/step - loss: 0.0069 - root_mean_squared_error: 0.0832 - val_loss: 0.0038 - val_root_mean_squared_error: 0.0617\n",
      "Epoch 4/30\n",
      "40/40 [==============================] - 5s 119ms/step - loss: 0.0068 - root_mean_squared_error: 0.0824 - val_loss: 0.0040 - val_root_mean_squared_error: 0.0629\n",
      "Epoch 5/30\n",
      "40/40 [==============================] - 5s 122ms/step - loss: 0.0068 - root_mean_squared_error: 0.0825 - val_loss: 0.0037 - val_root_mean_squared_error: 0.0609\n",
      "Epoch 6/30\n",
      "40/40 [==============================] - 5s 130ms/step - loss: 0.0068 - root_mean_squared_error: 0.0823 - val_loss: 0.0037 - val_root_mean_squared_error: 0.0609\n",
      "Epoch 7/30\n",
      "40/40 [==============================] - 5s 126ms/step - loss: 0.0068 - root_mean_squared_error: 0.0822 - val_loss: 0.0037 - val_root_mean_squared_error: 0.0610\n",
      "Epoch 8/30\n",
      "40/40 [==============================] - 5s 133ms/step - loss: 0.0068 - root_mean_squared_error: 0.0823 - val_loss: 0.0037 - val_root_mean_squared_error: 0.0610\n",
      "Epoch 9/30\n",
      "40/40 [==============================] - 6s 143ms/step - loss: 0.0068 - root_mean_squared_error: 0.0825 - val_loss: 0.0042 - val_root_mean_squared_error: 0.0650\n",
      "Epoch 10/30\n",
      "40/40 [==============================] - 5s 132ms/step - loss: 0.0069 - root_mean_squared_error: 0.0829 - val_loss: 0.0038 - val_root_mean_squared_error: 0.0617\n",
      "Epoch 11/30\n",
      "40/40 [==============================] - 5s 128ms/step - loss: 0.0068 - root_mean_squared_error: 0.0826 - val_loss: 0.0045 - val_root_mean_squared_error: 0.0670\n",
      "Epoch 12/30\n",
      "40/40 [==============================] - 5s 137ms/step - loss: 0.0068 - root_mean_squared_error: 0.0824 - val_loss: 0.0038 - val_root_mean_squared_error: 0.0614\n",
      "Epoch 13/30\n",
      "40/40 [==============================] - 5s 123ms/step - loss: 0.0068 - root_mean_squared_error: 0.0827 - val_loss: 0.0037 - val_root_mean_squared_error: 0.0608\n",
      "Epoch 14/30\n",
      "40/40 [==============================] - 5s 133ms/step - loss: 0.0068 - root_mean_squared_error: 0.0823 - val_loss: 0.0037 - val_root_mean_squared_error: 0.0608\n",
      "Epoch 15/30\n",
      "40/40 [==============================] - 6s 148ms/step - loss: 0.0068 - root_mean_squared_error: 0.0823 - val_loss: 0.0037 - val_root_mean_squared_error: 0.0609\n",
      "Epoch 16/30\n",
      "40/40 [==============================] - 5s 130ms/step - loss: 0.0069 - root_mean_squared_error: 0.0828 - val_loss: 0.0037 - val_root_mean_squared_error: 0.0607\n",
      "Epoch 17/30\n",
      "40/40 [==============================] - 5s 124ms/step - loss: 0.0067 - root_mean_squared_error: 0.0822 - val_loss: 0.0037 - val_root_mean_squared_error: 0.0610\n",
      "Epoch 18/30\n",
      "40/40 [==============================] - 5s 134ms/step - loss: 0.0069 - root_mean_squared_error: 0.0831 - val_loss: 0.0037 - val_root_mean_squared_error: 0.0609\n",
      "Epoch 19/30\n",
      "40/40 [==============================] - 5s 122ms/step - loss: 0.0068 - root_mean_squared_error: 0.0825 - val_loss: 0.0037 - val_root_mean_squared_error: 0.0607\n",
      "Epoch 20/30\n",
      "40/40 [==============================] - 5s 135ms/step - loss: 0.0068 - root_mean_squared_error: 0.0823 - val_loss: 0.0038 - val_root_mean_squared_error: 0.0618\n",
      "Epoch 21/30\n",
      "40/40 [==============================] - 6s 146ms/step - loss: 0.0068 - root_mean_squared_error: 0.0825 - val_loss: 0.0037 - val_root_mean_squared_error: 0.0607\n",
      "Epoch 22/30\n",
      "40/40 [==============================] - 5s 132ms/step - loss: 0.0067 - root_mean_squared_error: 0.0821 - val_loss: 0.0038 - val_root_mean_squared_error: 0.0615\n",
      "Epoch 23/30\n",
      "40/40 [==============================] - 5s 125ms/step - loss: 0.0068 - root_mean_squared_error: 0.0822 - val_loss: 0.0037 - val_root_mean_squared_error: 0.0607\n",
      "Epoch 24/30\n",
      "40/40 [==============================] - 5s 135ms/step - loss: 0.0068 - root_mean_squared_error: 0.0826 - val_loss: 0.0038 - val_root_mean_squared_error: 0.0614\n",
      "Epoch 25/30\n",
      "40/40 [==============================] - 5s 124ms/step - loss: 0.0068 - root_mean_squared_error: 0.0827 - val_loss: 0.0037 - val_root_mean_squared_error: 0.0607\n",
      "Epoch 26/30\n",
      "40/40 [==============================] - 5s 137ms/step - loss: 0.0068 - root_mean_squared_error: 0.0823 - val_loss: 0.0038 - val_root_mean_squared_error: 0.0619\n",
      "Epoch 27/30\n",
      "40/40 [==============================] - 6s 141ms/step - loss: 0.0069 - root_mean_squared_error: 0.0833 - val_loss: 0.0045 - val_root_mean_squared_error: 0.0672\n",
      "Epoch 28/30\n",
      "40/40 [==============================] - 5s 136ms/step - loss: 0.0067 - root_mean_squared_error: 0.0820 - val_loss: 0.0038 - val_root_mean_squared_error: 0.0613\n",
      "Epoch 29/30\n",
      "40/40 [==============================] - 5s 121ms/step - loss: 0.0068 - root_mean_squared_error: 0.0825 - val_loss: 0.0041 - val_root_mean_squared_error: 0.0638\n",
      "Epoch 30/30\n",
      "40/40 [==============================] - 5s 126ms/step - loss: 0.0068 - root_mean_squared_error: 0.0825 - val_loss: 0.0039 - val_root_mean_squared_error: 0.0621\n"
     ]
    }
   ],
   "source": [
    "history_ap2_1 = best_model_ap2.fit(x_train_num_1, y_train_num_1,validation_split = 0.2, epochs=30)"
   ]
  },
  {
   "cell_type": "code",
   "execution_count": 109,
   "metadata": {
    "execution": {
     "iopub.execute_input": "2023-01-31T23:22:14.610879Z",
     "iopub.status.busy": "2023-01-31T23:22:14.610426Z",
     "iopub.status.idle": "2023-01-31T23:22:14.891445Z",
     "shell.execute_reply": "2023-01-31T23:22:14.890396Z",
     "shell.execute_reply.started": "2023-01-31T23:22:14.610839Z"
    }
   },
   "outputs": [
    {
     "data": {
      "image/png": "[encoded data removed]",
      "text/plain": [
       "<Figure size 432x288 with 1 Axes>"
      ]
     },
     "metadata": {
      "needs_background": "light"
     },
     "output_type": "display_data"
    }
   ],
   "source": [
    "plt.subplots() # open a new plot\n",
    "plt.plot(history_ap2_1.history['loss'])\n",
    "plt.plot(history_ap2_1.history['val_loss'])\n",
    "plt.title('model_ap2_1 loss')\n",
    "plt.ylabel('loss')\n",
    "plt.xlabel('epoch')\n",
    "plt.legend(['train', 'validation'])\n",
    "plt.show()"
   ]
  },
  {
   "cell_type": "code",
   "execution_count": 110,
   "metadata": {
    "execution": {
     "iopub.execute_input": "2023-01-31T23:22:14.895272Z",
     "iopub.status.busy": "2023-01-31T23:22:14.894962Z",
     "iopub.status.idle": "2023-01-31T23:22:15.088365Z",
     "shell.execute_reply": "2023-01-31T23:22:15.087237Z",
     "shell.execute_reply.started": "2023-01-31T23:22:14.895244Z"
    }
   },
   "outputs": [
    {
     "name": "stdout",
     "output_type": "stream",
     "text": [
      "13/13 [==============================] - 0s 11ms/step - loss: 0.0090 - root_mean_squared_error: 0.0949\n"
     ]
    }
   ],
   "source": [
    "score_ap2_1 = best_model_ap2.evaluate(x_test_num_1, y_test_num_1)"
   ]
  },
  {
   "cell_type": "markdown",
   "metadata": {},
   "source": [
    "# APPROACH 3 : USING NUMERICAL + SIA SCORE FOR NEWS"
   ]
  },
  {
   "cell_type": "code",
   "execution_count": 111,
   "metadata": {
    "execution": {
     "iopub.execute_input": "2023-01-31T23:22:15.090685Z",
     "iopub.status.busy": "2023-01-31T23:22:15.090263Z",
     "iopub.status.idle": "2023-01-31T23:22:15.117415Z",
     "shell.execute_reply": "2023-01-31T23:22:15.115945Z",
     "shell.execute_reply.started": "2023-01-31T23:22:15.090615Z"
    }
   },
   "outputs": [
    {
     "data": {
      "text/html": [
       "<div>\n",
       "<style scoped>\n",
       "    .dataframe tbody tr th:only-of-type {\n",
       "        vertical-align: middle;\n",
       "    }\n",
       "\n",
       "    .dataframe tbody tr th {\n",
       "        vertical-align: top;\n",
       "    }\n",
       "\n",
       "    .dataframe thead th {\n",
       "        text-align: right;\n",
       "    }\n",
       "</style>\n",
       "<table border=\"1\" class=\"dataframe\">\n",
       "  <thead>\n",
       "    <tr style=\"text-align: right;\">\n",
       "      <th></th>\n",
       "      <th>Open</th>\n",
       "      <th>High</th>\n",
       "      <th>Low</th>\n",
       "      <th>Close</th>\n",
       "      <th>Volume</th>\n",
       "      <th>subjectivity</th>\n",
       "      <th>polarity</th>\n",
       "      <th>compound</th>\n",
       "      <th>neg</th>\n",
       "      <th>pos</th>\n",
       "      <th>neu</th>\n",
       "    </tr>\n",
       "  </thead>\n",
       "  <tbody>\n",
       "    <tr>\n",
       "      <th>0</th>\n",
       "      <td>0.628837</td>\n",
       "      <td>0.624454</td>\n",
       "      <td>0.762813</td>\n",
       "      <td>0.481716</td>\n",
       "      <td>0.477806</td>\n",
       "      <td>0.334260</td>\n",
       "      <td>0.079866</td>\n",
       "      <td>-0.9888</td>\n",
       "      <td>0.265</td>\n",
       "      <td>0.090</td>\n",
       "      <td>0.646</td>\n",
       "    </tr>\n",
       "    <tr>\n",
       "      <th>1</th>\n",
       "      <td>0.483934</td>\n",
       "      <td>0.452904</td>\n",
       "      <td>0.562512</td>\n",
       "      <td>0.372090</td>\n",
       "      <td>0.495330</td>\n",
       "      <td>0.531229</td>\n",
       "      <td>-0.036307</td>\n",
       "      <td>-0.9931</td>\n",
       "      <td>0.252</td>\n",
       "      <td>0.094</td>\n",
       "      <td>0.654</td>\n",
       "    </tr>\n",
       "    <tr>\n",
       "      <th>2</th>\n",
       "      <td>0.365368</td>\n",
       "      <td>0.395866</td>\n",
       "      <td>0.521416</td>\n",
       "      <td>0.389808</td>\n",
       "      <td>0.511561</td>\n",
       "      <td>0.370301</td>\n",
       "      <td>0.016061</td>\n",
       "      <td>-0.9661</td>\n",
       "      <td>0.187</td>\n",
       "      <td>0.102</td>\n",
       "      <td>0.710</td>\n",
       "    </tr>\n",
       "    <tr>\n",
       "      <th>3</th>\n",
       "      <td>0.393783</td>\n",
       "      <td>0.604207</td>\n",
       "      <td>0.602162</td>\n",
       "      <td>0.502100</td>\n",
       "      <td>0.483822</td>\n",
       "      <td>0.328388</td>\n",
       "      <td>0.024498</td>\n",
       "      <td>-0.9805</td>\n",
       "      <td>0.227</td>\n",
       "      <td>0.121</td>\n",
       "      <td>0.652</td>\n",
       "    </tr>\n",
       "    <tr>\n",
       "      <th>4</th>\n",
       "      <td>0.499932</td>\n",
       "      <td>0.521172</td>\n",
       "      <td>0.685990</td>\n",
       "      <td>0.479348</td>\n",
       "      <td>0.552040</td>\n",
       "      <td>0.448654</td>\n",
       "      <td>-0.041201</td>\n",
       "      <td>-0.9757</td>\n",
       "      <td>0.243</td>\n",
       "      <td>0.134</td>\n",
       "      <td>0.623</td>\n",
       "    </tr>\n",
       "    <tr>\n",
       "      <th>...</th>\n",
       "      <td>...</td>\n",
       "      <td>...</td>\n",
       "      <td>...</td>\n",
       "      <td>...</td>\n",
       "      <td>...</td>\n",
       "      <td>...</td>\n",
       "      <td>...</td>\n",
       "      <td>...</td>\n",
       "      <td>...</td>\n",
       "      <td>...</td>\n",
       "      <td>...</td>\n",
       "    </tr>\n",
       "    <tr>\n",
       "      <th>1983</th>\n",
       "      <td>0.104226</td>\n",
       "      <td>0.000000</td>\n",
       "      <td>0.441029</td>\n",
       "      <td>0.301715</td>\n",
       "      <td>0.416050</td>\n",
       "      <td>0.349394</td>\n",
       "      <td>-0.006098</td>\n",
       "      <td>-0.9839</td>\n",
       "      <td>0.222</td>\n",
       "      <td>0.119</td>\n",
       "      <td>0.659</td>\n",
       "    </tr>\n",
       "    <tr>\n",
       "      <th>1984</th>\n",
       "      <td>0.356038</td>\n",
       "      <td>0.577399</td>\n",
       "      <td>0.674126</td>\n",
       "      <td>0.610910</td>\n",
       "      <td>0.480508</td>\n",
       "      <td>0.329909</td>\n",
       "      <td>0.039465</td>\n",
       "      <td>-0.9583</td>\n",
       "      <td>0.179</td>\n",
       "      <td>0.141</td>\n",
       "      <td>0.681</td>\n",
       "    </tr>\n",
       "    <tr>\n",
       "      <th>1985</th>\n",
       "      <td>0.609911</td>\n",
       "      <td>0.792185</td>\n",
       "      <td>0.750634</td>\n",
       "      <td>0.619940</td>\n",
       "      <td>0.498645</td>\n",
       "      <td>0.387107</td>\n",
       "      <td>0.050125</td>\n",
       "      <td>-0.9943</td>\n",
       "      <td>0.263</td>\n",
       "      <td>0.125</td>\n",
       "      <td>0.613</td>\n",
       "    </tr>\n",
       "    <tr>\n",
       "      <th>1986</th>\n",
       "      <td>0.604736</td>\n",
       "      <td>0.730783</td>\n",
       "      <td>0.745244</td>\n",
       "      <td>0.590975</td>\n",
       "      <td>0.527030</td>\n",
       "      <td>0.377540</td>\n",
       "      <td>0.018968</td>\n",
       "      <td>-0.9982</td>\n",
       "      <td>0.302</td>\n",
       "      <td>0.088</td>\n",
       "      <td>0.609</td>\n",
       "    </tr>\n",
       "    <tr>\n",
       "      <th>1987</th>\n",
       "      <td>0.578028</td>\n",
       "      <td>0.592829</td>\n",
       "      <td>0.717167</td>\n",
       "      <td>0.465001</td>\n",
       "      <td>0.459241</td>\n",
       "      <td>0.316409</td>\n",
       "      <td>-0.006564</td>\n",
       "      <td>-0.9986</td>\n",
       "      <td>0.303</td>\n",
       "      <td>0.074</td>\n",
       "      <td>0.623</td>\n",
       "    </tr>\n",
       "  </tbody>\n",
       "</table>\n",
       "<p>1988 rows × 11 columns</p>\n",
       "</div>"
      ],
      "text/plain": [
       "          Open      High       Low     Close    Volume  subjectivity  \\\n",
       "0     0.628837  0.624454  0.762813  0.481716  0.477806      0.334260   \n",
       "1     0.483934  0.452904  0.562512  0.372090  0.495330      0.531229   \n",
       "2     0.365368  0.395866  0.521416  0.389808  0.511561      0.370301   \n",
       "3     0.393783  0.604207  0.602162  0.502100  0.483822      0.328388   \n",
       "4     0.499932  0.521172  0.685990  0.479348  0.552040      0.448654   \n",
       "...        ...       ...       ...       ...       ...           ...   \n",
       "1983  0.104226  0.000000  0.441029  0.301715  0.416050      0.349394   \n",
       "1984  0.356038  0.577399  0.674126  0.610910  0.480508      0.329909   \n",
       "1985  0.609911  0.792185  0.750634  0.619940  0.498645      0.387107   \n",
       "1986  0.604736  0.730783  0.745244  0.590975  0.527030      0.377540   \n",
       "1987  0.578028  0.592829  0.717167  0.465001  0.459241      0.316409   \n",
       "\n",
       "      polarity  compound    neg    pos    neu  \n",
       "0     0.079866   -0.9888  0.265  0.090  0.646  \n",
       "1    -0.036307   -0.9931  0.252  0.094  0.654  \n",
       "2     0.016061   -0.9661  0.187  0.102  0.710  \n",
       "3     0.024498   -0.9805  0.227  0.121  0.652  \n",
       "4    -0.041201   -0.9757  0.243  0.134  0.623  \n",
       "...        ...       ...    ...    ...    ...  \n",
       "1983 -0.006098   -0.9839  0.222  0.119  0.659  \n",
       "1984  0.039465   -0.9583  0.179  0.141  0.681  \n",
       "1985  0.050125   -0.9943  0.263  0.125  0.613  \n",
       "1986  0.018968   -0.9982  0.302  0.088  0.609  \n",
       "1987 -0.006564   -0.9986  0.303  0.074  0.623  \n",
       "\n",
       "[1988 rows x 11 columns]"
      ]
     },
     "execution_count": 111,
     "metadata": {},
     "output_type": "execute_result"
    }
   ],
   "source": [
    "# text_feature = Final_df['cleaned_text']\n",
    "num_sia_feature = ['Open','High','Low','Close','Volume','subjectivity','polarity','compound','neg','pos','neu']\n",
    "df_num_sia = Final_df[num_sia_feature]\n",
    "df_num_sia"
   ]
  },
  {
   "cell_type": "code",
   "execution_count": 112,
   "metadata": {
    "execution": {
     "iopub.execute_input": "2023-01-31T23:22:15.120966Z",
     "iopub.status.busy": "2023-01-31T23:22:15.119761Z",
     "iopub.status.idle": "2023-01-31T23:22:15.132234Z",
     "shell.execute_reply": "2023-01-31T23:22:15.130971Z",
     "shell.execute_reply.started": "2023-01-31T23:22:15.120908Z"
    }
   },
   "outputs": [],
   "source": [
    "#Load data\n",
    "def load_data(stock, seq_len):\n",
    "    data_raw = stock.values # convert to numpy array\n",
    "    data = []\n",
    "    \n",
    "    # create all possible sequences of length seq_len\n",
    "    for index in range(0,len(data_raw) - seq_len): \n",
    "        data.append(data_raw[index: index + seq_len +1])\n",
    "    \n",
    "    data = np.array(data);\n",
    "    test_set_size = int(np.round(test_set_size_percentage/100*data.shape[0]));\n",
    "    train_set_size = data.shape[0] -  test_set_size;\n",
    "    \n",
    "    x_train = data[:train_set_size,:-1,:]\n",
    "    y_train = data[:train_set_size,-1,0]#take only the open price as target variable\n",
    "    \n",
    "    x_test = data[train_set_size:,:-1,:]\n",
    "    y_test = data[train_set_size:,-1,0]#take only the open price as target variable\n",
    "    \n",
    "    return [x_train, y_train, x_test, y_test]"
   ]
  },
  {
   "cell_type": "code",
   "execution_count": 113,
   "metadata": {
    "execution": {
     "iopub.execute_input": "2023-01-31T23:22:15.134997Z",
     "iopub.status.busy": "2023-01-31T23:22:15.134200Z",
     "iopub.status.idle": "2023-01-31T23:22:15.150332Z",
     "shell.execute_reply": "2023-01-31T23:22:15.148874Z",
     "shell.execute_reply.started": "2023-01-31T23:22:15.134956Z"
    }
   },
   "outputs": [
    {
     "name": "stdout",
     "output_type": "stream",
     "text": [
      "x_train.shape =  (1566, 30, 11)\n",
      "y_train.shape =  (1566,)\n",
      "x_test.shape =  (392, 30, 11)\n",
      "y_test.shape =  (392,)\n"
     ]
    }
   ],
   "source": [
    "seq_len = 30 # choose sequence length\n",
    "test_set_size_percentage = 20\n",
    "x_train_num_sia, y_train_num_sia, x_test_num_sia, y_test_num_sia = load_data(df_num_sia, seq_len)\n",
    "print('x_train.shape = ',x_train_num_sia.shape)\n",
    "print('y_train.shape = ', y_train_num_sia.shape)\n",
    "print('x_test.shape = ', x_test_num_sia.shape)\n",
    "print('y_test.shape = ',y_test_num_sia.shape)"
   ]
  },
  {
   "cell_type": "code",
   "execution_count": 114,
   "metadata": {
    "execution": {
     "iopub.execute_input": "2023-01-31T23:22:15.154013Z",
     "iopub.status.busy": "2023-01-31T23:22:15.152423Z",
     "iopub.status.idle": "2023-01-31T23:22:15.160805Z",
     "shell.execute_reply": "2023-01-31T23:22:15.159043Z",
     "shell.execute_reply.started": "2023-01-31T23:22:15.153970Z"
    }
   },
   "outputs": [],
   "source": [
    "# Importing the Keras libraries and packages\n",
    "from keras.models import Sequential\n",
    "from keras.layers import Dense\n",
    "from keras.layers import LSTM\n",
    "from keras.layers import Dropout\n",
    "from tensorflow import keras"
   ]
  },
  {
   "cell_type": "code",
   "execution_count": 115,
   "metadata": {
    "execution": {
     "iopub.execute_input": "2023-01-31T23:22:15.164801Z",
     "iopub.status.busy": "2023-01-31T23:22:15.163947Z",
     "iopub.status.idle": "2023-01-31T23:22:15.319341Z",
     "shell.execute_reply": "2023-01-31T23:22:15.318221Z",
     "shell.execute_reply.started": "2023-01-31T23:22:15.164761Z"
    }
   },
   "outputs": [],
   "source": [
    "# Initialising the RNN\n",
    "model_ap3 = Sequential()\n",
    "\n",
    "# Adding the first LSTM layer and some Dropout regularisation\n",
    "model_ap3.add(LSTM(units = 32,activation ='relu',return_sequences = True, \n",
    "                      input_shape = (x_train_num_sia.shape[1], x_train_num_sia.shape[2])))\n",
    "\n",
    "# Adding the second LSTM layer and some Dropout regularisation\n",
    "model_ap3.add(LSTM(units = 16, activation ='relu'))\n",
    "\n",
    "# Adding the output layer\n",
    "model_ap3.add(Dense(units = 1))\n",
    "\n",
    "# Compiling the RNN\n",
    "model_ap3.compile(optimizer = 'adam', loss = 'mean_squared_error', \n",
    "                     metrics = [tf.keras.metrics.RootMeanSquaredError()])"
   ]
  },
  {
   "cell_type": "code",
   "execution_count": 116,
   "metadata": {
    "execution": {
     "iopub.execute_input": "2023-01-31T23:22:15.321768Z",
     "iopub.status.busy": "2023-01-31T23:22:15.321314Z",
     "iopub.status.idle": "2023-01-31T23:22:15.329402Z",
     "shell.execute_reply": "2023-01-31T23:22:15.328012Z",
     "shell.execute_reply.started": "2023-01-31T23:22:15.321726Z"
    }
   },
   "outputs": [
    {
     "name": "stdout",
     "output_type": "stream",
     "text": [
      "Model: \"sequential_1\"\n",
      "_________________________________________________________________\n",
      "Layer (type)                 Output Shape              Param #   \n",
      "=================================================================\n",
      "lstm_2 (LSTM)                (None, 30, 32)            5632      \n",
      "_________________________________________________________________\n",
      "lstm_3 (LSTM)                (None, 16)                3136      \n",
      "_________________________________________________________________\n",
      "dense_7 (Dense)              (None, 1)                 17        \n",
      "=================================================================\n",
      "Total params: 8,785\n",
      "Trainable params: 8,785\n",
      "Non-trainable params: 0\n",
      "_________________________________________________________________\n",
      "None\n"
     ]
    }
   ],
   "source": [
    "print(model_ap3.summary())"
   ]
  },
  {
   "cell_type": "code",
   "execution_count": 117,
   "metadata": {
    "execution": {
     "iopub.execute_input": "2023-01-31T23:22:15.331757Z",
     "iopub.status.busy": "2023-01-31T23:22:15.331236Z",
     "iopub.status.idle": "2023-01-31T23:24:53.143963Z",
     "shell.execute_reply": "2023-01-31T23:24:53.142921Z",
     "shell.execute_reply.started": "2023-01-31T23:22:15.331719Z"
    }
   },
   "outputs": [
    {
     "name": "stdout",
     "output_type": "stream",
     "text": [
      "Epoch 1/30\n",
      "40/40 [==============================] - 8s 131ms/step - loss: 0.0809 - root_mean_squared_error: 0.2845 - val_loss: 0.0045 - val_root_mean_squared_error: 0.0672\n",
      "Epoch 2/30\n",
      "40/40 [==============================] - 5s 134ms/step - loss: 0.0071 - root_mean_squared_error: 0.0844 - val_loss: 0.0040 - val_root_mean_squared_error: 0.0632\n",
      "Epoch 3/30\n",
      "40/40 [==============================] - 5s 121ms/step - loss: 0.0071 - root_mean_squared_error: 0.0841 - val_loss: 0.0039 - val_root_mean_squared_error: 0.0621\n",
      "Epoch 4/30\n",
      "40/40 [==============================] - 5s 137ms/step - loss: 0.0069 - root_mean_squared_error: 0.0832 - val_loss: 0.0039 - val_root_mean_squared_error: 0.0623\n",
      "Epoch 5/30\n",
      "40/40 [==============================] - 5s 124ms/step - loss: 0.0069 - root_mean_squared_error: 0.0833 - val_loss: 0.0038 - val_root_mean_squared_error: 0.0617\n",
      "Epoch 6/30\n",
      "40/40 [==============================] - 6s 147ms/step - loss: 0.0069 - root_mean_squared_error: 0.0829 - val_loss: 0.0038 - val_root_mean_squared_error: 0.0616\n",
      "Epoch 7/30\n",
      "40/40 [==============================] - 5s 121ms/step - loss: 0.0069 - root_mean_squared_error: 0.0833 - val_loss: 0.0038 - val_root_mean_squared_error: 0.0614\n",
      "Epoch 8/30\n",
      "40/40 [==============================] - 5s 123ms/step - loss: 0.0068 - root_mean_squared_error: 0.0828 - val_loss: 0.0038 - val_root_mean_squared_error: 0.0616\n",
      "Epoch 9/30\n",
      "40/40 [==============================] - 5s 133ms/step - loss: 0.0069 - root_mean_squared_error: 0.0828 - val_loss: 0.0037 - val_root_mean_squared_error: 0.0610\n",
      "Epoch 10/30\n",
      "40/40 [==============================] - 5s 123ms/step - loss: 0.0068 - root_mean_squared_error: 0.0824 - val_loss: 0.0037 - val_root_mean_squared_error: 0.0607\n",
      "Epoch 11/30\n",
      "40/40 [==============================] - 5s 131ms/step - loss: 0.0068 - root_mean_squared_error: 0.0822 - val_loss: 0.0037 - val_root_mean_squared_error: 0.0606\n",
      "Epoch 12/30\n",
      "40/40 [==============================] - 5s 130ms/step - loss: 0.0068 - root_mean_squared_error: 0.0822 - val_loss: 0.0036 - val_root_mean_squared_error: 0.0603\n",
      "Epoch 13/30\n",
      "40/40 [==============================] - 6s 137ms/step - loss: 0.0067 - root_mean_squared_error: 0.0816 - val_loss: 0.0037 - val_root_mean_squared_error: 0.0612\n",
      "Epoch 14/30\n",
      "40/40 [==============================] - 5s 121ms/step - loss: 0.0066 - root_mean_squared_error: 0.0811 - val_loss: 0.0033 - val_root_mean_squared_error: 0.0575\n",
      "Epoch 15/30\n",
      "40/40 [==============================] - 5s 134ms/step - loss: 0.0059 - root_mean_squared_error: 0.0767 - val_loss: 0.0029 - val_root_mean_squared_error: 0.0536\n",
      "Epoch 16/30\n",
      "40/40 [==============================] - 5s 120ms/step - loss: 0.0050 - root_mean_squared_error: 0.0705 - val_loss: 0.0025 - val_root_mean_squared_error: 0.0503\n",
      "Epoch 17/30\n",
      "40/40 [==============================] - 5s 133ms/step - loss: 0.0030 - root_mean_squared_error: 0.0549 - val_loss: 0.0034 - val_root_mean_squared_error: 0.0583\n",
      "Epoch 18/30\n",
      "40/40 [==============================] - 5s 125ms/step - loss: 0.0021 - root_mean_squared_error: 0.0453 - val_loss: 5.1196e-04 - val_root_mean_squared_error: 0.0226\n",
      "Epoch 19/30\n",
      "40/40 [==============================] - 6s 153ms/step - loss: 0.0010 - root_mean_squared_error: 0.0320 - val_loss: 5.8394e-04 - val_root_mean_squared_error: 0.0242\n",
      "Epoch 20/30\n",
      "40/40 [==============================] - 5s 121ms/step - loss: 9.2120e-04 - root_mean_squared_error: 0.0304 - val_loss: 0.0014 - val_root_mean_squared_error: 0.0372\n",
      "Epoch 21/30\n",
      "40/40 [==============================] - 5s 135ms/step - loss: 8.8453e-04 - root_mean_squared_error: 0.0297 - val_loss: 3.0302e-04 - val_root_mean_squared_error: 0.0174\n",
      "Epoch 22/30\n",
      "40/40 [==============================] - 5s 122ms/step - loss: 5.9159e-04 - root_mean_squared_error: 0.0243 - val_loss: 3.1012e-04 - val_root_mean_squared_error: 0.0176\n",
      "Epoch 23/30\n",
      "40/40 [==============================] - 5s 134ms/step - loss: 5.3959e-04 - root_mean_squared_error: 0.0232 - val_loss: 2.2009e-04 - val_root_mean_squared_error: 0.0148\n",
      "Epoch 24/30\n",
      "40/40 [==============================] - 5s 119ms/step - loss: 3.9271e-04 - root_mean_squared_error: 0.0198 - val_loss: 2.3611e-04 - val_root_mean_squared_error: 0.0154\n",
      "Epoch 25/30\n",
      "40/40 [==============================] - 6s 141ms/step - loss: 5.0885e-04 - root_mean_squared_error: 0.0226 - val_loss: 4.9524e-04 - val_root_mean_squared_error: 0.0223\n",
      "Epoch 26/30\n",
      "40/40 [==============================] - 5s 120ms/step - loss: 6.6778e-04 - root_mean_squared_error: 0.0258 - val_loss: 2.1411e-04 - val_root_mean_squared_error: 0.0146\n",
      "Epoch 27/30\n",
      "40/40 [==============================] - 5s 125ms/step - loss: 4.0727e-04 - root_mean_squared_error: 0.0202 - val_loss: 2.5843e-04 - val_root_mean_squared_error: 0.0161\n",
      "Epoch 28/30\n",
      "40/40 [==============================] - 5s 128ms/step - loss: 3.2662e-04 - root_mean_squared_error: 0.0181 - val_loss: 2.4756e-04 - val_root_mean_squared_error: 0.0157\n",
      "Epoch 29/30\n",
      "40/40 [==============================] - 5s 123ms/step - loss: 3.2325e-04 - root_mean_squared_error: 0.0180 - val_loss: 1.3028e-04 - val_root_mean_squared_error: 0.0114\n",
      "Epoch 30/30\n",
      "40/40 [==============================] - 5s 132ms/step - loss: 2.3038e-04 - root_mean_squared_error: 0.0152 - val_loss: 1.6289e-04 - val_root_mean_squared_error: 0.0128\n"
     ]
    }
   ],
   "source": [
    "# # Fitting the RNN to the Training set\n",
    "history_ap3 = model_ap3.fit(x_train_num_sia, y_train_num_sia,validation_split=0.2, epochs = 30,\n",
    "                           batch_size = 32)"
   ]
  },
  {
   "cell_type": "code",
   "execution_count": 118,
   "metadata": {
    "execution": {
     "iopub.execute_input": "2023-01-31T23:24:53.146898Z",
     "iopub.status.busy": "2023-01-31T23:24:53.145868Z",
     "iopub.status.idle": "2023-01-31T23:24:53.394723Z",
     "shell.execute_reply": "2023-01-31T23:24:53.393680Z",
     "shell.execute_reply.started": "2023-01-31T23:24:53.146857Z"
    }
   },
   "outputs": [
    {
     "data": {
      "image/png": "[encoded data removed]",
      "text/plain": [
       "<Figure size 432x288 with 1 Axes>"
      ]
     },
     "metadata": {
      "needs_background": "light"
     },
     "output_type": "display_data"
    }
   ],
   "source": [
    "plt.subplots()\n",
    "plt.plot(history_ap3.history['loss'])\n",
    "plt.plot(history_ap3.history['val_loss'])\n",
    "plt.title('model loss')\n",
    "plt.ylabel('loss')\n",
    "plt.xlabel('epoch')\n",
    "plt.legend(['train', 'validation'])\n",
    "plt.show()"
   ]
  },
  {
   "cell_type": "code",
   "execution_count": 165,
   "metadata": {
    "execution": {
     "iopub.execute_input": "2023-02-01T00:54:30.324553Z",
     "iopub.status.busy": "2023-02-01T00:54:30.324110Z",
     "iopub.status.idle": "2023-02-01T00:54:31.199792Z",
     "shell.execute_reply": "2023-02-01T00:54:31.198695Z",
     "shell.execute_reply.started": "2023-02-01T00:54:30.324504Z"
    }
   },
   "outputs": [],
   "source": [
    "pred_ap3 = model_ap3.predict(x_test_num_sia)\n",
    "unnorm_predictions = []\n",
    "for pred in pred_ap3:\n",
    "    unnorm_predictions.append(unnormalize(pred))\n",
    "\n",
    "unnorm_y_test = []\n",
    "for y in y_test_num_sia:\n",
    "    unnorm_y_test.append(unnormalize(y))\n"
   ]
  },
  {
   "cell_type": "code",
   "execution_count": 168,
   "metadata": {
    "execution": {
     "iopub.execute_input": "2023-02-01T00:55:07.509849Z",
     "iopub.status.busy": "2023-02-01T00:55:07.507424Z",
     "iopub.status.idle": "2023-02-01T00:55:07.785728Z",
     "shell.execute_reply": "2023-02-01T00:55:07.784649Z",
     "shell.execute_reply.started": "2023-02-01T00:55:07.509811Z"
    }
   },
   "outputs": [
    {
     "data": {
      "image/png": "[encoded data removed]",
      "text/plain": [
       "<Figure size 1440x360 with 1 Axes>"
      ]
     },
     "metadata": {
      "needs_background": "light"
     },
     "output_type": "display_data"
    }
   ],
   "source": [
    "plt.plot(unnorm_y_test, color = 'red', label = 'Real Price')\n",
    "plt.plot(unnorm_predictions, color = 'green', label = 'Predicted Price')\n",
    "plt.title('Stock Prediction')\n",
    "plt.xlabel('Time')\n",
    "plt.ylabel('Normalized Price')\n",
    "plt.rcParams[\"figure.figsize\"] = (10,5)\n",
    "plt.legend()\n",
    "plt.show()"
   ]
  },
  {
   "cell_type": "code",
   "execution_count": 119,
   "metadata": {
    "execution": {
     "iopub.execute_input": "2023-01-31T23:24:53.397605Z",
     "iopub.status.busy": "2023-01-31T23:24:53.396849Z",
     "iopub.status.idle": "2023-01-31T23:24:53.594793Z",
     "shell.execute_reply": "2023-01-31T23:24:53.593730Z",
     "shell.execute_reply.started": "2023-01-31T23:24:53.397564Z"
    }
   },
   "outputs": [
    {
     "name": "stdout",
     "output_type": "stream",
     "text": [
      "13/13 [==============================] - 0s 11ms/step - loss: 4.7282e-04 - root_mean_squared_error: 0.0217\n"
     ]
    },
    {
     "data": {
      "text/plain": [
       "[0.00047281821025535464, 0.0217443834990263]"
      ]
     },
     "execution_count": 119,
     "metadata": {},
     "output_type": "execute_result"
    }
   ],
   "source": [
    "score_ap3 = model_ap3.evaluate(x_test_num_sia, y_test_num_sia, verbose=1)\n",
    "score_ap3"
   ]
  },
  {
   "cell_type": "code",
   "execution_count": 127,
   "metadata": {
    "execution": {
     "iopub.execute_input": "2023-01-31T23:43:34.216363Z",
     "iopub.status.busy": "2023-01-31T23:43:34.215585Z",
     "iopub.status.idle": "2023-01-31T23:43:34.227366Z",
     "shell.execute_reply": "2023-01-31T23:43:34.225859Z",
     "shell.execute_reply.started": "2023-01-31T23:43:34.216324Z"
    }
   },
   "outputs": [],
   "source": [
    "def build_model_2(hp):\n",
    "    n_hidden = hp.Int(\"n_hidden\", min_value=1, max_value=12, default=2)\n",
    "    n_neurons = hp.Int(\"n_neurons\", min_value=16, max_value=256)\n",
    "    learning_rate = hp.Float(\"learning_rate\", min_value=1e-4, max_value=1e-4, sampling=\"log\")\n",
    "    optimizer = hp.Choice(\"optimizer\", values=[\"sgd\", \"adam\"])\n",
    "    if optimizer == \"sgd\":\n",
    "        optimizer = tf.keras.optimizers.SGD(learning_rate=learning_rate)\n",
    "    else:\n",
    "        optimizer = tf.keras.optimizers.Adam(learning_rate=learning_rate)\n",
    "    model = tf.keras.Sequential()\n",
    "#     model.add(embedding_layer)\n",
    "    model.add(LSTM(32, activation='relu', return_sequences=True))\n",
    "    model.add(LSTM(16, activation='relu'))\n",
    "    for _ in range(n_hidden):\n",
    "        model.add(tf.keras.layers.Dense(n_neurons, activation=\"relu\"))\n",
    "    model.add(tf.keras.layers.Dense(1, activation=\"relu\"))\n",
    "    model.compile(loss=\"mean_squared_error\", optimizer=optimizer, metrics=[tf.keras.metrics.RootMeanSquaredError()])\n",
    "    return model"
   ]
  },
  {
   "cell_type": "code",
   "execution_count": 129,
   "metadata": {
    "execution": {
     "iopub.execute_input": "2023-01-31T23:44:05.157801Z",
     "iopub.status.busy": "2023-01-31T23:44:05.157361Z",
     "iopub.status.idle": "2023-01-31T23:54:52.264543Z",
     "shell.execute_reply": "2023-01-31T23:54:52.263435Z",
     "shell.execute_reply.started": "2023-01-31T23:44:05.157764Z"
    }
   },
   "outputs": [
    {
     "name": "stdout",
     "output_type": "stream",
     "text": [
      "Trial 10 Complete [00h 00m 56s]\n",
      "val_loss: 0.003939699847251177\n",
      "\n",
      "Best val_loss So Far: 0.003747679525986314\n",
      "Total elapsed time: 00h 10m 47s\n"
     ]
    }
   ],
   "source": [
    "import keras_tuner as kt\n",
    "random_search_tuner_2 = kt.RandomSearch(build_model_2, objective=\"val_loss\", max_trials=10, overwrite=True,\n",
    "directory=\"model_ap3\", project_name=\"model_ap3\", seed=42)\n",
    "random_search_tuner_2.search(x_train_num_sia, y_train_num_sia, epochs=10, validation_split = 0.2)"
   ]
  },
  {
   "cell_type": "code",
   "execution_count": 130,
   "metadata": {
    "execution": {
     "iopub.execute_input": "2023-01-31T23:54:52.268560Z",
     "iopub.status.busy": "2023-01-31T23:54:52.267322Z",
     "iopub.status.idle": "2023-01-31T23:54:52.275660Z",
     "shell.execute_reply": "2023-01-31T23:54:52.274374Z",
     "shell.execute_reply.started": "2023-01-31T23:54:52.268514Z"
    }
   },
   "outputs": [
    {
     "name": "stdout",
     "output_type": "stream",
     "text": [
      "Trial summary\n",
      "Hyperparameters:\n",
      "n_hidden: 10\n",
      "n_neurons: 124\n",
      "learning_rate: 0.0001\n",
      "optimizer: adam\n",
      "Score: 0.003747679525986314\n"
     ]
    }
   ],
   "source": [
    "best_trial = random_search_tuner_2.oracle.get_best_trials(num_trials=1)[0]\n",
    "best_trial.summary()"
   ]
  },
  {
   "cell_type": "code",
   "execution_count": 131,
   "metadata": {
    "execution": {
     "iopub.execute_input": "2023-01-31T23:54:52.278774Z",
     "iopub.status.busy": "2023-01-31T23:54:52.277405Z",
     "iopub.status.idle": "2023-01-31T23:54:53.628622Z",
     "shell.execute_reply": "2023-01-31T23:54:53.627283Z",
     "shell.execute_reply.started": "2023-01-31T23:54:52.278706Z"
    }
   },
   "outputs": [],
   "source": [
    "top3_models = random_search_tuner_2.get_best_models(num_models=3)\n",
    "best_model_ap3 = top3_models[0]"
   ]
  },
  {
   "cell_type": "code",
   "execution_count": 132,
   "metadata": {
    "execution": {
     "iopub.execute_input": "2023-01-31T23:59:56.486592Z",
     "iopub.status.busy": "2023-01-31T23:59:56.485830Z",
     "iopub.status.idle": "2023-02-01T00:02:36.131427Z",
     "shell.execute_reply": "2023-02-01T00:02:36.130327Z",
     "shell.execute_reply.started": "2023-01-31T23:59:56.486553Z"
    }
   },
   "outputs": [
    {
     "name": "stdout",
     "output_type": "stream",
     "text": [
      "Epoch 1/30\n",
      "40/40 [==============================] - 8s 141ms/step - loss: 0.0068 - root_mean_squared_error: 0.0823 - val_loss: 0.0039 - val_root_mean_squared_error: 0.0623\n",
      "Epoch 2/30\n",
      "40/40 [==============================] - 5s 124ms/step - loss: 0.0069 - root_mean_squared_error: 0.0831 - val_loss: 0.0038 - val_root_mean_squared_error: 0.0616\n",
      "Epoch 3/30\n",
      "40/40 [==============================] - 5s 132ms/step - loss: 0.0069 - root_mean_squared_error: 0.0828 - val_loss: 0.0037 - val_root_mean_squared_error: 0.0610\n",
      "Epoch 4/30\n",
      "40/40 [==============================] - 5s 122ms/step - loss: 0.0068 - root_mean_squared_error: 0.0823 - val_loss: 0.0037 - val_root_mean_squared_error: 0.0610\n",
      "Epoch 5/30\n",
      "40/40 [==============================] - 5s 134ms/step - loss: 0.0068 - root_mean_squared_error: 0.0825 - val_loss: 0.0037 - val_root_mean_squared_error: 0.0612\n",
      "Epoch 6/30\n",
      "40/40 [==============================] - 6s 138ms/step - loss: 0.0068 - root_mean_squared_error: 0.0822 - val_loss: 0.0037 - val_root_mean_squared_error: 0.0610\n",
      "Epoch 7/30\n",
      "40/40 [==============================] - 5s 128ms/step - loss: 0.0067 - root_mean_squared_error: 0.0820 - val_loss: 0.0038 - val_root_mean_squared_error: 0.0620\n",
      "Epoch 8/30\n",
      "40/40 [==============================] - 5s 119ms/step - loss: 0.0068 - root_mean_squared_error: 0.0824 - val_loss: 0.0037 - val_root_mean_squared_error: 0.0611\n",
      "Epoch 9/30\n",
      "40/40 [==============================] - 5s 120ms/step - loss: 0.0068 - root_mean_squared_error: 0.0822 - val_loss: 0.0037 - val_root_mean_squared_error: 0.0611\n",
      "Epoch 10/30\n",
      "40/40 [==============================] - 5s 131ms/step - loss: 0.0068 - root_mean_squared_error: 0.0823 - val_loss: 0.0040 - val_root_mean_squared_error: 0.0630\n",
      "Epoch 11/30\n",
      "40/40 [==============================] - 5s 129ms/step - loss: 0.0068 - root_mean_squared_error: 0.0825 - val_loss: 0.0037 - val_root_mean_squared_error: 0.0610\n",
      "Epoch 12/30\n",
      "40/40 [==============================] - 6s 150ms/step - loss: 0.0070 - root_mean_squared_error: 0.0837 - val_loss: 0.0037 - val_root_mean_squared_error: 0.0608\n",
      "Epoch 13/30\n",
      "40/40 [==============================] - 5s 127ms/step - loss: 0.0067 - root_mean_squared_error: 0.0821 - val_loss: 0.0037 - val_root_mean_squared_error: 0.0606\n",
      "Epoch 14/30\n",
      "40/40 [==============================] - 5s 133ms/step - loss: 0.0067 - root_mean_squared_error: 0.0819 - val_loss: 0.0036 - val_root_mean_squared_error: 0.0603\n",
      "Epoch 15/30\n",
      "40/40 [==============================] - 5s 123ms/step - loss: 0.0068 - root_mean_squared_error: 0.0822 - val_loss: 0.0036 - val_root_mean_squared_error: 0.0602\n",
      "Epoch 16/30\n",
      "40/40 [==============================] - 5s 132ms/step - loss: 0.0067 - root_mean_squared_error: 0.0821 - val_loss: 0.0038 - val_root_mean_squared_error: 0.0619\n",
      "Epoch 17/30\n",
      "40/40 [==============================] - 5s 119ms/step - loss: 0.0067 - root_mean_squared_error: 0.0819 - val_loss: 0.0037 - val_root_mean_squared_error: 0.0604\n",
      "Epoch 18/30\n",
      "40/40 [==============================] - 6s 155ms/step - loss: 0.0067 - root_mean_squared_error: 0.0816 - val_loss: 0.0037 - val_root_mean_squared_error: 0.0607\n",
      "Epoch 19/30\n",
      "40/40 [==============================] - 5s 124ms/step - loss: 0.0069 - root_mean_squared_error: 0.0831 - val_loss: 0.0037 - val_root_mean_squared_error: 0.0607\n",
      "Epoch 20/30\n",
      "40/40 [==============================] - 5s 135ms/step - loss: 0.0067 - root_mean_squared_error: 0.0818 - val_loss: 0.0036 - val_root_mean_squared_error: 0.0598\n",
      "Epoch 21/30\n",
      "40/40 [==============================] - 5s 123ms/step - loss: 0.0067 - root_mean_squared_error: 0.0816 - val_loss: 0.0038 - val_root_mean_squared_error: 0.0616\n",
      "Epoch 22/30\n",
      "40/40 [==============================] - 5s 136ms/step - loss: 0.0068 - root_mean_squared_error: 0.0824 - val_loss: 0.0036 - val_root_mean_squared_error: 0.0597\n",
      "Epoch 23/30\n",
      "40/40 [==============================] - 5s 122ms/step - loss: 0.0066 - root_mean_squared_error: 0.0815 - val_loss: 0.0036 - val_root_mean_squared_error: 0.0602\n",
      "Epoch 24/30\n",
      "40/40 [==============================] - 6s 149ms/step - loss: 0.0067 - root_mean_squared_error: 0.0817 - val_loss: 0.0035 - val_root_mean_squared_error: 0.0596\n",
      "Epoch 25/30\n",
      "40/40 [==============================] - 5s 122ms/step - loss: 0.0067 - root_mean_squared_error: 0.0817 - val_loss: 0.0036 - val_root_mean_squared_error: 0.0604\n",
      "Epoch 26/30\n",
      "40/40 [==============================] - 5s 138ms/step - loss: 0.0067 - root_mean_squared_error: 0.0816 - val_loss: 0.0039 - val_root_mean_squared_error: 0.0626\n",
      "Epoch 27/30\n",
      "40/40 [==============================] - 5s 123ms/step - loss: 0.0067 - root_mean_squared_error: 0.0821 - val_loss: 0.0037 - val_root_mean_squared_error: 0.0604\n",
      "Epoch 28/30\n",
      "40/40 [==============================] - 5s 134ms/step - loss: 0.0067 - root_mean_squared_error: 0.0817 - val_loss: 0.0035 - val_root_mean_squared_error: 0.0592\n",
      "Epoch 29/30\n",
      "40/40 [==============================] - 5s 120ms/step - loss: 0.0066 - root_mean_squared_error: 0.0810 - val_loss: 0.0036 - val_root_mean_squared_error: 0.0598\n",
      "Epoch 30/30\n",
      "40/40 [==============================] - 6s 150ms/step - loss: 0.0066 - root_mean_squared_error: 0.0811 - val_loss: 0.0039 - val_root_mean_squared_error: 0.0626\n"
     ]
    }
   ],
   "source": [
    "history_ap3_1 = best_model_ap3.fit(x_train_num_sia, y_train_num_sia,validation_split = 0.2, epochs=30)"
   ]
  },
  {
   "cell_type": "code",
   "execution_count": 133,
   "metadata": {
    "execution": {
     "iopub.execute_input": "2023-02-01T00:02:36.134793Z",
     "iopub.status.busy": "2023-02-01T00:02:36.134189Z",
     "iopub.status.idle": "2023-02-01T00:02:36.402801Z",
     "shell.execute_reply": "2023-02-01T00:02:36.401658Z",
     "shell.execute_reply.started": "2023-02-01T00:02:36.134755Z"
    }
   },
   "outputs": [
    {
     "data": {
      "image/png": "[encoded data removed]",
      "text/plain": [
       "<Figure size 432x288 with 1 Axes>"
      ]
     },
     "metadata": {
      "needs_background": "light"
     },
     "output_type": "display_data"
    }
   ],
   "source": [
    "plt.subplots()\n",
    "plt.plot(history_ap3_1.history['loss'])\n",
    "plt.plot(history_ap3_1.history['val_loss'])\n",
    "plt.title('model_ap3_1 loss')\n",
    "plt.ylabel('loss')\n",
    "plt.xlabel('epoch')\n",
    "plt.legend(['train', 'validation'])\n",
    "plt.show()"
   ]
  },
  {
   "cell_type": "code",
   "execution_count": 134,
   "metadata": {
    "execution": {
     "iopub.execute_input": "2023-02-01T00:02:36.404909Z",
     "iopub.status.busy": "2023-02-01T00:02:36.404175Z",
     "iopub.status.idle": "2023-02-01T00:02:36.610287Z",
     "shell.execute_reply": "2023-02-01T00:02:36.609236Z",
     "shell.execute_reply.started": "2023-02-01T00:02:36.404867Z"
    }
   },
   "outputs": [
    {
     "name": "stdout",
     "output_type": "stream",
     "text": [
      "13/13 [==============================] - 0s 11ms/step - loss: 0.0090 - root_mean_squared_error: 0.0951\n"
     ]
    },
    {
     "data": {
      "text/plain": [
       "[0.009045559912919998, 0.09510815143585205]"
      ]
     },
     "execution_count": 134,
     "metadata": {},
     "output_type": "execute_result"
    }
   ],
   "source": [
    "score_ap3_1 = best_model_ap3.evaluate(x_test_num_sia, y_test_num_sia)\n",
    "score_ap3_1"
   ]
  },
  {
   "cell_type": "markdown",
   "metadata": {},
   "source": [
    "# APPROACH 4: BUILDING PARRALLEL BRANCHES (Functional API)"
   ]
  },
  {
   "cell_type": "code",
   "execution_count": 135,
   "metadata": {
    "execution": {
     "iopub.execute_input": "2023-02-01T00:07:33.407867Z",
     "iopub.status.busy": "2023-02-01T00:07:33.407448Z",
     "iopub.status.idle": "2023-02-01T00:07:33.427048Z",
     "shell.execute_reply": "2023-02-01T00:07:33.425652Z",
     "shell.execute_reply.started": "2023-02-01T00:07:33.407831Z"
    }
   },
   "outputs": [
    {
     "data": {
      "text/html": [
       "<div>\n",
       "<style scoped>\n",
       "    .dataframe tbody tr th:only-of-type {\n",
       "        vertical-align: middle;\n",
       "    }\n",
       "\n",
       "    .dataframe tbody tr th {\n",
       "        vertical-align: top;\n",
       "    }\n",
       "\n",
       "    .dataframe thead th {\n",
       "        text-align: right;\n",
       "    }\n",
       "</style>\n",
       "<table border=\"1\" class=\"dataframe\">\n",
       "  <thead>\n",
       "    <tr style=\"text-align: right;\">\n",
       "      <th></th>\n",
       "      <th>Open</th>\n",
       "      <th>cleaned_text</th>\n",
       "    </tr>\n",
       "  </thead>\n",
       "  <tbody>\n",
       "    <tr>\n",
       "      <th>0</th>\n",
       "      <td>0.628837</td>\n",
       "      <td>bwhy wont america nato help u wont help u help...</td>\n",
       "    </tr>\n",
       "    <tr>\n",
       "      <th>1</th>\n",
       "      <td>0.483934</td>\n",
       "      <td>bremember adorable sang opening ceremony fake ...</td>\n",
       "    </tr>\n",
       "    <tr>\n",
       "      <th>2</th>\n",
       "      <td>0.365368</td>\n",
       "      <td>b u refuse israel weapon attack iran report bw...</td>\n",
       "    </tr>\n",
       "    <tr>\n",
       "      <th>3</th>\n",
       "      <td>0.393783</td>\n",
       "      <td>ball expert admit legalise drug bwar south ose...</td>\n",
       "    </tr>\n",
       "    <tr>\n",
       "      <th>4</th>\n",
       "      <td>0.499932</td>\n",
       "      <td>bmom missing gay man bad he cheerleader theyd ...</td>\n",
       "    </tr>\n",
       "    <tr>\n",
       "      <th>...</th>\n",
       "      <td>...</td>\n",
       "      <td>...</td>\n",
       "    </tr>\n",
       "    <tr>\n",
       "      <th>1983</th>\n",
       "      <td>0.104226</td>\n",
       "      <td>barclays rb share suspended trading tanking po...</td>\n",
       "    </tr>\n",
       "    <tr>\n",
       "      <th>1984</th>\n",
       "      <td>0.356038</td>\n",
       "      <td>scientist australia want save great barrier re...</td>\n",
       "    </tr>\n",
       "    <tr>\n",
       "      <th>1985</th>\n",
       "      <td>0.609911</td>\n",
       "      <td>explosion airport istanbul yemeni former presi...</td>\n",
       "    </tr>\n",
       "    <tr>\n",
       "      <th>1986</th>\n",
       "      <td>0.604736</td>\n",
       "      <td>jamaica proposes marijuana dispenser tourist a...</td>\n",
       "    </tr>\n",
       "    <tr>\n",
       "      <th>1987</th>\n",
       "      <td>0.578028</td>\n",
       "      <td>woman mexico city finally received birth certi...</td>\n",
       "    </tr>\n",
       "  </tbody>\n",
       "</table>\n",
       "<p>1988 rows × 2 columns</p>\n",
       "</div>"
      ],
      "text/plain": [
       "          Open                                       cleaned_text\n",
       "0     0.628837  bwhy wont america nato help u wont help u help...\n",
       "1     0.483934  bremember adorable sang opening ceremony fake ...\n",
       "2     0.365368  b u refuse israel weapon attack iran report bw...\n",
       "3     0.393783  ball expert admit legalise drug bwar south ose...\n",
       "4     0.499932  bmom missing gay man bad he cheerleader theyd ...\n",
       "...        ...                                                ...\n",
       "1983  0.104226  barclays rb share suspended trading tanking po...\n",
       "1984  0.356038  scientist australia want save great barrier re...\n",
       "1985  0.609911  explosion airport istanbul yemeni former presi...\n",
       "1986  0.604736  jamaica proposes marijuana dispenser tourist a...\n",
       "1987  0.578028  woman mexico city finally received birth certi...\n",
       "\n",
       "[1988 rows x 2 columns]"
      ]
     },
     "execution_count": 135,
     "metadata": {},
     "output_type": "execute_result"
    }
   ],
   "source": [
    "df_text = Final_df[['Open','cleaned_text']]\n",
    "df_text"
   ]
  },
  {
   "cell_type": "code",
   "execution_count": 136,
   "metadata": {
    "execution": {
     "iopub.execute_input": "2023-02-01T00:07:37.301312Z",
     "iopub.status.busy": "2023-02-01T00:07:37.300215Z",
     "iopub.status.idle": "2023-02-01T00:07:37.308013Z",
     "shell.execute_reply": "2023-02-01T00:07:37.306883Z",
     "shell.execute_reply.started": "2023-02-01T00:07:37.301262Z"
    }
   },
   "outputs": [],
   "source": [
    "from keras.preprocessing.text import Tokenizer\n",
    "from tensorflow.keras.preprocessing.sequence import pad_sequences"
   ]
  },
  {
   "cell_type": "code",
   "execution_count": 137,
   "metadata": {
    "execution": {
     "iopub.execute_input": "2023-02-01T00:07:40.232693Z",
     "iopub.status.busy": "2023-02-01T00:07:40.231937Z",
     "iopub.status.idle": "2023-02-01T00:07:40.242452Z",
     "shell.execute_reply": "2023-02-01T00:07:40.241330Z",
     "shell.execute_reply.started": "2023-02-01T00:07:40.232629Z"
    }
   },
   "outputs": [],
   "source": [
    "def load_data_text(stock, seq_len):\n",
    "    data_raw = stock.values # convert to numpy array\n",
    "    data = []\n",
    "    \n",
    "    # create all possible sequences of length seq_len\n",
    "    for index in range(len(stock) - seq_len): \n",
    "        data.append(stock[index: index + seq_len +1])\n",
    "    \n",
    "    data = np.array(data);\n",
    "    test_set_size = int(np.round(test_set_size_percentage/100*data.shape[0]));\n",
    "    train_set_size = data.shape[0] -  test_set_size;\n",
    "    \n",
    "    x_train = data[:train_set_size,-1,-1]#take only the head line news on the target price day\n",
    "    y_train = data[:train_set_size,-1,0]#take only the open price as target variable\n",
    "    \n",
    "    x_test = data[train_set_size:,-1,-1]#take only the head line news on the target price day\n",
    "    y_test = data[train_set_size:,-1,0]#take only the open price as target variable\n",
    "    \n",
    "    return [x_train,y_train, x_test,y_test]"
   ]
  },
  {
   "cell_type": "code",
   "execution_count": 138,
   "metadata": {
    "execution": {
     "iopub.execute_input": "2023-02-01T00:07:43.016097Z",
     "iopub.status.busy": "2023-02-01T00:07:43.015008Z",
     "iopub.status.idle": "2023-02-01T00:07:43.225462Z",
     "shell.execute_reply": "2023-02-01T00:07:43.224137Z",
     "shell.execute_reply.started": "2023-02-01T00:07:43.016034Z"
    }
   },
   "outputs": [
    {
     "name": "stdout",
     "output_type": "stream",
     "text": [
      "x_train.shape =  (1566,)\n",
      "y_train.shape =  (1566,)\n",
      "x_test.shape =  (392,)\n",
      "y_test.shape =  (392,)\n"
     ]
    }
   ],
   "source": [
    "#Create train, test data for df_text\n",
    "seq_len = 30 # choose sequence length\n",
    "test_set_size_percentage = 20\n",
    "x_train_text,y_train_text,x_test_text,y_test_text = load_data_text(df_text, seq_len)\n",
    "print('x_train.shape = ',x_train_text.shape)\n",
    "print('y_train.shape = ', y_train_text.shape)\n",
    "print('x_test.shape = ', x_test_text.shape)\n",
    "print('y_test.shape = ',y_test_text.shape)"
   ]
  },
  {
   "cell_type": "code",
   "execution_count": 139,
   "metadata": {
    "execution": {
     "iopub.execute_input": "2023-02-01T00:07:48.374206Z",
     "iopub.status.busy": "2023-02-01T00:07:48.373819Z",
     "iopub.status.idle": "2023-02-01T00:07:49.156473Z",
     "shell.execute_reply": "2023-02-01T00:07:49.155350Z",
     "shell.execute_reply.started": "2023-02-01T00:07:48.374173Z"
    }
   },
   "outputs": [],
   "source": [
    "#Tokenize to encode document\n",
    "num_words_ = 5000\n",
    "oov_tok = \"<OOV>\"\n",
    "\n",
    "tokenizer = Tokenizer(num_words=num_words_, oov_token=oov_tok)\n",
    "tokenizer.fit_on_texts(df_text['cleaned_text'])\n",
    "\n",
    "x_train_text = tokenizer.texts_to_sequences(x_train_text)\n",
    "x_test_text = tokenizer.texts_to_sequences(x_test_text)"
   ]
  },
  {
   "cell_type": "code",
   "execution_count": 140,
   "metadata": {
    "execution": {
     "iopub.execute_input": "2023-02-01T00:07:57.843827Z",
     "iopub.status.busy": "2023-02-01T00:07:57.843343Z",
     "iopub.status.idle": "2023-02-01T00:07:57.893864Z",
     "shell.execute_reply": "2023-02-01T00:07:57.892803Z",
     "shell.execute_reply.started": "2023-02-01T00:07:57.843790Z"
    }
   },
   "outputs": [],
   "source": [
    "#pad sequence\n",
    "vocab_size = len(tokenizer.word_index) + 1\n",
    "\n",
    "maxlen = 300\n",
    "trunc_type='post'\n",
    "padding_type='post'\n",
    "\n",
    "x_train_text = pad_sequences(x_train_text, maxlen=maxlen, truncating= trunc_type, padding=padding_type)\n",
    "x_test_text = pad_sequences(x_test_text, padding=padding_type, maxlen=maxlen, truncating= trunc_type)"
   ]
  },
  {
   "cell_type": "code",
   "execution_count": 142,
   "metadata": {
    "execution": {
     "iopub.execute_input": "2023-02-01T00:08:09.501340Z",
     "iopub.status.busy": "2023-02-01T00:08:09.500590Z",
     "iopub.status.idle": "2023-02-01T00:08:09.518337Z",
     "shell.execute_reply": "2023-02-01T00:08:09.517066Z",
     "shell.execute_reply.started": "2023-02-01T00:08:09.501304Z"
    }
   },
   "outputs": [
    {
     "data": {
      "text/html": [
       "<div>\n",
       "<style scoped>\n",
       "    .dataframe tbody tr th:only-of-type {\n",
       "        vertical-align: middle;\n",
       "    }\n",
       "\n",
       "    .dataframe tbody tr th {\n",
       "        vertical-align: top;\n",
       "    }\n",
       "\n",
       "    .dataframe thead th {\n",
       "        text-align: right;\n",
       "    }\n",
       "</style>\n",
       "<table border=\"1\" class=\"dataframe\">\n",
       "  <thead>\n",
       "    <tr style=\"text-align: right;\">\n",
       "      <th></th>\n",
       "      <th>Open</th>\n",
       "      <th>High</th>\n",
       "      <th>Low</th>\n",
       "      <th>Close</th>\n",
       "      <th>Volume</th>\n",
       "    </tr>\n",
       "  </thead>\n",
       "  <tbody>\n",
       "    <tr>\n",
       "      <th>0</th>\n",
       "      <td>0.628837</td>\n",
       "      <td>0.624454</td>\n",
       "      <td>0.762813</td>\n",
       "      <td>0.481716</td>\n",
       "      <td>0.477806</td>\n",
       "    </tr>\n",
       "    <tr>\n",
       "      <th>1</th>\n",
       "      <td>0.483934</td>\n",
       "      <td>0.452904</td>\n",
       "      <td>0.562512</td>\n",
       "      <td>0.372090</td>\n",
       "      <td>0.495330</td>\n",
       "    </tr>\n",
       "    <tr>\n",
       "      <th>2</th>\n",
       "      <td>0.365368</td>\n",
       "      <td>0.395866</td>\n",
       "      <td>0.521416</td>\n",
       "      <td>0.389808</td>\n",
       "      <td>0.511561</td>\n",
       "    </tr>\n",
       "    <tr>\n",
       "      <th>3</th>\n",
       "      <td>0.393783</td>\n",
       "      <td>0.604207</td>\n",
       "      <td>0.602162</td>\n",
       "      <td>0.502100</td>\n",
       "      <td>0.483822</td>\n",
       "    </tr>\n",
       "    <tr>\n",
       "      <th>4</th>\n",
       "      <td>0.499932</td>\n",
       "      <td>0.521172</td>\n",
       "      <td>0.685990</td>\n",
       "      <td>0.479348</td>\n",
       "      <td>0.552040</td>\n",
       "    </tr>\n",
       "    <tr>\n",
       "      <th>...</th>\n",
       "      <td>...</td>\n",
       "      <td>...</td>\n",
       "      <td>...</td>\n",
       "      <td>...</td>\n",
       "      <td>...</td>\n",
       "    </tr>\n",
       "    <tr>\n",
       "      <th>1983</th>\n",
       "      <td>0.104226</td>\n",
       "      <td>0.000000</td>\n",
       "      <td>0.441029</td>\n",
       "      <td>0.301715</td>\n",
       "      <td>0.416050</td>\n",
       "    </tr>\n",
       "    <tr>\n",
       "      <th>1984</th>\n",
       "      <td>0.356038</td>\n",
       "      <td>0.577399</td>\n",
       "      <td>0.674126</td>\n",
       "      <td>0.610910</td>\n",
       "      <td>0.480508</td>\n",
       "    </tr>\n",
       "    <tr>\n",
       "      <th>1985</th>\n",
       "      <td>0.609911</td>\n",
       "      <td>0.792185</td>\n",
       "      <td>0.750634</td>\n",
       "      <td>0.619940</td>\n",
       "      <td>0.498645</td>\n",
       "    </tr>\n",
       "    <tr>\n",
       "      <th>1986</th>\n",
       "      <td>0.604736</td>\n",
       "      <td>0.730783</td>\n",
       "      <td>0.745244</td>\n",
       "      <td>0.590975</td>\n",
       "      <td>0.527030</td>\n",
       "    </tr>\n",
       "    <tr>\n",
       "      <th>1987</th>\n",
       "      <td>0.578028</td>\n",
       "      <td>0.592829</td>\n",
       "      <td>0.717167</td>\n",
       "      <td>0.465001</td>\n",
       "      <td>0.459241</td>\n",
       "    </tr>\n",
       "  </tbody>\n",
       "</table>\n",
       "<p>1988 rows × 5 columns</p>\n",
       "</div>"
      ],
      "text/plain": [
       "          Open      High       Low     Close    Volume\n",
       "0     0.628837  0.624454  0.762813  0.481716  0.477806\n",
       "1     0.483934  0.452904  0.562512  0.372090  0.495330\n",
       "2     0.365368  0.395866  0.521416  0.389808  0.511561\n",
       "3     0.393783  0.604207  0.602162  0.502100  0.483822\n",
       "4     0.499932  0.521172  0.685990  0.479348  0.552040\n",
       "...        ...       ...       ...       ...       ...\n",
       "1983  0.104226  0.000000  0.441029  0.301715  0.416050\n",
       "1984  0.356038  0.577399  0.674126  0.610910  0.480508\n",
       "1985  0.609911  0.792185  0.750634  0.619940  0.498645\n",
       "1986  0.604736  0.730783  0.745244  0.590975  0.527030\n",
       "1987  0.578028  0.592829  0.717167  0.465001  0.459241\n",
       "\n",
       "[1988 rows x 5 columns]"
      ]
     },
     "execution_count": 142,
     "metadata": {},
     "output_type": "execute_result"
    }
   ],
   "source": [
    "#Numerical df\n",
    "df_num = Final_df[['Open','High','Low','Close','Volume']]\n",
    "df_num"
   ]
  },
  {
   "cell_type": "code",
   "execution_count": 143,
   "metadata": {
    "execution": {
     "iopub.execute_input": "2023-02-01T00:08:13.607633Z",
     "iopub.status.busy": "2023-02-01T00:08:13.606401Z",
     "iopub.status.idle": "2023-02-01T00:08:13.619904Z",
     "shell.execute_reply": "2023-02-01T00:08:13.618492Z",
     "shell.execute_reply.started": "2023-02-01T00:08:13.607575Z"
    }
   },
   "outputs": [],
   "source": [
    "#Create train, test data for df_num\n",
    "seq_len = 30 # choose sequence length\n",
    "test_set_size_percentage = 20\n",
    "x_train_num,y_train_num,x_test_num,y_test_num = load_data(df_num, seq_len)"
   ]
  },
  {
   "cell_type": "code",
   "execution_count": 144,
   "metadata": {
    "execution": {
     "iopub.execute_input": "2023-02-01T00:08:19.526890Z",
     "iopub.status.busy": "2023-02-01T00:08:19.526481Z",
     "iopub.status.idle": "2023-02-01T00:08:19.533390Z",
     "shell.execute_reply": "2023-02-01T00:08:19.532029Z",
     "shell.execute_reply.started": "2023-02-01T00:08:19.526855Z"
    }
   },
   "outputs": [
    {
     "name": "stdout",
     "output_type": "stream",
     "text": [
      "(1566, 30, 5) (1566, 300)\n",
      "(1566,) (1566,)\n",
      "(392, 30, 5) (392, 300)\n",
      "(392,) (392,)\n"
     ]
    }
   ],
   "source": [
    "#Check if num feature and text feature has the same shape\n",
    "print(x_train_num.shape, x_train_text.shape)\n",
    "print(y_train_num.shape, y_train_text.shape)\n",
    "print(x_test_num.shape, x_test_text.shape)\n",
    "print(y_test_num.shape, y_test_text.shape)"
   ]
  },
  {
   "cell_type": "code",
   "execution_count": 145,
   "metadata": {
    "execution": {
     "iopub.execute_input": "2023-02-01T00:08:30.006687Z",
     "iopub.status.busy": "2023-02-01T00:08:30.006268Z",
     "iopub.status.idle": "2023-02-01T00:08:30.016611Z",
     "shell.execute_reply": "2023-02-01T00:08:30.015363Z",
     "shell.execute_reply.started": "2023-02-01T00:08:30.006636Z"
    }
   },
   "outputs": [
    {
     "name": "stdout",
     "output_type": "stream",
     "text": [
      "0.2297373304687414 0.2297373304687414\n",
      "0.2976239871764512 0.2976239871764512\n"
     ]
    }
   ],
   "source": [
    "#Check if the target train, target test for num feature and text feature are the same\n",
    "print(y_train_text[0], y_train_num[0])\n",
    "print(y_test_text[0],y_test_num[0])\n"
   ]
  },
  {
   "cell_type": "code",
   "execution_count": 146,
   "metadata": {
    "execution": {
     "iopub.execute_input": "2023-02-01T00:08:49.537286Z",
     "iopub.status.busy": "2023-02-01T00:08:49.536520Z",
     "iopub.status.idle": "2023-02-01T00:08:55.240648Z",
     "shell.execute_reply": "2023-02-01T00:08:55.239506Z",
     "shell.execute_reply.started": "2023-02-01T00:08:49.537248Z"
    }
   },
   "outputs": [],
   "source": [
    "from numpy import array\n",
    "from numpy import asarray\n",
    "from numpy import zeros\n",
    "\n",
    "embeddings_dictionary = dict()\n",
    "glove_file = open('/kaggle/input/glove6b50dtxt/glove.6B.50d.txt', encoding=\"utf8\")\n",
    "\n",
    "for line in glove_file:\n",
    "    records = line.split()\n",
    "    word = records[0]\n",
    "    vector_dimensions = asarray(records[1:], dtype='float32')\n",
    "    embeddings_dictionary [word] = vector_dimensions\n",
    "glove_file.close()"
   ]
  },
  {
   "cell_type": "code",
   "execution_count": 147,
   "metadata": {
    "execution": {
     "iopub.execute_input": "2023-02-01T00:09:06.891178Z",
     "iopub.status.busy": "2023-02-01T00:09:06.890773Z",
     "iopub.status.idle": "2023-02-01T00:09:06.957736Z",
     "shell.execute_reply": "2023-02-01T00:09:06.956631Z",
     "shell.execute_reply.started": "2023-02-01T00:09:06.891144Z"
    }
   },
   "outputs": [],
   "source": [
    "embedding_matrix = zeros((vocab_size, 50))\n",
    "for word, index in tokenizer.word_index.items():\n",
    "    embedding_vector = embeddings_dictionary.get(word)\n",
    "    if embedding_vector is not None:\n",
    "        embedding_matrix[index] = embedding_vector"
   ]
  },
  {
   "cell_type": "code",
   "execution_count": 148,
   "metadata": {
    "execution": {
     "iopub.execute_input": "2023-02-01T00:09:09.785504Z",
     "iopub.status.busy": "2023-02-01T00:09:09.785138Z",
     "iopub.status.idle": "2023-02-01T00:09:09.793146Z",
     "shell.execute_reply": "2023-02-01T00:09:09.790982Z",
     "shell.execute_reply.started": "2023-02-01T00:09:09.785472Z"
    }
   },
   "outputs": [
    {
     "name": "stdout",
     "output_type": "stream",
     "text": [
      "30 5\n"
     ]
    }
   ],
   "source": [
    "print(x_train_num.shape[1], x_train_num.shape[2])"
   ]
  },
  {
   "cell_type": "code",
   "execution_count": 150,
   "metadata": {
    "execution": {
     "iopub.execute_input": "2023-02-01T00:09:38.653921Z",
     "iopub.status.busy": "2023-02-01T00:09:38.652585Z",
     "iopub.status.idle": "2023-02-01T00:09:38.944646Z",
     "shell.execute_reply": "2023-02-01T00:09:38.943591Z",
     "shell.execute_reply.started": "2023-02-01T00:09:38.653870Z"
    }
   },
   "outputs": [],
   "source": [
    "from keras.layers import Input, Dense, concatenate\n",
    "from keras.models import Model\n",
    "#Network for numerical \n",
    "num_input = Input(shape=(x_train_num.shape[1], x_train_num.shape[2]))\n",
    "text_input = Input(shape =(maxlen,))\n",
    "\n",
    "#Numerical branch\n",
    "layer1_num = LSTM(units = 32,activation ='relu',return_sequences = True,input_shape = (x_train_num.shape[1], x_train_num.shape[2]))(num_input)\n",
    "layer2_num = LSTM(units = 16, activation ='relu')(layer1_num)\n",
    "\n",
    "#Text branch\n",
    "embedding_layer = Embedding(vocab_size, 50, weights=[embedding_matrix], input_length=maxlen , trainable=False)(text_input)\n",
    "layer1_text = LSTM(32, activation='relu', return_sequences=True)(embedding_layer)\n",
    "layer2_text = LSTM(16, activation='relu')(layer1_text)\n",
    "\n",
    "#Concat 2 branches\n",
    "concat = concatenate([layer2_num,layer2_text])\n",
    "\n",
    "#Output\n",
    "output = Dense(units = 1)(concat)\n",
    "\n",
    "#Model\n",
    "model_ap4 = Model(inputs=[num_input, text_input], outputs =[output])\n",
    "\n",
    "# Compiling the RNN\n",
    "model_ap4.compile(optimizer = 'adam', loss = 'mean_squared_error', \n",
    "                     metrics = [tf.keras.metrics.RootMeanSquaredError()])"
   ]
  },
  {
   "cell_type": "code",
   "execution_count": 151,
   "metadata": {
    "execution": {
     "iopub.execute_input": "2023-02-01T00:09:42.588394Z",
     "iopub.status.busy": "2023-02-01T00:09:42.587355Z",
     "iopub.status.idle": "2023-02-01T00:09:42.597573Z",
     "shell.execute_reply": "2023-02-01T00:09:42.596207Z",
     "shell.execute_reply.started": "2023-02-01T00:09:42.588346Z"
    }
   },
   "outputs": [
    {
     "name": "stdout",
     "output_type": "stream",
     "text": [
      "Model: \"model\"\n",
      "__________________________________________________________________________________________________\n",
      "Layer (type)                    Output Shape         Param #     Connected to                     \n",
      "==================================================================================================\n",
      "input_4 (InputLayer)            [(None, 300)]        0                                            \n",
      "__________________________________________________________________________________________________\n",
      "input_3 (InputLayer)            [(None, 30, 5)]      0                                            \n",
      "__________________________________________________________________________________________________\n",
      "embedding (Embedding)           (None, 300, 50)      1782800     input_4[0][0]                    \n",
      "__________________________________________________________________________________________________\n",
      "lstm_2 (LSTM)                   (None, 30, 32)       4864        input_3[0][0]                    \n",
      "__________________________________________________________________________________________________\n",
      "lstm_4 (LSTM)                   (None, 300, 32)      10624       embedding[0][0]                  \n",
      "__________________________________________________________________________________________________\n",
      "lstm_3 (LSTM)                   (None, 16)           3136        lstm_2[0][0]                     \n",
      "__________________________________________________________________________________________________\n",
      "lstm_5 (LSTM)                   (None, 16)           3136        lstm_4[0][0]                     \n",
      "__________________________________________________________________________________________________\n",
      "concatenate (Concatenate)       (None, 32)           0           lstm_3[0][0]                     \n",
      "                                                                 lstm_5[0][0]                     \n",
      "__________________________________________________________________________________________________\n",
      "dense_12 (Dense)                (None, 1)            33          concatenate[0][0]                \n",
      "==================================================================================================\n",
      "Total params: 1,804,593\n",
      "Trainable params: 21,793\n",
      "Non-trainable params: 1,782,800\n",
      "__________________________________________________________________________________________________\n",
      "None\n"
     ]
    }
   ],
   "source": [
    "print(model_ap4.summary())"
   ]
  },
  {
   "cell_type": "code",
   "execution_count": 157,
   "metadata": {
    "execution": {
     "iopub.execute_input": "2023-02-01T00:21:58.251445Z",
     "iopub.status.busy": "2023-02-01T00:21:58.250584Z",
     "iopub.status.idle": "2023-02-01T00:47:09.498183Z",
     "shell.execute_reply": "2023-02-01T00:47:09.497158Z",
     "shell.execute_reply.started": "2023-02-01T00:21:58.251404Z"
    }
   },
   "outputs": [
    {
     "name": "stdout",
     "output_type": "stream",
     "text": [
      "Epoch 1/30\n",
      "40/40 [==============================] - 53s 1s/step - loss: 0.0063 - root_mean_squared_error: 0.0794 - val_loss: 0.0047 - val_root_mean_squared_error: 0.0683\n",
      "Epoch 2/30\n",
      "40/40 [==============================] - 51s 1s/step - loss: 0.0064 - root_mean_squared_error: 0.0799 - val_loss: 0.0038 - val_root_mean_squared_error: 0.0616\n",
      "Epoch 3/30\n",
      "40/40 [==============================] - 50s 1s/step - loss: 0.0063 - root_mean_squared_error: 0.0793 - val_loss: 0.0037 - val_root_mean_squared_error: 0.0612\n",
      "Epoch 4/30\n",
      "40/40 [==============================] - 52s 1s/step - loss: 0.0058 - root_mean_squared_error: 0.0759 - val_loss: 0.0039 - val_root_mean_squared_error: 0.0624\n",
      "Epoch 5/30\n",
      "40/40 [==============================] - 52s 1s/step - loss: 0.0058 - root_mean_squared_error: 0.0759 - val_loss: 0.0037 - val_root_mean_squared_error: 0.0607\n",
      "Epoch 6/30\n",
      "40/40 [==============================] - 50s 1s/step - loss: 0.0053 - root_mean_squared_error: 0.0729 - val_loss: 0.0044 - val_root_mean_squared_error: 0.0667\n",
      "Epoch 7/30\n",
      "40/40 [==============================] - 52s 1s/step - loss: 0.0055 - root_mean_squared_error: 0.0739 - val_loss: 0.0042 - val_root_mean_squared_error: 0.0647\n",
      "Epoch 8/30\n",
      "40/40 [==============================] - 51s 1s/step - loss: 0.0053 - root_mean_squared_error: 0.0730 - val_loss: 0.0036 - val_root_mean_squared_error: 0.0601\n",
      "Epoch 9/30\n",
      "40/40 [==============================] - 50s 1s/step - loss: 0.0050 - root_mean_squared_error: 0.0709 - val_loss: 0.0034 - val_root_mean_squared_error: 0.0587\n",
      "Epoch 10/30\n",
      "40/40 [==============================] - 51s 1s/step - loss: 0.0049 - root_mean_squared_error: 0.0702 - val_loss: 0.0034 - val_root_mean_squared_error: 0.0582\n",
      "Epoch 11/30\n",
      "40/40 [==============================] - 50s 1s/step - loss: 0.0046 - root_mean_squared_error: 0.0682 - val_loss: 0.0032 - val_root_mean_squared_error: 0.0565\n",
      "Epoch 12/30\n",
      "40/40 [==============================] - 51s 1s/step - loss: 0.0039 - root_mean_squared_error: 0.0622 - val_loss: 0.0019 - val_root_mean_squared_error: 0.0435\n",
      "Epoch 13/30\n",
      "40/40 [==============================] - 50s 1s/step - loss: 0.0022 - root_mean_squared_error: 0.0464 - val_loss: 0.0011 - val_root_mean_squared_error: 0.0334\n",
      "Epoch 14/30\n",
      "40/40 [==============================] - 50s 1s/step - loss: 0.0014 - root_mean_squared_error: 0.0369 - val_loss: 7.8359e-04 - val_root_mean_squared_error: 0.0280\n",
      "Epoch 15/30\n",
      "40/40 [==============================] - 50s 1s/step - loss: 0.0012 - root_mean_squared_error: 0.0346 - val_loss: 9.2511e-04 - val_root_mean_squared_error: 0.0304\n",
      "Epoch 16/30\n",
      "40/40 [==============================] - 50s 1s/step - loss: 0.0010 - root_mean_squared_error: 0.0319 - val_loss: 9.3962e-04 - val_root_mean_squared_error: 0.0307\n",
      "Epoch 17/30\n",
      "40/40 [==============================] - 50s 1s/step - loss: 8.6312e-04 - root_mean_squared_error: 0.0294 - val_loss: 5.3390e-04 - val_root_mean_squared_error: 0.0231\n",
      "Epoch 18/30\n",
      "40/40 [==============================] - 50s 1s/step - loss: 7.4547e-04 - root_mean_squared_error: 0.0273 - val_loss: 6.7715e-04 - val_root_mean_squared_error: 0.0260\n",
      "Epoch 19/30\n",
      "40/40 [==============================] - 50s 1s/step - loss: 7.1070e-04 - root_mean_squared_error: 0.0267 - val_loss: 4.1744e-04 - val_root_mean_squared_error: 0.0204\n",
      "Epoch 20/30\n",
      "40/40 [==============================] - 50s 1s/step - loss: 6.0701e-04 - root_mean_squared_error: 0.0246 - val_loss: 3.8691e-04 - val_root_mean_squared_error: 0.0197\n",
      "Epoch 21/30\n",
      "40/40 [==============================] - 49s 1s/step - loss: 5.4040e-04 - root_mean_squared_error: 0.0232 - val_loss: 3.5313e-04 - val_root_mean_squared_error: 0.0188\n",
      "Epoch 22/30\n",
      "40/40 [==============================] - 50s 1s/step - loss: 6.7143e-04 - root_mean_squared_error: 0.0259 - val_loss: 5.6343e-04 - val_root_mean_squared_error: 0.0237\n",
      "Epoch 23/30\n",
      "40/40 [==============================] - 50s 1s/step - loss: 5.3961e-04 - root_mean_squared_error: 0.0232 - val_loss: 3.1655e-04 - val_root_mean_squared_error: 0.0178\n",
      "Epoch 24/30\n",
      "40/40 [==============================] - 50s 1s/step - loss: 4.3167e-04 - root_mean_squared_error: 0.0208 - val_loss: 4.0462e-04 - val_root_mean_squared_error: 0.0201\n",
      "Epoch 25/30\n",
      "40/40 [==============================] - 50s 1s/step - loss: 4.4230e-04 - root_mean_squared_error: 0.0210 - val_loss: 3.8778e-04 - val_root_mean_squared_error: 0.0197\n",
      "Epoch 26/30\n",
      "40/40 [==============================] - 50s 1s/step - loss: 4.9611e-04 - root_mean_squared_error: 0.0223 - val_loss: 3.5600e-04 - val_root_mean_squared_error: 0.0189\n",
      "Epoch 27/30\n",
      "40/40 [==============================] - 50s 1s/step - loss: 3.6109e-04 - root_mean_squared_error: 0.0190 - val_loss: 2.6670e-04 - val_root_mean_squared_error: 0.0163\n",
      "Epoch 28/30\n",
      "40/40 [==============================] - 49s 1s/step - loss: 3.2996e-04 - root_mean_squared_error: 0.0182 - val_loss: 2.7452e-04 - val_root_mean_squared_error: 0.0166\n",
      "Epoch 29/30\n",
      "40/40 [==============================] - 51s 1s/step - loss: 3.2151e-04 - root_mean_squared_error: 0.0179 - val_loss: 2.9209e-04 - val_root_mean_squared_error: 0.0171\n",
      "Epoch 30/30\n",
      "40/40 [==============================] - 50s 1s/step - loss: 3.0908e-04 - root_mean_squared_error: 0.0176 - val_loss: 2.3252e-04 - val_root_mean_squared_error: 0.0152\n"
     ]
    }
   ],
   "source": [
    "history_ap4 = model_ap4.fit([x_train_num, x_train_text], y_train_num,validation_split = 0.2, epochs = 30,batch_size = 32)"
   ]
  },
  {
   "cell_type": "code",
   "execution_count": 158,
   "metadata": {
    "execution": {
     "iopub.execute_input": "2023-02-01T00:47:52.603547Z",
     "iopub.status.busy": "2023-02-01T00:47:52.603123Z",
     "iopub.status.idle": "2023-02-01T00:47:52.919497Z",
     "shell.execute_reply": "2023-02-01T00:47:52.918613Z",
     "shell.execute_reply.started": "2023-02-01T00:47:52.603508Z"
    }
   },
   "outputs": [
    {
     "data": {
      "image/png": "[encoded data removed]",
      "text/plain": [
       "<Figure size 432x288 with 1 Axes>"
      ]
     },
     "metadata": {
      "needs_background": "light"
     },
     "output_type": "display_data"
    }
   ],
   "source": [
    "plt.subplots()\n",
    "plt.plot(history_ap4.history['loss'])\n",
    "plt.plot(history_ap4.history['val_loss'])\n",
    "plt.title('model_ap4 loss')\n",
    "plt.ylabel('loss')\n",
    "plt.xlabel('epoch')\n",
    "plt.legend(['train', 'validation'])\n",
    "plt.show()"
   ]
  },
  {
   "cell_type": "code",
   "execution_count": 159,
   "metadata": {
    "execution": {
     "iopub.execute_input": "2023-02-01T00:49:32.917979Z",
     "iopub.status.busy": "2023-02-01T00:49:32.917583Z",
     "iopub.status.idle": "2023-02-01T00:49:34.153608Z",
     "shell.execute_reply": "2023-02-01T00:49:34.152657Z",
     "shell.execute_reply.started": "2023-02-01T00:49:32.917945Z"
    }
   },
   "outputs": [
    {
     "name": "stdout",
     "output_type": "stream",
     "text": [
      "13/13 [==============================] - 1s 90ms/step - loss: 5.8199e-04 - root_mean_squared_error: 0.0241\n"
     ]
    },
    {
     "data": {
      "text/plain": [
       "[0.000581994594540447, 0.024124564602971077]"
      ]
     },
     "execution_count": 159,
     "metadata": {},
     "output_type": "execute_result"
    }
   ],
   "source": [
    "score_ap4 = model_ap4.evaluate([x_test_num,x_test_text], y_test_num, verbose=1)\n",
    "score_ap4"
   ]
  },
  {
   "cell_type": "code",
   "execution_count": 169,
   "metadata": {
    "execution": {
     "iopub.execute_input": "2023-02-01T00:58:58.145559Z",
     "iopub.status.busy": "2023-02-01T00:58:58.145129Z",
     "iopub.status.idle": "2023-02-01T00:59:00.083478Z",
     "shell.execute_reply": "2023-02-01T00:59:00.082306Z",
     "shell.execute_reply.started": "2023-02-01T00:58:58.145495Z"
    }
   },
   "outputs": [],
   "source": [
    "pred_ap4 = model_ap4.predict([x_test_num, x_test_text])\n",
    "unnorm_predictions = []\n",
    "for pred in pred_ap4:\n",
    "    unnorm_predictions.append(unnormalize(pred))\n",
    "\n",
    "unnorm_y_test = []\n",
    "for y in y_test_num:\n",
    "    unnorm_y_test.append(unnormalize(y))\n"
   ]
  },
  {
   "cell_type": "code",
   "execution_count": 179,
   "metadata": {
    "execution": {
     "iopub.execute_input": "2023-02-01T01:00:03.178230Z",
     "iopub.status.busy": "2023-02-01T01:00:03.177440Z",
     "iopub.status.idle": "2023-02-01T01:00:03.457554Z",
     "shell.execute_reply": "2023-02-01T01:00:03.456561Z",
     "shell.execute_reply.started": "2023-02-01T01:00:03.178190Z"
    }
   },
   "outputs": [
    {
     "data": {
      "image/png": "[encoded data removed]",
      "text/plain": [
       "<Figure size 1440x360 with 1 Axes>"
      ]
     },
     "metadata": {
      "needs_background": "light"
     },
     "output_type": "display_data"
    }
   ],
   "source": [
    "plt.plot(unnorm_y_test, color = 'red', label = 'Real Price')\n",
    "plt.plot(unnorm_predictions, color = 'yellow', label = 'Predicted Price')\n",
    "plt.title('Stock Prediction')\n",
    "plt.xlabel('Time')\n",
    "plt.ylabel('Normalized Price')\n",
    "plt.rcParams[\"figure.figsize\"] = (10,5)\n",
    "plt.legend()\n",
    "plt.show()"
   ]
  },
  {
   "cell_type": "code",
   "execution_count": null,
   "metadata": {
    "execution": {
     "iopub.status.busy": "2023-01-31T23:24:53.741386Z",
     "iopub.status.idle": "2023-01-31T23:24:53.742309Z",
     "shell.execute_reply": "2023-01-31T23:24:53.742039Z",
     "shell.execute_reply.started": "2023-01-31T23:24:53.742011Z"
    }
   },
   "outputs": [],
   "source": [
    "# def build_model_3(hp):\n",
    "#     n_hidden = hp.Int(\"n_hidden\", min_value=1, max_value=12, default=2)\n",
    "#     n_neurons = hp.Int(\"n_neurons\", min_value=16, max_value=256)\n",
    "#     learning_rate = hp.Float(\"learning_rate\", min_value=1e-4, max_value=1e-4, sampling=\"log\")\n",
    "#     optimizer = hp.Choice(\"optimizer\", values=[\"sgd\", \"adam\"])\n",
    "#     if optimizer == \"sgd\":\n",
    "#         optimizer = tf.keras.optimizers.SGD(learning_rate=learning_rate)\n",
    "#     else:\n",
    "#         optimizer = tf.keras.optimizers.Adam(learning_rate=learning_rate)\n",
    "#     num_input = Input(shape=(x_train_num.shape[1], x_train_num.shape[2]))\n",
    "#     text_input = Input(shape =(maxlen,))\n",
    "#     #Numerical branch\n",
    "#     layer1_num = LSTM(units = 32,activation ='relu',return_sequences = True,input_shape = (x_train_num.shape[1], x_train.shape[2]))(num_input)\n",
    "#     layer2_num = LSTM(units = 16, activation ='relu')(layer1_num)\n",
    "#     #Text branch\n",
    "#     embedding_layer = Embedding(vocab_size, 50, weights=[embedding_matrix], input_length=maxlen , trainable=False)(text_input)\n",
    "#     layer1_text = LSTM(32, activation='relu', return_sequences=True)(embedding_layer)\n",
    "#     layer2_text = LSTM(16, activation='relu')(layer1_text)\n",
    "\n",
    "#     model.add(LSTM(16, activation='relu', return_sequences=True))\n",
    "#     model.add(LSTM(16, activation='relu'))\n",
    "#     for _ in range(n_hidden):\n",
    "#         model.add(tf.keras.layers.Dense(n_neurons, activation=\"relu\"))\n",
    "#     model.add(tf.keras.layers.Dense(1, activation=\"relu\"))\n",
    "#     model.compile(loss=\"mean_squared_error\", optimizer=optimizer, metrics=[tf.keras.metrics.RootMeanSquaredError()])\n",
    "#     return model"
   ]
  },
  {
   "cell_type": "code",
   "execution_count": null,
   "metadata": {
    "execution": {
     "iopub.status.busy": "2023-01-31T23:24:53.743888Z",
     "iopub.status.idle": "2023-01-31T23:24:53.744744Z",
     "shell.execute_reply": "2023-01-31T23:24:53.744466Z",
     "shell.execute_reply.started": "2023-01-31T23:24:53.744441Z"
    }
   },
   "outputs": [],
   "source": [
    "# random_search_tuner_ap4 = kt.RandomSearch(build_model_3, objective=\"val_loss\", max_trials=10, overwrite=True,\n",
    "# directory=\"model_ap4\", project_name=\"model_ap4\", seed=42)\n",
    "# random_search_tuner.search(x_train_num_1, y_train_num_1, epochs=10, validation_split = 0.2)\n",
    "# best_trial = random_search_tuner.oracle.get_best_trials(num_trials=1)[0]\n",
    "# best_trial.summary()"
   ]
  },
  {
   "cell_type": "code",
   "execution_count": null,
   "metadata": {
    "execution": {
     "iopub.status.busy": "2023-01-31T23:24:53.746325Z",
     "iopub.status.idle": "2023-01-31T23:24:53.747257Z",
     "shell.execute_reply": "2023-01-31T23:24:53.746986Z",
     "shell.execute_reply.started": "2023-01-31T23:24:53.746949Z"
    }
   },
   "outputs": [],
   "source": [
    "pred = model_4.predict([x_test_num, x_test_text])"
   ]
  },
  {
   "cell_type": "code",
   "execution_count": null,
   "metadata": {
    "execution": {
     "iopub.status.busy": "2023-01-31T23:24:53.748924Z",
     "iopub.status.idle": "2023-01-31T23:24:53.749837Z",
     "shell.execute_reply": "2023-01-31T23:24:53.749557Z",
     "shell.execute_reply.started": "2023-01-31T23:24:53.749531Z"
    }
   },
   "outputs": [],
   "source": [
    "unnorm_predictions = []\n",
    "for pred in pred:\n",
    "    unnorm_predictions.append(unnormalize(pred))\n",
    "    \n",
    "# store back-scaled actuals\n",
    "unnorm_y_test = []\n",
    "for y in y_test_num:\n",
    "    unnorm_y_test.append(unnormalize(y))"
   ]
  },
  {
   "cell_type": "code",
   "execution_count": null,
   "metadata": {
    "execution": {
     "iopub.status.busy": "2023-01-31T23:24:53.751352Z",
     "iopub.status.idle": "2023-01-31T23:24:53.752280Z",
     "shell.execute_reply": "2023-01-31T23:24:53.752006Z",
     "shell.execute_reply.started": "2023-01-31T23:24:53.751978Z"
    }
   },
   "outputs": [],
   "source": [
    "plt.subplots() # open a new plot\n",
    "plt.plot(history.history['loss'])\n",
    "plt.plot(history.history['val_loss'])\n",
    "plt.title('model loss without dropout')\n",
    "plt.ylabel('loss')\n",
    "plt.xlabel('epoch')\n",
    "plt.legend(['train', 'validation'])\n",
    "plt.show()"
   ]
  },
  {
   "cell_type": "code",
   "execution_count": null,
   "metadata": {
    "execution": {
     "iopub.status.busy": "2023-01-31T23:24:53.754053Z",
     "iopub.status.idle": "2023-01-31T23:24:53.754926Z",
     "shell.execute_reply": "2023-01-31T23:24:53.754684Z",
     "shell.execute_reply.started": "2023-01-31T23:24:53.754641Z"
    }
   },
   "outputs": [],
   "source": [
    "plt.plot(unnorm_y_test, color = 'red', label = 'Real Price')\n",
    "plt.plot(unnorm_predictions, color = 'blue', label = 'Predicted Price')\n",
    "plt.title('Stock Prediction')\n",
    "plt.xlabel('Time')\n",
    "plt.ylabel('Normalized Price')\n",
    "plt.legend()\n",
    "plt.show()"
   ]
  },
  {
   "cell_type": "code",
   "execution_count": null,
   "metadata": {
    "execution": {
     "iopub.status.busy": "2023-01-31T23:24:53.756430Z",
     "iopub.status.idle": "2023-01-31T23:24:53.757286Z",
     "shell.execute_reply": "2023-01-31T23:24:53.757037Z",
     "shell.execute_reply.started": "2023-01-31T23:24:53.757012Z"
    }
   },
   "outputs": [],
   "source": [
    "# TEST 2, adding dropout \n",
    "#Network for numerical \n",
    "num_input = Input(shape=(x_train_num.shape[1], x_train_num.shape[2]))\n",
    "text_input = Input(shape =(maxlen,))\n",
    "\n",
    "#Numerical branch\n",
    "layer1_num = LSTM(units = 32,activation ='relu',return_sequences = True,input_shape = (x_train_num.shape[1], x_train.shape[2]))(num_input)\n",
    "Dropout(0.2)(layer1_num)\n",
    "layer2_num = LSTM(units = 16, activation ='relu')(layer1_num)\n",
    "Dropout(0.2)(layer2_num)\n",
    "\n",
    "#Text branch\n",
    "embedding_layer = Embedding(vocab_size, 50, weights=[embedding_matrix], input_length=maxlen , trainable=False)(text_input)\n",
    "layer1_text = LSTM(32, activation='relu', return_sequences=True)(embedding_layer)\n",
    "Dropout(0.2)(layer1_text)\n",
    "layer2_text = LSTM(16, activation='relu')(layer1_text)\n",
    "Dropout(0.2)(layer2_text)\n",
    "\n",
    "#Concat 2 branches\n",
    "concat = concatenate([layer2_num,layer2_text])\n",
    "\n",
    "#Output\n",
    "output = Dense(units = 1)(concat)\n",
    "\n",
    "#Model\n",
    "model_5 = Model(inputs=[num_input, text_input], outputs =[output])\n",
    "\n",
    "# Compiling the RNN\n",
    "model_5.compile(optimizer = 'adam', loss = 'mean_squared_error', \n",
    "                     metrics = [tf.keras.metrics.RootMeanSquaredError()])"
   ]
  },
  {
   "cell_type": "code",
   "execution_count": null,
   "metadata": {
    "execution": {
     "iopub.status.busy": "2023-01-31T23:24:53.758896Z",
     "iopub.status.idle": "2023-01-31T23:24:53.759795Z",
     "shell.execute_reply": "2023-01-31T23:24:53.759513Z",
     "shell.execute_reply.started": "2023-01-31T23:24:53.759476Z"
    }
   },
   "outputs": [],
   "source": [
    "print(model_5.summary())"
   ]
  },
  {
   "cell_type": "code",
   "execution_count": null,
   "metadata": {
    "execution": {
     "iopub.status.busy": "2023-01-31T23:24:53.761418Z",
     "iopub.status.idle": "2023-01-31T23:24:53.762355Z",
     "shell.execute_reply": "2023-01-31T23:24:53.762090Z",
     "shell.execute_reply.started": "2023-01-31T23:24:53.762060Z"
    }
   },
   "outputs": [],
   "source": [
    "#Increase the number of epoch with no change\n",
    "history = model_5.fit([x_train_num, x_train_text], y_train_num,validation_split = 0.2, epochs = 10,batch_size = 32)\n"
   ]
  },
  {
   "cell_type": "code",
   "execution_count": null,
   "metadata": {
    "execution": {
     "iopub.status.busy": "2023-01-31T23:24:53.763936Z",
     "iopub.status.idle": "2023-01-31T23:24:53.764876Z",
     "shell.execute_reply": "2023-01-31T23:24:53.764567Z",
     "shell.execute_reply.started": "2023-01-31T23:24:53.764542Z"
    }
   },
   "outputs": [],
   "source": [
    "score = model_5.evaluate([x_test_num,x_test_text], y_test_num, verbose=1)\n",
    "score"
   ]
  },
  {
   "cell_type": "code",
   "execution_count": null,
   "metadata": {
    "execution": {
     "iopub.status.busy": "2023-01-31T23:24:53.766469Z",
     "iopub.status.idle": "2023-01-31T23:24:53.767377Z",
     "shell.execute_reply": "2023-01-31T23:24:53.767114Z",
     "shell.execute_reply.started": "2023-01-31T23:24:53.767070Z"
    }
   },
   "outputs": [],
   "source": [
    "plt.subplots() # open a new plot\n",
    "plt.plot(history.history['loss'])\n",
    "plt.plot(history.history['val_loss'])\n",
    "plt.title('model loss with dropout')\n",
    "plt.ylabel('loss')\n",
    "plt.xlabel('epoch')\n",
    "plt.legend(['train', 'validation'])\n",
    "plt.show()"
   ]
  },
  {
   "cell_type": "markdown",
   "metadata": {},
   "source": [
    "Model validation loss is consistently lower than train loss => underfitting model"
   ]
  },
  {
   "cell_type": "code",
   "execution_count": null,
   "metadata": {
    "execution": {
     "iopub.status.busy": "2023-01-31T23:24:53.768975Z",
     "iopub.status.idle": "2023-01-31T23:24:53.769893Z",
     "shell.execute_reply": "2023-01-31T23:24:53.769613Z",
     "shell.execute_reply.started": "2023-01-31T23:24:53.769574Z"
    }
   },
   "outputs": [],
   "source": [
    "pred = model_5.predict([x_test_num, x_test_text])"
   ]
  },
  {
   "cell_type": "code",
   "execution_count": null,
   "metadata": {
    "execution": {
     "iopub.status.busy": "2023-01-31T23:24:53.771534Z",
     "iopub.status.idle": "2023-01-31T23:24:53.772487Z",
     "shell.execute_reply": "2023-01-31T23:24:53.772211Z",
     "shell.execute_reply.started": "2023-01-31T23:24:53.772181Z"
    }
   },
   "outputs": [],
   "source": [
    "unnorm_predictions = []\n",
    "for pred in pred:\n",
    "    unnorm_predictions.append(unnormalize(pred))\n",
    "    \n",
    "# store back-scaled actuals\n",
    "unnorm_y_test = []\n",
    "for y in y_test_num:\n",
    "    unnorm_y_test.append(unnormalize(y))"
   ]
  },
  {
   "cell_type": "code",
   "execution_count": null,
   "metadata": {
    "execution": {
     "iopub.status.busy": "2023-01-31T23:24:53.774121Z",
     "iopub.status.idle": "2023-01-31T23:24:53.774963Z",
     "shell.execute_reply": "2023-01-31T23:24:53.774721Z",
     "shell.execute_reply.started": "2023-01-31T23:24:53.774694Z"
    }
   },
   "outputs": [],
   "source": [
    "plt.plot(unnorm_y_test, color = 'red', label = 'Real Price')\n",
    "plt.plot(unnorm_predictions, color = 'green', label = 'Predicted Price')\n",
    "plt.title('Stock Prediction')\n",
    "plt.xlabel('Time')\n",
    "plt.ylabel('Normalized Price')\n",
    "plt.legend()\n",
    "plt.show()"
   ]
  },
  {
   "cell_type": "markdown",
   "metadata": {},
   "source": [
    "Solving underfitting:\n",
    "* Increase the number of epoch + using early stopping (avoid overfitting)\n",
    "* Increase the number of node"
   ]
  },
  {
   "cell_type": "code",
   "execution_count": null,
   "metadata": {
    "execution": {
     "iopub.status.busy": "2023-01-31T23:24:53.776491Z",
     "iopub.status.idle": "2023-01-31T23:24:53.777353Z",
     "shell.execute_reply": "2023-01-31T23:24:53.777105Z",
     "shell.execute_reply.started": "2023-01-31T23:24:53.777079Z"
    }
   },
   "outputs": [],
   "source": [
    "from keras.layers import Input, Dense, concatenate\n",
    "from keras.models import Model\n",
    "#Network for numerical \n",
    "num_input = Input(shape=(x_train_num.shape[1], x_train_num.shape[2]))\n",
    "text_input = Input(shape =(maxlen,))\n",
    "\n",
    "#Numerical branch\n",
    "layer1_num = LSTM(units = 64,activation ='relu',return_sequences = True,input_shape = (x_train_num.shape[1], x_train.shape[2]))(num_input)\n",
    "layer2_num = LSTM(units = 32, activation ='relu')(layer1_num)\n",
    "\n",
    "#Text branch\n",
    "embedding_layer = Embedding(vocab_size, 50, weights=[embedding_matrix], input_length=maxlen , trainable=False)(text_input)\n",
    "layer1_text = LSTM(64, activation='relu', return_sequences=True)(embedding_layer)\n",
    "layer2_text = LSTM(32, activation='relu')(layer1_text)\n",
    "\n",
    "#Concat 2 branches\n",
    "concat = concatenate([layer2_num,layer2_text])\n",
    "# layer3 = LSTM(64, activation='relu')(concat)\n",
    "\n",
    "#Output\n",
    "output = Dense(units = 1)(concat)\n",
    "\n",
    "#Model\n",
    "model_6 = Model(inputs=[num_input, text_input], outputs =[output])\n",
    "\n",
    "# Compiling the RNN\n",
    "model_6.compile(optimizer = 'adam', loss = 'mean_squared_error', \n",
    "                     metrics = [tf.keras.metrics.RootMeanSquaredError()])"
   ]
  },
  {
   "cell_type": "code",
   "execution_count": null,
   "metadata": {
    "execution": {
     "iopub.status.busy": "2023-01-31T23:24:53.778911Z",
     "iopub.status.idle": "2023-01-31T23:24:53.779820Z",
     "shell.execute_reply": "2023-01-31T23:24:53.779533Z",
     "shell.execute_reply.started": "2023-01-31T23:24:53.779505Z"
    }
   },
   "outputs": [],
   "source": [
    "from keras.callbacks import EarlyStopping\n",
    "\n",
    "early_stopping = EarlyStopping(monitor='val_loss', patience=5)\n",
    "\n",
    "model_6.fit([x_train_num,x_train_text], y_train_num, epochs=100, validation_split = 0.2, callbacks=[early_stopping])"
   ]
  },
  {
   "cell_type": "code",
   "execution_count": null,
   "metadata": {
    "execution": {
     "iopub.status.busy": "2023-01-31T23:24:53.781385Z",
     "iopub.status.idle": "2023-01-31T23:24:53.782338Z",
     "shell.execute_reply": "2023-01-31T23:24:53.782076Z",
     "shell.execute_reply.started": "2023-01-31T23:24:53.782048Z"
    }
   },
   "outputs": [],
   "source": [
    "score = model_6.evaluate([x_test_num,x_test_text], y_test_num, verbose=1)\n",
    "score"
   ]
  },
  {
   "cell_type": "code",
   "execution_count": null,
   "metadata": {
    "execution": {
     "iopub.status.busy": "2023-01-31T23:24:53.783945Z",
     "iopub.status.idle": "2023-01-31T23:24:53.784810Z",
     "shell.execute_reply": "2023-01-31T23:24:53.784529Z",
     "shell.execute_reply.started": "2023-01-31T23:24:53.784503Z"
    }
   },
   "outputs": [],
   "source": [
    "# keras.utils.plot_model(model_6, \"model.png\", show_shapes=True)"
   ]
  },
  {
   "cell_type": "code",
   "execution_count": null,
   "metadata": {
    "execution": {
     "iopub.status.busy": "2023-01-31T23:24:53.786482Z",
     "iopub.status.idle": "2023-01-31T23:24:53.787454Z",
     "shell.execute_reply": "2023-01-31T23:24:53.787200Z",
     "shell.execute_reply.started": "2023-01-31T23:24:53.787173Z"
    }
   },
   "outputs": [],
   "source": [
    "plt.subplots() # open a new plot\n",
    "plt.plot(history.history['loss'])\n",
    "plt.plot(history.history['val_loss'])\n",
    "plt.title('model loss with dropout')\n",
    "plt.ylabel('loss')\n",
    "plt.xlabel('epoch')\n",
    "plt.legend(['train', 'validation'])\n",
    "plt.show()"
   ]
  },
  {
   "cell_type": "markdown",
   "metadata": {},
   "source": [
    "MODEL 7\n",
    "Adding drop out to model 6"
   ]
  },
  {
   "cell_type": "code",
   "execution_count": null,
   "metadata": {
    "execution": {
     "iopub.status.busy": "2023-01-31T23:24:53.789158Z",
     "iopub.status.idle": "2023-01-31T23:24:53.790197Z",
     "shell.execute_reply": "2023-01-31T23:24:53.789802Z",
     "shell.execute_reply.started": "2023-01-31T23:24:53.789775Z"
    }
   },
   "outputs": [],
   "source": [
    "# TEST 2, adding dropout \n",
    "#Network for numerical \n",
    "num_input = Input(shape=(x_train_num.shape[1], x_train_num.shape[2]))\n",
    "text_input = Input(shape =(maxlen,))\n",
    "\n",
    "#Numerical branch\n",
    "layer1_num = LSTM(units = 64,activation ='relu',return_sequences = True,input_shape = (x_train_num.shape[1], x_train.shape[2]))(num_input)\n",
    "Dropout(0.2)(layer1_num)\n",
    "layer2_num = LSTM(units = 32, activation ='relu')(layer1_num)\n",
    "Dropout(0.2)(layer2_num)\n",
    "\n",
    "#Text branch\n",
    "embedding_layer = Embedding(vocab_size, 50, weights=[embedding_matrix], input_length=maxlen , trainable=False)(text_input)\n",
    "layer1_text = LSTM(64, activation='relu', return_sequences=True)(embedding_layer)\n",
    "Dropout(0.2)(layer1_text)\n",
    "layer2_text = LSTM(32, activation='relu')(layer1_text)\n",
    "Dropout(0.2)(layer2_text)\n",
    "\n",
    "#Concat 2 branches\n",
    "concat = concatenate([layer2_num,layer2_text])\n",
    "\n",
    "#Output\n",
    "output = Dense(units = 1)(concat)\n",
    "\n",
    "#Model\n",
    "model_7 = Model(inputs=[num_input, text_input], outputs =[output])\n",
    "\n",
    "# Compiling the RNN\n",
    "model_7.compile(optimizer = 'adam', loss = 'mean_squared_error', \n",
    "                     metrics = [tf.keras.metrics.RootMeanSquaredError()])"
   ]
  },
  {
   "cell_type": "code",
   "execution_count": null,
   "metadata": {
    "execution": {
     "iopub.status.busy": "2023-01-31T23:24:53.791880Z",
     "iopub.status.idle": "2023-01-31T23:24:53.792816Z",
     "shell.execute_reply": "2023-01-31T23:24:53.792512Z",
     "shell.execute_reply.started": "2023-01-31T23:24:53.792474Z"
    }
   },
   "outputs": [],
   "source": [
    "from keras.callbacks import EarlyStopping\n",
    "\n",
    "early_stopping = EarlyStopping(monitor='val_loss', patience=5)\n",
    "\n",
    "history = model_7.fit([x_train_num,x_train_text], y_train_num, epochs=30, validation_data = ([x_test_num, x_test_text],y_test_num), callbacks=[early_stopping])"
   ]
  },
  {
   "cell_type": "code",
   "execution_count": null,
   "metadata": {
    "execution": {
     "iopub.status.busy": "2023-01-31T23:24:53.794620Z",
     "iopub.status.idle": "2023-01-31T23:24:53.795496Z",
     "shell.execute_reply": "2023-01-31T23:24:53.795236Z",
     "shell.execute_reply.started": "2023-01-31T23:24:53.795209Z"
    }
   },
   "outputs": [],
   "source": [
    "plt.subplots() # open a new plot\n",
    "plt.plot(history.history['loss'])\n",
    "plt.plot(history.history['val_loss'])\n",
    "plt.title('model_7-loss with dropout')\n",
    "plt.ylabel('loss')\n",
    "plt.xlabel('epoch')\n",
    "plt.legend(['train', 'validation'])\n",
    "plt.show()"
   ]
  },
  {
   "cell_type": "code",
   "execution_count": null,
   "metadata": {},
   "outputs": [],
   "source": []
  }
 ],
 "metadata": {
  "kernelspec": {
   "display_name": "Python 3 (ipykernel)",
   "language": "python",
   "name": "python3"
  },
  "language_info": {
   "codemirror_mode": {
    "name": "ipython",
    "version": 3
   },
   "file_extension": ".py",
   "mimetype": "text/x-python",
   "name": "python",
   "nbconvert_exporter": "python",
   "pygments_lexer": "ipython3",
   "version": "3.9.12"
  }
 },
 "nbformat": 4,
 "nbformat_minor": 4
}
